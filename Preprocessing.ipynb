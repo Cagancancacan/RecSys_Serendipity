{
 "cells": [
  {
   "cell_type": "code",
   "execution_count": 1,
   "metadata": {
    "collapsed": true
   },
   "outputs": [],
   "source": [
    "from IPython.display import display\n",
    "import pandas as pd\n",
    "\n",
    "data_folder = \"./ml-20m\"\n",
    "\n",
    "ratings_df = pd.read_csv(data_folder + \"/ratings.csv\")\n",
    "movies_df = pd.read_csv(data_folder + \"/movies.csv\")\n",
    "\n",
    "ratings_df = ratings_df.rename(columns={'userId': 'user', 'movieId': 'item'})\n",
    "movies_df = movies_df.rename(columns={'movieId': 'item', 'title': 'title_original'})"
   ]
  },
  {
   "cell_type": "code",
   "execution_count": 2,
   "outputs": [
    {
     "data": {
      "text/plain": "            user   item  rating   timestamp\n0              1      2     3.5  1112486027\n1              1     29     3.5  1112484676\n2              1     32     3.5  1112484819\n3              1     47     3.5  1112484727\n4              1     50     3.5  1112484580\n...          ...    ...     ...         ...\n20000258  138493  68954     4.5  1258126920\n20000259  138493  69526     4.5  1259865108\n20000260  138493  69644     3.0  1260209457\n20000261  138493  70286     5.0  1258126944\n20000262  138493  71619     2.5  1255811136\n\n[20000263 rows x 4 columns]",
      "text/html": "<div>\n<style scoped>\n    .dataframe tbody tr th:only-of-type {\n        vertical-align: middle;\n    }\n\n    .dataframe tbody tr th {\n        vertical-align: top;\n    }\n\n    .dataframe thead th {\n        text-align: right;\n    }\n</style>\n<table border=\"1\" class=\"dataframe\">\n  <thead>\n    <tr style=\"text-align: right;\">\n      <th></th>\n      <th>user</th>\n      <th>item</th>\n      <th>rating</th>\n      <th>timestamp</th>\n    </tr>\n  </thead>\n  <tbody>\n    <tr>\n      <th>0</th>\n      <td>1</td>\n      <td>2</td>\n      <td>3.5</td>\n      <td>1112486027</td>\n    </tr>\n    <tr>\n      <th>1</th>\n      <td>1</td>\n      <td>29</td>\n      <td>3.5</td>\n      <td>1112484676</td>\n    </tr>\n    <tr>\n      <th>2</th>\n      <td>1</td>\n      <td>32</td>\n      <td>3.5</td>\n      <td>1112484819</td>\n    </tr>\n    <tr>\n      <th>3</th>\n      <td>1</td>\n      <td>47</td>\n      <td>3.5</td>\n      <td>1112484727</td>\n    </tr>\n    <tr>\n      <th>4</th>\n      <td>1</td>\n      <td>50</td>\n      <td>3.5</td>\n      <td>1112484580</td>\n    </tr>\n    <tr>\n      <th>...</th>\n      <td>...</td>\n      <td>...</td>\n      <td>...</td>\n      <td>...</td>\n    </tr>\n    <tr>\n      <th>20000258</th>\n      <td>138493</td>\n      <td>68954</td>\n      <td>4.5</td>\n      <td>1258126920</td>\n    </tr>\n    <tr>\n      <th>20000259</th>\n      <td>138493</td>\n      <td>69526</td>\n      <td>4.5</td>\n      <td>1259865108</td>\n    </tr>\n    <tr>\n      <th>20000260</th>\n      <td>138493</td>\n      <td>69644</td>\n      <td>3.0</td>\n      <td>1260209457</td>\n    </tr>\n    <tr>\n      <th>20000261</th>\n      <td>138493</td>\n      <td>70286</td>\n      <td>5.0</td>\n      <td>1258126944</td>\n    </tr>\n    <tr>\n      <th>20000262</th>\n      <td>138493</td>\n      <td>71619</td>\n      <td>2.5</td>\n      <td>1255811136</td>\n    </tr>\n  </tbody>\n</table>\n<p>20000263 rows × 4 columns</p>\n</div>"
     },
     "metadata": {},
     "output_type": "display_data"
    }
   ],
   "source": [
    "def compute_title_year(row):\n",
    "    # read the title of the specified row, and cast it to the str type,\n",
    "    # then use the strip() method to eliminate the spaces from the beginning and the end of the string\n",
    "    title_original = str(row['title_original']).strip()\n",
    "\n",
    "    # select the substring from the fifth-to-last (included) character to the last (excluded)\n",
    "    year = title_original[-5:-1]\n",
    "\n",
    "    # use the isdigit method to determine if the substring selected is a number\n",
    "    if year.isdigit():\n",
    "        # remove the year from the title\n",
    "        # select the substring from the beninning to the sixth-to-last (excluded)\n",
    "        # then use the strip() method to remove spaces at the beginning and at the end of the string\n",
    "        # finally, use the lower() method to obtain the title in lower case\n",
    "        title = title_original[:-6].strip().lower()\n",
    "\n",
    "        # return the year and the title\n",
    "        return int(year), title\n",
    "    else:\n",
    "        # nothing to do, return 0 as year and the title\n",
    "        return 0, title_original.lower()\n",
    "\n",
    "\n",
    "movies_df[['year', 'title']] = movies_df.apply(compute_title_year, axis=1, result_type='expand')\n",
    "\n",
    "display(ratings_df)"
   ],
   "metadata": {
    "collapsed": false,
    "pycharm": {
     "name": "#%%\n"
    }
   }
  },
  {
   "cell_type": "code",
   "execution_count": 17,
   "outputs": [
    {
     "name": "stdout",
     "output_type": "stream",
     "text": [
      "item         144.41353\n",
      "rating       144.41353\n",
      "timestamp    144.41353\n",
      "dtype: float64\n"
     ]
    },
    {
     "data": {
      "text/plain": "        item  rating  timestamp\nuser                           \n1        175     175        175\n3        187     187        187\n7        276     276        276\n11       504     504        504\n14       243     243        243\n...      ...     ...        ...\n138483   276     276        276\n138484   148     148        148\n138486   193     193        193\n138490   151     151        151\n138493   373     373        373\n\n[36967 rows x 3 columns]",
      "text/html": "<div>\n<style scoped>\n    .dataframe tbody tr th:only-of-type {\n        vertical-align: middle;\n    }\n\n    .dataframe tbody tr th {\n        vertical-align: top;\n    }\n\n    .dataframe thead th {\n        text-align: right;\n    }\n</style>\n<table border=\"1\" class=\"dataframe\">\n  <thead>\n    <tr style=\"text-align: right;\">\n      <th></th>\n      <th>item</th>\n      <th>rating</th>\n      <th>timestamp</th>\n    </tr>\n    <tr>\n      <th>user</th>\n      <th></th>\n      <th></th>\n      <th></th>\n    </tr>\n  </thead>\n  <tbody>\n    <tr>\n      <th>1</th>\n      <td>175</td>\n      <td>175</td>\n      <td>175</td>\n    </tr>\n    <tr>\n      <th>3</th>\n      <td>187</td>\n      <td>187</td>\n      <td>187</td>\n    </tr>\n    <tr>\n      <th>7</th>\n      <td>276</td>\n      <td>276</td>\n      <td>276</td>\n    </tr>\n    <tr>\n      <th>11</th>\n      <td>504</td>\n      <td>504</td>\n      <td>504</td>\n    </tr>\n    <tr>\n      <th>14</th>\n      <td>243</td>\n      <td>243</td>\n      <td>243</td>\n    </tr>\n    <tr>\n      <th>...</th>\n      <td>...</td>\n      <td>...</td>\n      <td>...</td>\n    </tr>\n    <tr>\n      <th>138483</th>\n      <td>276</td>\n      <td>276</td>\n      <td>276</td>\n    </tr>\n    <tr>\n      <th>138484</th>\n      <td>148</td>\n      <td>148</td>\n      <td>148</td>\n    </tr>\n    <tr>\n      <th>138486</th>\n      <td>193</td>\n      <td>193</td>\n      <td>193</td>\n    </tr>\n    <tr>\n      <th>138490</th>\n      <td>151</td>\n      <td>151</td>\n      <td>151</td>\n    </tr>\n    <tr>\n      <th>138493</th>\n      <td>373</td>\n      <td>373</td>\n      <td>373</td>\n    </tr>\n  </tbody>\n</table>\n<p>36967 rows × 3 columns</p>\n</div>"
     },
     "metadata": {},
     "output_type": "display_data"
    }
   ],
   "source": [
    "\n",
    "count_ratings = ratings_df.groupby(['user']).count()\n",
    "mean_num_ratings = count_ratings['rating'].mean()\n",
    "print(count_ratings.mean())\n",
    "expert_users = count_ratings.loc[count_ratings['rating'] > mean_num_ratings]\n",
    "# an extra comment to push lol\n",
    "display(expert_users)"
   ],
   "metadata": {
    "collapsed": false,
    "pycharm": {
     "name": "#%%\n"
    }
   }
  }
 ],
 "metadata": {
  "kernelspec": {
   "display_name": "Python 3",
   "language": "python",
   "name": "python3"
  },
  "language_info": {
   "codemirror_mode": {
    "name": "ipython",
    "version": 2
   },
   "file_extension": ".py",
   "mimetype": "text/x-python",
   "name": "python",
   "nbconvert_exporter": "python",
   "pygments_lexer": "ipython2",
   "version": "2.7.6"
  }
 },
 "nbformat": 4,
 "nbformat_minor": 0
}