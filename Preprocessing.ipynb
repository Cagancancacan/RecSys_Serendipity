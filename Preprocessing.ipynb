{
 "cells": [
  {
   "cell_type": "code",
   "execution_count": 2,
   "metadata": {
    "collapsed": false,
    "pycharm": {
     "name": "#%% LOADING DATA AND CREATING DATAFRAMES\n"
    }
   },
   "outputs": [
    {
     "data": {
      "text/plain": "       movie_id                               title  \\\n0             1                    Toy Story (1995)   \n1             2                      Jumanji (1995)   \n2             3             Grumpier Old Men (1995)   \n3             4            Waiting to Exhale (1995)   \n4             5  Father of the Bride Part II (1995)   \n...         ...                                 ...   \n27273    131254        Kein Bund für's Leben (2007)   \n27274    131256       Feuer, Eis & Dosenbier (2002)   \n27275    131258                  The Pirates (2014)   \n27276    131260                 Rentun Ruusu (2001)   \n27277    131262                    Innocence (2014)   \n\n                                            genres  \n0      Adventure|Animation|Children|Comedy|Fantasy  \n1                       Adventure|Children|Fantasy  \n2                                   Comedy|Romance  \n3                             Comedy|Drama|Romance  \n4                                           Comedy  \n...                                            ...  \n27273                                       Comedy  \n27274                                       Comedy  \n27275                                    Adventure  \n27276                           (no genres listed)  \n27277                     Adventure|Fantasy|Horror  \n\n[27278 rows x 3 columns]",
      "text/html": "<div>\n<style scoped>\n    .dataframe tbody tr th:only-of-type {\n        vertical-align: middle;\n    }\n\n    .dataframe tbody tr th {\n        vertical-align: top;\n    }\n\n    .dataframe thead th {\n        text-align: right;\n    }\n</style>\n<table border=\"1\" class=\"dataframe\">\n  <thead>\n    <tr style=\"text-align: right;\">\n      <th></th>\n      <th>movie_id</th>\n      <th>title</th>\n      <th>genres</th>\n    </tr>\n  </thead>\n  <tbody>\n    <tr>\n      <th>0</th>\n      <td>1</td>\n      <td>Toy Story (1995)</td>\n      <td>Adventure|Animation|Children|Comedy|Fantasy</td>\n    </tr>\n    <tr>\n      <th>1</th>\n      <td>2</td>\n      <td>Jumanji (1995)</td>\n      <td>Adventure|Children|Fantasy</td>\n    </tr>\n    <tr>\n      <th>2</th>\n      <td>3</td>\n      <td>Grumpier Old Men (1995)</td>\n      <td>Comedy|Romance</td>\n    </tr>\n    <tr>\n      <th>3</th>\n      <td>4</td>\n      <td>Waiting to Exhale (1995)</td>\n      <td>Comedy|Drama|Romance</td>\n    </tr>\n    <tr>\n      <th>4</th>\n      <td>5</td>\n      <td>Father of the Bride Part II (1995)</td>\n      <td>Comedy</td>\n    </tr>\n    <tr>\n      <th>...</th>\n      <td>...</td>\n      <td>...</td>\n      <td>...</td>\n    </tr>\n    <tr>\n      <th>27273</th>\n      <td>131254</td>\n      <td>Kein Bund für's Leben (2007)</td>\n      <td>Comedy</td>\n    </tr>\n    <tr>\n      <th>27274</th>\n      <td>131256</td>\n      <td>Feuer, Eis &amp; Dosenbier (2002)</td>\n      <td>Comedy</td>\n    </tr>\n    <tr>\n      <th>27275</th>\n      <td>131258</td>\n      <td>The Pirates (2014)</td>\n      <td>Adventure</td>\n    </tr>\n    <tr>\n      <th>27276</th>\n      <td>131260</td>\n      <td>Rentun Ruusu (2001)</td>\n      <td>(no genres listed)</td>\n    </tr>\n    <tr>\n      <th>27277</th>\n      <td>131262</td>\n      <td>Innocence (2014)</td>\n      <td>Adventure|Fantasy|Horror</td>\n    </tr>\n  </tbody>\n</table>\n<p>27278 rows × 3 columns</p>\n</div>"
     },
     "metadata": {},
     "output_type": "display_data"
    },
    {
     "data": {
      "text/plain": "          user_id  movie_id  rating\n0               1         2     3.5\n1               1        29     3.5\n2               1        32     3.5\n3               1        47     3.5\n4               1        50     3.5\n...           ...       ...     ...\n20000258   138493     68954     4.5\n20000259   138493     69526     4.5\n20000260   138493     69644     3.0\n20000261   138493     70286     5.0\n20000262   138493     71619     2.5\n\n[20000263 rows x 3 columns]",
      "text/html": "<div>\n<style scoped>\n    .dataframe tbody tr th:only-of-type {\n        vertical-align: middle;\n    }\n\n    .dataframe tbody tr th {\n        vertical-align: top;\n    }\n\n    .dataframe thead th {\n        text-align: right;\n    }\n</style>\n<table border=\"1\" class=\"dataframe\">\n  <thead>\n    <tr style=\"text-align: right;\">\n      <th></th>\n      <th>user_id</th>\n      <th>movie_id</th>\n      <th>rating</th>\n    </tr>\n  </thead>\n  <tbody>\n    <tr>\n      <th>0</th>\n      <td>1</td>\n      <td>2</td>\n      <td>3.5</td>\n    </tr>\n    <tr>\n      <th>1</th>\n      <td>1</td>\n      <td>29</td>\n      <td>3.5</td>\n    </tr>\n    <tr>\n      <th>2</th>\n      <td>1</td>\n      <td>32</td>\n      <td>3.5</td>\n    </tr>\n    <tr>\n      <th>3</th>\n      <td>1</td>\n      <td>47</td>\n      <td>3.5</td>\n    </tr>\n    <tr>\n      <th>4</th>\n      <td>1</td>\n      <td>50</td>\n      <td>3.5</td>\n    </tr>\n    <tr>\n      <th>...</th>\n      <td>...</td>\n      <td>...</td>\n      <td>...</td>\n    </tr>\n    <tr>\n      <th>20000258</th>\n      <td>138493</td>\n      <td>68954</td>\n      <td>4.5</td>\n    </tr>\n    <tr>\n      <th>20000259</th>\n      <td>138493</td>\n      <td>69526</td>\n      <td>4.5</td>\n    </tr>\n    <tr>\n      <th>20000260</th>\n      <td>138493</td>\n      <td>69644</td>\n      <td>3.0</td>\n    </tr>\n    <tr>\n      <th>20000261</th>\n      <td>138493</td>\n      <td>70286</td>\n      <td>5.0</td>\n    </tr>\n    <tr>\n      <th>20000262</th>\n      <td>138493</td>\n      <td>71619</td>\n      <td>2.5</td>\n    </tr>\n  </tbody>\n</table>\n<p>20000263 rows × 3 columns</p>\n</div>"
     },
     "metadata": {},
     "output_type": "display_data"
    },
    {
     "data": {
      "text/plain": "          movie_id  tag_id           tag  relevance\n0                1       1           007    0.02500\n1                1       2  007 (series)    0.02500\n2                1       3  18th century    0.05775\n3                1       4         1920s    0.09675\n4                1       5         1930s    0.14675\n...            ...     ...           ...        ...\n11709763    131170    1124           NaN    0.58775\n11709764    131170    1125           NaN    0.01075\n11709765    131170    1126           NaN    0.01575\n11709766    131170    1127           NaN    0.11450\n11709767    131170    1128           NaN    0.02175\n\n[11709768 rows x 4 columns]",
      "text/html": "<div>\n<style scoped>\n    .dataframe tbody tr th:only-of-type {\n        vertical-align: middle;\n    }\n\n    .dataframe tbody tr th {\n        vertical-align: top;\n    }\n\n    .dataframe thead th {\n        text-align: right;\n    }\n</style>\n<table border=\"1\" class=\"dataframe\">\n  <thead>\n    <tr style=\"text-align: right;\">\n      <th></th>\n      <th>movie_id</th>\n      <th>tag_id</th>\n      <th>tag</th>\n      <th>relevance</th>\n    </tr>\n  </thead>\n  <tbody>\n    <tr>\n      <th>0</th>\n      <td>1</td>\n      <td>1</td>\n      <td>007</td>\n      <td>0.02500</td>\n    </tr>\n    <tr>\n      <th>1</th>\n      <td>1</td>\n      <td>2</td>\n      <td>007 (series)</td>\n      <td>0.02500</td>\n    </tr>\n    <tr>\n      <th>2</th>\n      <td>1</td>\n      <td>3</td>\n      <td>18th century</td>\n      <td>0.05775</td>\n    </tr>\n    <tr>\n      <th>3</th>\n      <td>1</td>\n      <td>4</td>\n      <td>1920s</td>\n      <td>0.09675</td>\n    </tr>\n    <tr>\n      <th>4</th>\n      <td>1</td>\n      <td>5</td>\n      <td>1930s</td>\n      <td>0.14675</td>\n    </tr>\n    <tr>\n      <th>...</th>\n      <td>...</td>\n      <td>...</td>\n      <td>...</td>\n      <td>...</td>\n    </tr>\n    <tr>\n      <th>11709763</th>\n      <td>131170</td>\n      <td>1124</td>\n      <td>NaN</td>\n      <td>0.58775</td>\n    </tr>\n    <tr>\n      <th>11709764</th>\n      <td>131170</td>\n      <td>1125</td>\n      <td>NaN</td>\n      <td>0.01075</td>\n    </tr>\n    <tr>\n      <th>11709765</th>\n      <td>131170</td>\n      <td>1126</td>\n      <td>NaN</td>\n      <td>0.01575</td>\n    </tr>\n    <tr>\n      <th>11709766</th>\n      <td>131170</td>\n      <td>1127</td>\n      <td>NaN</td>\n      <td>0.11450</td>\n    </tr>\n    <tr>\n      <th>11709767</th>\n      <td>131170</td>\n      <td>1128</td>\n      <td>NaN</td>\n      <td>0.02175</td>\n    </tr>\n  </tbody>\n</table>\n<p>11709768 rows × 4 columns</p>\n</div>"
     },
     "metadata": {},
     "output_type": "display_data"
    }
   ],
   "source": [
    "import pandas as pd\n",
    "import numpy as np\n",
    "from IPython.display import display\n",
    "\n",
    "#import original data folder\n",
    "data_folder = \"C:/Users/roman/OneDrive/Bureau/UM/BA/Y3/P1/RS/Group Assignment/archive\"\n",
    "\n",
    "#preparing movies\n",
    "movies = pd.read_csv(data_folder + \"/movie.csv\")\n",
    "movies_df = movies.rename(columns={'movieId': 'movie_id', 'title': 'title', 'genres': 'genres'})\n",
    "movies_df = movies_df[['movie_id', 'title', 'genres']]\n",
    "display(movies_df)\n",
    "\n",
    "#preparing ratings\n",
    "ratings = pd.read_csv(data_folder + \"/rating.csv\")\n",
    "ratings_df = ratings.rename(columns={'userId': 'user_id', 'movieId': 'movie_id', 'rating': 'rating', 'timestamp': 'timestamp'})\n",
    "ratings_df = ratings_df[['user_id', 'movie_id', 'rating']]\n",
    "display(ratings_df)\n",
    "\n",
    "#preparing movies_tags\n",
    "genome_tags = pd.read_csv(data_folder + \"/genome_tags.csv\")\n",
    "genome_tags_df = genome_tags.rename(columns={'tagId': 'tag_id', 'tag': 'tag'})\n",
    "movies_tags = pd.read_csv(data_folder + \"/genome_scores.csv\")\n",
    "movies_tags_df = movies_tags.rename(columns={'movieId': 'movie_id', 'tagId': 'tag_id', 'relevance': 'relevance'})\n",
    "\n",
    "movies_tags_df.insert(2, \"tag\", genome_tags_df[\"tag\"])\n",
    "display(movies_tags_df)\n"
   ]
  },
  {
   "cell_type": "code",
   "execution_count": 25,
   "metadata": {
    "collapsed": false,
    "pycharm": {
     "name": "#%% PREPARING DATAFRAMES FOR RATED GENRES AMOUNT CONDITION\n"
    }
   },
   "outputs": [
    {
     "data": {
      "text/plain": "                                               genres\nuser_id                                              \n1                             Horror|Mystery|Thriller\n1                              Comedy|Fantasy|Romance\n1                                     Horror|Thriller\n1                          Adventure|Children|Fantasy\n1                                        Drama|Sci-Fi\n...                                               ...\n138493   Adventure|Animation|Children|Fantasy|Musical\n138493                              Drama|Romance|War\n138493                               Action|Adventure\n138493                    Action|Comedy|Crime|Fantasy\n138493                           Comedy|Drama|Fantasy\n\n[19999685 rows x 1 columns]",
      "text/html": "<div>\n<style scoped>\n    .dataframe tbody tr th:only-of-type {\n        vertical-align: middle;\n    }\n\n    .dataframe tbody tr th {\n        vertical-align: top;\n    }\n\n    .dataframe thead th {\n        text-align: right;\n    }\n</style>\n<table border=\"1\" class=\"dataframe\">\n  <thead>\n    <tr style=\"text-align: right;\">\n      <th></th>\n      <th>genres</th>\n    </tr>\n    <tr>\n      <th>user_id</th>\n      <th></th>\n    </tr>\n  </thead>\n  <tbody>\n    <tr>\n      <th>1</th>\n      <td>Horror|Mystery|Thriller</td>\n    </tr>\n    <tr>\n      <th>1</th>\n      <td>Comedy|Fantasy|Romance</td>\n    </tr>\n    <tr>\n      <th>1</th>\n      <td>Horror|Thriller</td>\n    </tr>\n    <tr>\n      <th>1</th>\n      <td>Adventure|Children|Fantasy</td>\n    </tr>\n    <tr>\n      <th>1</th>\n      <td>Drama|Sci-Fi</td>\n    </tr>\n    <tr>\n      <th>...</th>\n      <td>...</td>\n    </tr>\n    <tr>\n      <th>138493</th>\n      <td>Adventure|Animation|Children|Fantasy|Musical</td>\n    </tr>\n    <tr>\n      <th>138493</th>\n      <td>Drama|Romance|War</td>\n    </tr>\n    <tr>\n      <th>138493</th>\n      <td>Action|Adventure</td>\n    </tr>\n    <tr>\n      <th>138493</th>\n      <td>Action|Comedy|Crime|Fantasy</td>\n    </tr>\n    <tr>\n      <th>138493</th>\n      <td>Comedy|Drama|Fantasy</td>\n    </tr>\n  </tbody>\n</table>\n<p>19999685 rows × 1 columns</p>\n</div>"
     },
     "metadata": {},
     "output_type": "display_data"
    },
    {
     "data": {
      "text/plain": "Empty DataFrame\nColumns: []\nIndex: [1, 2, 3, 4, 5, 6, 7, 8, 9, 10, 11, 12, 13, 14, 15, 16, 17, 18, 19, 20, 21, 22, 23, 24, 25, 26, 27, 28, 29, 30, 31, 32, 33, 34, 35, 36, 37, 38, 39, 40, 41, 42, 43, 44, 45, 46, 47, 48, 49, 50, 51, 52, 53, 54, 55, 56, 57, 58, 59, 60, 61, 62, 63, 64, 65, 66, 67, 68, 69, 70, 71, 72, 73, 74, 75, 76, 77, 78, 79, 80, 81, 82, 83, 84, 85, 86, 87, 88, 89, 90, 91, 92, 93, 94, 95, 96, 97, 98, 99, 100, ...]\n\n[138493 rows x 0 columns]",
      "text/html": "<div>\n<style scoped>\n    .dataframe tbody tr th:only-of-type {\n        vertical-align: middle;\n    }\n\n    .dataframe tbody tr th {\n        vertical-align: top;\n    }\n\n    .dataframe thead th {\n        text-align: right;\n    }\n</style>\n<table border=\"1\" class=\"dataframe\">\n  <thead>\n    <tr style=\"text-align: right;\">\n      <th></th>\n    </tr>\n    <tr>\n      <th>user_id</th>\n    </tr>\n  </thead>\n  <tbody>\n    <tr>\n      <th>1</th>\n    </tr>\n    <tr>\n      <th>2</th>\n    </tr>\n    <tr>\n      <th>3</th>\n    </tr>\n    <tr>\n      <th>4</th>\n    </tr>\n    <tr>\n      <th>5</th>\n    </tr>\n    <tr>\n      <th>...</th>\n    </tr>\n    <tr>\n      <th>138489</th>\n    </tr>\n    <tr>\n      <th>138490</th>\n    </tr>\n    <tr>\n      <th>138491</th>\n    </tr>\n    <tr>\n      <th>138492</th>\n    </tr>\n    <tr>\n      <th>138493</th>\n    </tr>\n  </tbody>\n</table>\n<p>138493 rows × 0 columns</p>\n</div>"
     },
     "metadata": {},
     "output_type": "display_data"
    }
   ],
   "source": [
    "movies_df = movies_df.drop_duplicates(subset='title', keep='first')\n",
    "\n",
    "#join ratings to genres\n",
    "ratings_genres_df = pd.merge(movies_df, ratings_df,  how='inner', left_on=['movie_id'], right_on = ['movie_id'])\n",
    "ratings_genres_df = ratings_genres_df[['movie_id', 'user_id', 'rating', 'title', 'genres']]\n",
    "\n",
    "#keep only users and genres\n",
    "users_genres = ratings_genres_df.loc[:, ['user_id', 'genres']]\n",
    "\n",
    "#new users only dataframe\n",
    "users_df = users_genres.drop_duplicates(subset=['user_id'], keep='first')\n",
    "users_df = users_df['user_id']\n",
    "users_df = pd.DataFrame(users_df)\n",
    "users_df = users_df.set_index('user_id')\n",
    "users_df = users_df.sort_index(ascending=True)\n",
    "\n",
    "users_genres = users_genres.set_index('user_id')\n",
    "users_genres = users_genres.sort_values(by=\"user_id\", ascending=True)\n",
    "\n",
    "display(users_genres)\n",
    "display(users_df)\n"
   ]
  },
  {
   "cell_type": "code",
   "execution_count": 26,
   "metadata": {
    "collapsed": false,
    "pycharm": {
     "name": "#%% COUNT RATED GENRES AMOUNT FOR EACH USER\n"
    }
   },
   "outputs": [],
   "source": [
    "def count_rated_genres(user_id, df):\n",
    "\n",
    "    users_genre = df.loc[user_id,:]\n",
    "    rated_genres = set()\n",
    "\n",
    "    for genre in users_genre.genres:\n",
    "        rated_genres.update(genre.split('|'))\n",
    "\n",
    "    return len(rated_genres)\n",
    "\n",
    "users_rated_genres = []\n",
    "for user in users_df.index:\n",
    "     users_rated_genres.append(count_rated_genres(user, users_genres))\n"
   ]
  },
  {
   "cell_type": "code",
   "execution_count": 27,
   "metadata": {
    "collapsed": false,
    "pycharm": {
     "name": "#%% REDUCING USERS WITH RATED GENRES AMOUNT ABOVE THRESHOLD (mean)\n"
    }
   },
   "outputs": [
    {
     "data": {
      "text/plain": "        user_id  rated_genres\n0             1            17\n1             2            18\n2             3            18\n3             4            15\n4             5            17\n...         ...           ...\n138488   138489            17\n138489   138490            18\n138490   138491            14\n138491   138492            17\n138492   138493            19\n\n[138493 rows x 2 columns]",
      "text/html": "<div>\n<style scoped>\n    .dataframe tbody tr th:only-of-type {\n        vertical-align: middle;\n    }\n\n    .dataframe tbody tr th {\n        vertical-align: top;\n    }\n\n    .dataframe thead th {\n        text-align: right;\n    }\n</style>\n<table border=\"1\" class=\"dataframe\">\n  <thead>\n    <tr style=\"text-align: right;\">\n      <th></th>\n      <th>user_id</th>\n      <th>rated_genres</th>\n    </tr>\n  </thead>\n  <tbody>\n    <tr>\n      <th>0</th>\n      <td>1</td>\n      <td>17</td>\n    </tr>\n    <tr>\n      <th>1</th>\n      <td>2</td>\n      <td>18</td>\n    </tr>\n    <tr>\n      <th>2</th>\n      <td>3</td>\n      <td>18</td>\n    </tr>\n    <tr>\n      <th>3</th>\n      <td>4</td>\n      <td>15</td>\n    </tr>\n    <tr>\n      <th>4</th>\n      <td>5</td>\n      <td>17</td>\n    </tr>\n    <tr>\n      <th>...</th>\n      <td>...</td>\n      <td>...</td>\n    </tr>\n    <tr>\n      <th>138488</th>\n      <td>138489</td>\n      <td>17</td>\n    </tr>\n    <tr>\n      <th>138489</th>\n      <td>138490</td>\n      <td>18</td>\n    </tr>\n    <tr>\n      <th>138490</th>\n      <td>138491</td>\n      <td>14</td>\n    </tr>\n    <tr>\n      <th>138491</th>\n      <td>138492</td>\n      <td>17</td>\n    </tr>\n    <tr>\n      <th>138492</th>\n      <td>138493</td>\n      <td>19</td>\n    </tr>\n  </tbody>\n</table>\n<p>138493 rows × 2 columns</p>\n</div>"
     },
     "metadata": {},
     "output_type": "display_data"
    },
    {
     "name": "stdout",
     "output_type": "stream",
     "text": [
      "16.379679839414266\n"
     ]
    },
    {
     "data": {
      "text/plain": "        user_id  rated_genres\n0             1            17\n1             2            18\n2             3            18\n4             5            17\n6             7            18\n...         ...           ...\n138486   138487            17\n138488   138489            17\n138489   138490            18\n138491   138492            17\n138492   138493            19\n\n[75952 rows x 2 columns]",
      "text/html": "<div>\n<style scoped>\n    .dataframe tbody tr th:only-of-type {\n        vertical-align: middle;\n    }\n\n    .dataframe tbody tr th {\n        vertical-align: top;\n    }\n\n    .dataframe thead th {\n        text-align: right;\n    }\n</style>\n<table border=\"1\" class=\"dataframe\">\n  <thead>\n    <tr style=\"text-align: right;\">\n      <th></th>\n      <th>user_id</th>\n      <th>rated_genres</th>\n    </tr>\n  </thead>\n  <tbody>\n    <tr>\n      <th>0</th>\n      <td>1</td>\n      <td>17</td>\n    </tr>\n    <tr>\n      <th>1</th>\n      <td>2</td>\n      <td>18</td>\n    </tr>\n    <tr>\n      <th>2</th>\n      <td>3</td>\n      <td>18</td>\n    </tr>\n    <tr>\n      <th>4</th>\n      <td>5</td>\n      <td>17</td>\n    </tr>\n    <tr>\n      <th>6</th>\n      <td>7</td>\n      <td>18</td>\n    </tr>\n    <tr>\n      <th>...</th>\n      <td>...</td>\n      <td>...</td>\n    </tr>\n    <tr>\n      <th>138486</th>\n      <td>138487</td>\n      <td>17</td>\n    </tr>\n    <tr>\n      <th>138488</th>\n      <td>138489</td>\n      <td>17</td>\n    </tr>\n    <tr>\n      <th>138489</th>\n      <td>138490</td>\n      <td>18</td>\n    </tr>\n    <tr>\n      <th>138491</th>\n      <td>138492</td>\n      <td>17</td>\n    </tr>\n    <tr>\n      <th>138492</th>\n      <td>138493</td>\n      <td>19</td>\n    </tr>\n  </tbody>\n</table>\n<p>75952 rows × 2 columns</p>\n</div>"
     },
     "metadata": {},
     "output_type": "display_data"
    }
   ],
   "source": [
    "users_rated_genres_df = pd.DataFrame({\n",
    "    'user_id' : users_df.index.tolist(),\n",
    "    'rated_genres' : users_rated_genres\n",
    "})\n",
    "\n",
    "display(users_rated_genres_df)\n",
    "\n",
    "\n",
    "mean_rated_genres = np.mean(users_rated_genres)\n",
    "print(mean_rated_genres)\n",
    "users_rated_genres_df = users_rated_genres_df[users_rated_genres_df['rated_genres'] > mean_rated_genres]\n",
    "\n",
    "display(users_rated_genres_df)\n"
   ]
  },
  {
   "cell_type": "code",
   "execution_count": 28,
   "metadata": {
    "collapsed": false,
    "pycharm": {
     "name": "#%% REDUCING USERS WITH RATINGS AMOUNT ABOVE THESHOLD (mean)\n"
    }
   },
   "outputs": [
    {
     "data": {
      "text/plain": "       user_id  num_ratings  rated_genres\n0            1          175            17\n1            3          187            18\n2            7          276            18\n3           11          504            19\n4           14          243            17\n...        ...          ...           ...\n35895   138483          276            19\n35896   138484          148            18\n35897   138486          193            18\n35898   138490          151            18\n35899   138493          373            19\n\n[35900 rows x 3 columns]",
      "text/html": "<div>\n<style scoped>\n    .dataframe tbody tr th:only-of-type {\n        vertical-align: middle;\n    }\n\n    .dataframe tbody tr th {\n        vertical-align: top;\n    }\n\n    .dataframe thead th {\n        text-align: right;\n    }\n</style>\n<table border=\"1\" class=\"dataframe\">\n  <thead>\n    <tr style=\"text-align: right;\">\n      <th></th>\n      <th>user_id</th>\n      <th>num_ratings</th>\n      <th>rated_genres</th>\n    </tr>\n  </thead>\n  <tbody>\n    <tr>\n      <th>0</th>\n      <td>1</td>\n      <td>175</td>\n      <td>17</td>\n    </tr>\n    <tr>\n      <th>1</th>\n      <td>3</td>\n      <td>187</td>\n      <td>18</td>\n    </tr>\n    <tr>\n      <th>2</th>\n      <td>7</td>\n      <td>276</td>\n      <td>18</td>\n    </tr>\n    <tr>\n      <th>3</th>\n      <td>11</td>\n      <td>504</td>\n      <td>19</td>\n    </tr>\n    <tr>\n      <th>4</th>\n      <td>14</td>\n      <td>243</td>\n      <td>17</td>\n    </tr>\n    <tr>\n      <th>...</th>\n      <td>...</td>\n      <td>...</td>\n      <td>...</td>\n    </tr>\n    <tr>\n      <th>35895</th>\n      <td>138483</td>\n      <td>276</td>\n      <td>19</td>\n    </tr>\n    <tr>\n      <th>35896</th>\n      <td>138484</td>\n      <td>148</td>\n      <td>18</td>\n    </tr>\n    <tr>\n      <th>35897</th>\n      <td>138486</td>\n      <td>193</td>\n      <td>18</td>\n    </tr>\n    <tr>\n      <th>35898</th>\n      <td>138490</td>\n      <td>151</td>\n      <td>18</td>\n    </tr>\n    <tr>\n      <th>35899</th>\n      <td>138493</td>\n      <td>373</td>\n      <td>19</td>\n    </tr>\n  </tbody>\n</table>\n<p>35900 rows × 3 columns</p>\n</div>"
     },
     "metadata": {},
     "output_type": "display_data"
    }
   ],
   "source": [
    "count_ratings = ratings_df.groupby(['user_id']).count()\n",
    "selected = count_ratings['rating'] > count_ratings['rating'].mean()\n",
    "expert_users = count_ratings.loc[selected]\n",
    "expert_users = pd.DataFrame(expert_users)\n",
    "expert_users = expert_users.reset_index()\n",
    "expert_users = expert_users.merge(users_rated_genres_df, how='inner', left_on='user_id', right_on='user_id')\n",
    "expert_users = expert_users.drop(['movie_id'], axis=1)\n",
    "expert_users.rename(columns={'rating' : 'num_ratings'}, inplace=True)\n",
    "\n",
    "display(expert_users)\n"
   ]
  },
  {
   "cell_type": "code",
   "execution_count": 29,
   "outputs": [
    {
     "name": "stdout",
     "output_type": "stream",
     "text": [
      "138493\n",
      "35900\n",
      "20000263\n",
      "13977680\n"
     ]
    }
   ],
   "source": [
    "#users amount\n",
    "original_users_amount = 0\n",
    "for i in range(0, ratings_df.shape[0]):\n",
    "    if i != 0:\n",
    "        if ratings_df.user_id[i] != ratings_df.user_id[i-1]:\n",
    "            original_users_amount += 1\n",
    "    else:\n",
    "        original_users_amount += 1\n",
    "print(original_users_amount)\n",
    "reduced_users_amount = expert_users.shape[0]\n",
    "print(reduced_users_amount)\n",
    "\n",
    "#ratings amount\n",
    "original_ratings_amount = ratings_df.shape[0]\n",
    "print(original_ratings_amount)\n",
    "reduced_ratings_amount = 0\n",
    "for i in range(0, expert_users.shape[0]):\n",
    "    reduced_ratings_amount += expert_users.num_ratings[i]\n",
    "print(reduced_ratings_amount)\n"
   ],
   "metadata": {
    "collapsed": false,
    "pycharm": {
     "name": "#%% REDUCED DATASET STATISTICS (users amount & ratings amount)\n"
    }
   }
  },
  {
   "cell_type": "code",
   "execution_count": 14,
   "outputs": [
    {
     "data": {
      "text/plain": "            0         1         2         3         4         5         6  \\\n0         3.0  4.363636  4.000000  4.057692  3.750000  4.300000  4.666667   \n1         6.0  4.500000  1.000000  3.666667  5.000000  3.000000  0.000000   \n2         8.0  4.666667  3.600000  3.640000  3.714286  3.428571  4.800000   \n3        10.0  3.000000  4.000000  4.000000  4.000000  4.000000  3.818182   \n4        11.0  4.083333  3.900000  3.748276  4.090909  3.887324  3.892857   \n...       ...       ...       ...       ...       ...       ...       ...   \n8036  22352.0  3.366279  3.631313  3.362840  3.676471  3.766667  3.724490   \n8037  22354.0  4.076923  4.333333  3.944444  4.500000  4.714286  4.684211   \n8038  22357.0  3.492537  3.776596  3.671587  3.780000  3.685185  3.703704   \n8039  22363.0  2.023810  1.265625  1.687097  1.526786  1.213675  2.272727   \n8040  22364.0  3.000000  3.333333  3.071429  3.250000  3.000000  3.000000   \n\n             7         8         9  ...        11        12   13        14  \\\n0     4.220000  4.333333  4.260000  ...  4.062500  4.285714  0.0  0.000000   \n1     3.750000  0.000000  3.500000  ...  3.888889  3.500000  0.0  0.000000   \n2     3.736842  5.000000  3.923077  ...  3.952381  3.692308  0.0  3.666667   \n3     3.909091  3.000000  3.500000  ...  3.900000  4.250000  0.0  0.000000   \n4     4.085890  3.500000  3.923977  ...  4.093220  3.482759  0.0  4.574074   \n...        ...       ...       ...  ...       ...       ...  ...       ...   \n8036  3.509479  3.558824  3.496324  ...  3.456233  3.532895  0.0  3.776316   \n8037  3.900000  4.500000  4.220588  ...  4.018182  4.185185  0.0  0.000000   \n8038  3.298507  2.818182  3.412281  ...  3.610778  3.760714  0.0  4.500000   \n8039  1.666667  1.500000  1.898936  ...  1.701681  2.068627  0.0  1.944444   \n8040  3.300000  3.500000  3.500000  ...  3.333333  0.000000  0.0  4.000000   \n\n            15        16        17        18        19        20  \n0     4.300000  3.000000  4.000000  4.000000  4.224138  3.937500  \n1     3.500000  0.000000  3.666667  0.000000  4.333333  0.000000  \n2     3.285714  0.000000  3.181818  0.000000  4.192308  4.333333  \n3     4.000000  0.000000  3.833333  0.000000  3.840000  4.500000  \n4     4.059524  4.750000  4.037118  4.142857  4.020134  3.814103  \n...        ...       ...       ...       ...       ...       ...  \n8036  3.465517  2.875000  3.528302  3.636364  3.480826  3.644444  \n8037  4.333333  4.454545  3.958333  4.375000  4.246667  4.055556  \n8038  3.744898  4.033333  3.284091  3.710526  3.723553  3.390909  \n8039  1.396104  3.500000  1.768116  1.000000  1.925325  1.720588  \n8040  3.000000  0.000000  3.400000  0.000000  3.461538  0.000000  \n\n[8041 rows x 21 columns]",
      "text/html": "<div>\n<style scoped>\n    .dataframe tbody tr th:only-of-type {\n        vertical-align: middle;\n    }\n\n    .dataframe tbody tr th {\n        vertical-align: top;\n    }\n\n    .dataframe thead th {\n        text-align: right;\n    }\n</style>\n<table border=\"1\" class=\"dataframe\">\n  <thead>\n    <tr style=\"text-align: right;\">\n      <th></th>\n      <th>0</th>\n      <th>1</th>\n      <th>2</th>\n      <th>3</th>\n      <th>4</th>\n      <th>5</th>\n      <th>6</th>\n      <th>7</th>\n      <th>8</th>\n      <th>9</th>\n      <th>...</th>\n      <th>11</th>\n      <th>12</th>\n      <th>13</th>\n      <th>14</th>\n      <th>15</th>\n      <th>16</th>\n      <th>17</th>\n      <th>18</th>\n      <th>19</th>\n      <th>20</th>\n    </tr>\n  </thead>\n  <tbody>\n    <tr>\n      <th>0</th>\n      <td>3.0</td>\n      <td>4.363636</td>\n      <td>4.000000</td>\n      <td>4.057692</td>\n      <td>3.750000</td>\n      <td>4.300000</td>\n      <td>4.666667</td>\n      <td>4.220000</td>\n      <td>4.333333</td>\n      <td>4.260000</td>\n      <td>...</td>\n      <td>4.062500</td>\n      <td>4.285714</td>\n      <td>0.0</td>\n      <td>0.000000</td>\n      <td>4.300000</td>\n      <td>3.000000</td>\n      <td>4.000000</td>\n      <td>4.000000</td>\n      <td>4.224138</td>\n      <td>3.937500</td>\n    </tr>\n    <tr>\n      <th>1</th>\n      <td>6.0</td>\n      <td>4.500000</td>\n      <td>1.000000</td>\n      <td>3.666667</td>\n      <td>5.000000</td>\n      <td>3.000000</td>\n      <td>0.000000</td>\n      <td>3.750000</td>\n      <td>0.000000</td>\n      <td>3.500000</td>\n      <td>...</td>\n      <td>3.888889</td>\n      <td>3.500000</td>\n      <td>0.0</td>\n      <td>0.000000</td>\n      <td>3.500000</td>\n      <td>0.000000</td>\n      <td>3.666667</td>\n      <td>0.000000</td>\n      <td>4.333333</td>\n      <td>0.000000</td>\n    </tr>\n    <tr>\n      <th>2</th>\n      <td>8.0</td>\n      <td>4.666667</td>\n      <td>3.600000</td>\n      <td>3.640000</td>\n      <td>3.714286</td>\n      <td>3.428571</td>\n      <td>4.800000</td>\n      <td>3.736842</td>\n      <td>5.000000</td>\n      <td>3.923077</td>\n      <td>...</td>\n      <td>3.952381</td>\n      <td>3.692308</td>\n      <td>0.0</td>\n      <td>3.666667</td>\n      <td>3.285714</td>\n      <td>0.000000</td>\n      <td>3.181818</td>\n      <td>0.000000</td>\n      <td>4.192308</td>\n      <td>4.333333</td>\n    </tr>\n    <tr>\n      <th>3</th>\n      <td>10.0</td>\n      <td>3.000000</td>\n      <td>4.000000</td>\n      <td>4.000000</td>\n      <td>4.000000</td>\n      <td>4.000000</td>\n      <td>3.818182</td>\n      <td>3.909091</td>\n      <td>3.000000</td>\n      <td>3.500000</td>\n      <td>...</td>\n      <td>3.900000</td>\n      <td>4.250000</td>\n      <td>0.0</td>\n      <td>0.000000</td>\n      <td>4.000000</td>\n      <td>0.000000</td>\n      <td>3.833333</td>\n      <td>0.000000</td>\n      <td>3.840000</td>\n      <td>4.500000</td>\n    </tr>\n    <tr>\n      <th>4</th>\n      <td>11.0</td>\n      <td>4.083333</td>\n      <td>3.900000</td>\n      <td>3.748276</td>\n      <td>4.090909</td>\n      <td>3.887324</td>\n      <td>3.892857</td>\n      <td>4.085890</td>\n      <td>3.500000</td>\n      <td>3.923977</td>\n      <td>...</td>\n      <td>4.093220</td>\n      <td>3.482759</td>\n      <td>0.0</td>\n      <td>4.574074</td>\n      <td>4.059524</td>\n      <td>4.750000</td>\n      <td>4.037118</td>\n      <td>4.142857</td>\n      <td>4.020134</td>\n      <td>3.814103</td>\n    </tr>\n    <tr>\n      <th>...</th>\n      <td>...</td>\n      <td>...</td>\n      <td>...</td>\n      <td>...</td>\n      <td>...</td>\n      <td>...</td>\n      <td>...</td>\n      <td>...</td>\n      <td>...</td>\n      <td>...</td>\n      <td>...</td>\n      <td>...</td>\n      <td>...</td>\n      <td>...</td>\n      <td>...</td>\n      <td>...</td>\n      <td>...</td>\n      <td>...</td>\n      <td>...</td>\n      <td>...</td>\n      <td>...</td>\n    </tr>\n    <tr>\n      <th>8036</th>\n      <td>22352.0</td>\n      <td>3.366279</td>\n      <td>3.631313</td>\n      <td>3.362840</td>\n      <td>3.676471</td>\n      <td>3.766667</td>\n      <td>3.724490</td>\n      <td>3.509479</td>\n      <td>3.558824</td>\n      <td>3.496324</td>\n      <td>...</td>\n      <td>3.456233</td>\n      <td>3.532895</td>\n      <td>0.0</td>\n      <td>3.776316</td>\n      <td>3.465517</td>\n      <td>2.875000</td>\n      <td>3.528302</td>\n      <td>3.636364</td>\n      <td>3.480826</td>\n      <td>3.644444</td>\n    </tr>\n    <tr>\n      <th>8037</th>\n      <td>22354.0</td>\n      <td>4.076923</td>\n      <td>4.333333</td>\n      <td>3.944444</td>\n      <td>4.500000</td>\n      <td>4.714286</td>\n      <td>4.684211</td>\n      <td>3.900000</td>\n      <td>4.500000</td>\n      <td>4.220588</td>\n      <td>...</td>\n      <td>4.018182</td>\n      <td>4.185185</td>\n      <td>0.0</td>\n      <td>0.000000</td>\n      <td>4.333333</td>\n      <td>4.454545</td>\n      <td>3.958333</td>\n      <td>4.375000</td>\n      <td>4.246667</td>\n      <td>4.055556</td>\n    </tr>\n    <tr>\n      <th>8038</th>\n      <td>22357.0</td>\n      <td>3.492537</td>\n      <td>3.776596</td>\n      <td>3.671587</td>\n      <td>3.780000</td>\n      <td>3.685185</td>\n      <td>3.703704</td>\n      <td>3.298507</td>\n      <td>2.818182</td>\n      <td>3.412281</td>\n      <td>...</td>\n      <td>3.610778</td>\n      <td>3.760714</td>\n      <td>0.0</td>\n      <td>4.500000</td>\n      <td>3.744898</td>\n      <td>4.033333</td>\n      <td>3.284091</td>\n      <td>3.710526</td>\n      <td>3.723553</td>\n      <td>3.390909</td>\n    </tr>\n    <tr>\n      <th>8039</th>\n      <td>22363.0</td>\n      <td>2.023810</td>\n      <td>1.265625</td>\n      <td>1.687097</td>\n      <td>1.526786</td>\n      <td>1.213675</td>\n      <td>2.272727</td>\n      <td>1.666667</td>\n      <td>1.500000</td>\n      <td>1.898936</td>\n      <td>...</td>\n      <td>1.701681</td>\n      <td>2.068627</td>\n      <td>0.0</td>\n      <td>1.944444</td>\n      <td>1.396104</td>\n      <td>3.500000</td>\n      <td>1.768116</td>\n      <td>1.000000</td>\n      <td>1.925325</td>\n      <td>1.720588</td>\n    </tr>\n    <tr>\n      <th>8040</th>\n      <td>22364.0</td>\n      <td>3.000000</td>\n      <td>3.333333</td>\n      <td>3.071429</td>\n      <td>3.250000</td>\n      <td>3.000000</td>\n      <td>3.000000</td>\n      <td>3.300000</td>\n      <td>3.500000</td>\n      <td>3.500000</td>\n      <td>...</td>\n      <td>3.333333</td>\n      <td>0.000000</td>\n      <td>0.0</td>\n      <td>4.000000</td>\n      <td>3.000000</td>\n      <td>0.000000</td>\n      <td>3.400000</td>\n      <td>0.000000</td>\n      <td>3.461538</td>\n      <td>0.000000</td>\n    </tr>\n  </tbody>\n</table>\n<p>8041 rows × 21 columns</p>\n</div>"
     },
     "metadata": {},
     "output_type": "display_data"
    },
    {
     "ename": "ValueError",
     "evalue": "Found input variables with inconsistent numbers of samples: [8041, 20000263]",
     "output_type": "error",
     "traceback": [
      "\u001B[1;31m---------------------------------------------------------------------------\u001B[0m",
      "\u001B[1;31mValueError\u001B[0m                                Traceback (most recent call last)",
      "Input \u001B[1;32mIn [14]\u001B[0m, in \u001B[0;36m<cell line: 18>\u001B[1;34m()\u001B[0m\n\u001B[0;32m     15\u001B[0m X \u001B[38;5;241m=\u001B[39m data_df\u001B[38;5;241m.\u001B[39mto_numpy()\n\u001B[0;32m     16\u001B[0m Y \u001B[38;5;241m=\u001B[39m ratings_df\u001B[38;5;241m.\u001B[39mto_numpy()\n\u001B[1;32m---> 18\u001B[0m \u001B[43mkNN\u001B[49m\u001B[38;5;241;43m.\u001B[39;49m\u001B[43mfit\u001B[49m\u001B[43m(\u001B[49m\u001B[43mX\u001B[49m\u001B[43m,\u001B[49m\u001B[43m \u001B[49m\u001B[43mY\u001B[49m\u001B[43m)\u001B[49m\n\u001B[0;32m     20\u001B[0m \u001B[38;5;28mprint\u001B[39m(kNN\u001B[38;5;241m.\u001B[39mpredict())\n",
      "File \u001B[1;32m~\\anaconda3\\envs\\Group Assignment\\lib\\site-packages\\sklearn\\neighbors\\_regression.py:210\u001B[0m, in \u001B[0;36mKNeighborsRegressor.fit\u001B[1;34m(self, X, y)\u001B[0m\n\u001B[0;32m    191\u001B[0m \u001B[38;5;124;03m\"\"\"Fit the k-nearest neighbors regressor from the training dataset.\u001B[39;00m\n\u001B[0;32m    192\u001B[0m \n\u001B[0;32m    193\u001B[0m \u001B[38;5;124;03mParameters\u001B[39;00m\n\u001B[1;32m   (...)\u001B[0m\n\u001B[0;32m    206\u001B[0m \u001B[38;5;124;03m    The fitted k-nearest neighbors regressor.\u001B[39;00m\n\u001B[0;32m    207\u001B[0m \u001B[38;5;124;03m\"\"\"\u001B[39;00m\n\u001B[0;32m    208\u001B[0m \u001B[38;5;28mself\u001B[39m\u001B[38;5;241m.\u001B[39mweights \u001B[38;5;241m=\u001B[39m _check_weights(\u001B[38;5;28mself\u001B[39m\u001B[38;5;241m.\u001B[39mweights)\n\u001B[1;32m--> 210\u001B[0m \u001B[38;5;28;01mreturn\u001B[39;00m \u001B[38;5;28;43mself\u001B[39;49m\u001B[38;5;241;43m.\u001B[39;49m\u001B[43m_fit\u001B[49m\u001B[43m(\u001B[49m\u001B[43mX\u001B[49m\u001B[43m,\u001B[49m\u001B[43m \u001B[49m\u001B[43my\u001B[49m\u001B[43m)\u001B[49m\n",
      "File \u001B[1;32m~\\anaconda3\\envs\\Group Assignment\\lib\\site-packages\\sklearn\\neighbors\\_base.py:407\u001B[0m, in \u001B[0;36mNeighborsBase._fit\u001B[1;34m(self, X, y)\u001B[0m\n\u001B[0;32m    405\u001B[0m \u001B[38;5;28;01mif\u001B[39;00m \u001B[38;5;28mself\u001B[39m\u001B[38;5;241m.\u001B[39m_get_tags()[\u001B[38;5;124m\"\u001B[39m\u001B[38;5;124mrequires_y\u001B[39m\u001B[38;5;124m\"\u001B[39m]:\n\u001B[0;32m    406\u001B[0m     \u001B[38;5;28;01mif\u001B[39;00m \u001B[38;5;129;01mnot\u001B[39;00m \u001B[38;5;28misinstance\u001B[39m(X, (KDTree, BallTree, NeighborsBase)):\n\u001B[1;32m--> 407\u001B[0m         X, y \u001B[38;5;241m=\u001B[39m \u001B[38;5;28;43mself\u001B[39;49m\u001B[38;5;241;43m.\u001B[39;49m\u001B[43m_validate_data\u001B[49m\u001B[43m(\u001B[49m\n\u001B[0;32m    408\u001B[0m \u001B[43m            \u001B[49m\u001B[43mX\u001B[49m\u001B[43m,\u001B[49m\u001B[43m \u001B[49m\u001B[43my\u001B[49m\u001B[43m,\u001B[49m\u001B[43m \u001B[49m\u001B[43maccept_sparse\u001B[49m\u001B[38;5;241;43m=\u001B[39;49m\u001B[38;5;124;43m\"\u001B[39;49m\u001B[38;5;124;43mcsr\u001B[39;49m\u001B[38;5;124;43m\"\u001B[39;49m\u001B[43m,\u001B[49m\u001B[43m \u001B[49m\u001B[43mmulti_output\u001B[49m\u001B[38;5;241;43m=\u001B[39;49m\u001B[38;5;28;43;01mTrue\u001B[39;49;00m\u001B[43m,\u001B[49m\u001B[43m \u001B[49m\u001B[43morder\u001B[49m\u001B[38;5;241;43m=\u001B[39;49m\u001B[38;5;124;43m\"\u001B[39;49m\u001B[38;5;124;43mC\u001B[39;49m\u001B[38;5;124;43m\"\u001B[39;49m\n\u001B[0;32m    409\u001B[0m \u001B[43m        \u001B[49m\u001B[43m)\u001B[49m\n\u001B[0;32m    411\u001B[0m     \u001B[38;5;28;01mif\u001B[39;00m is_classifier(\u001B[38;5;28mself\u001B[39m):\n\u001B[0;32m    412\u001B[0m         \u001B[38;5;66;03m# Classification targets require a specific format\u001B[39;00m\n\u001B[0;32m    413\u001B[0m         \u001B[38;5;28;01mif\u001B[39;00m y\u001B[38;5;241m.\u001B[39mndim \u001B[38;5;241m==\u001B[39m \u001B[38;5;241m1\u001B[39m \u001B[38;5;129;01mor\u001B[39;00m y\u001B[38;5;241m.\u001B[39mndim \u001B[38;5;241m==\u001B[39m \u001B[38;5;241m2\u001B[39m \u001B[38;5;129;01mand\u001B[39;00m y\u001B[38;5;241m.\u001B[39mshape[\u001B[38;5;241m1\u001B[39m] \u001B[38;5;241m==\u001B[39m \u001B[38;5;241m1\u001B[39m:\n",
      "File \u001B[1;32m~\\anaconda3\\envs\\Group Assignment\\lib\\site-packages\\sklearn\\base.py:596\u001B[0m, in \u001B[0;36mBaseEstimator._validate_data\u001B[1;34m(self, X, y, reset, validate_separately, **check_params)\u001B[0m\n\u001B[0;32m    594\u001B[0m         y \u001B[38;5;241m=\u001B[39m check_array(y, input_name\u001B[38;5;241m=\u001B[39m\u001B[38;5;124m\"\u001B[39m\u001B[38;5;124my\u001B[39m\u001B[38;5;124m\"\u001B[39m, \u001B[38;5;241m*\u001B[39m\u001B[38;5;241m*\u001B[39mcheck_y_params)\n\u001B[0;32m    595\u001B[0m     \u001B[38;5;28;01melse\u001B[39;00m:\n\u001B[1;32m--> 596\u001B[0m         X, y \u001B[38;5;241m=\u001B[39m check_X_y(X, y, \u001B[38;5;241m*\u001B[39m\u001B[38;5;241m*\u001B[39mcheck_params)\n\u001B[0;32m    597\u001B[0m     out \u001B[38;5;241m=\u001B[39m X, y\n\u001B[0;32m    599\u001B[0m \u001B[38;5;28;01mif\u001B[39;00m \u001B[38;5;129;01mnot\u001B[39;00m no_val_X \u001B[38;5;129;01mand\u001B[39;00m check_params\u001B[38;5;241m.\u001B[39mget(\u001B[38;5;124m\"\u001B[39m\u001B[38;5;124mensure_2d\u001B[39m\u001B[38;5;124m\"\u001B[39m, \u001B[38;5;28;01mTrue\u001B[39;00m):\n",
      "File \u001B[1;32m~\\anaconda3\\envs\\Group Assignment\\lib\\site-packages\\sklearn\\utils\\validation.py:1092\u001B[0m, in \u001B[0;36mcheck_X_y\u001B[1;34m(X, y, accept_sparse, accept_large_sparse, dtype, order, copy, force_all_finite, ensure_2d, allow_nd, multi_output, ensure_min_samples, ensure_min_features, y_numeric, estimator)\u001B[0m\n\u001B[0;32m   1074\u001B[0m X \u001B[38;5;241m=\u001B[39m check_array(\n\u001B[0;32m   1075\u001B[0m     X,\n\u001B[0;32m   1076\u001B[0m     accept_sparse\u001B[38;5;241m=\u001B[39maccept_sparse,\n\u001B[1;32m   (...)\u001B[0m\n\u001B[0;32m   1087\u001B[0m     input_name\u001B[38;5;241m=\u001B[39m\u001B[38;5;124m\"\u001B[39m\u001B[38;5;124mX\u001B[39m\u001B[38;5;124m\"\u001B[39m,\n\u001B[0;32m   1088\u001B[0m )\n\u001B[0;32m   1090\u001B[0m y \u001B[38;5;241m=\u001B[39m _check_y(y, multi_output\u001B[38;5;241m=\u001B[39mmulti_output, y_numeric\u001B[38;5;241m=\u001B[39my_numeric, estimator\u001B[38;5;241m=\u001B[39mestimator)\n\u001B[1;32m-> 1092\u001B[0m \u001B[43mcheck_consistent_length\u001B[49m\u001B[43m(\u001B[49m\u001B[43mX\u001B[49m\u001B[43m,\u001B[49m\u001B[43m \u001B[49m\u001B[43my\u001B[49m\u001B[43m)\u001B[49m\n\u001B[0;32m   1094\u001B[0m \u001B[38;5;28;01mreturn\u001B[39;00m X, y\n",
      "File \u001B[1;32m~\\anaconda3\\envs\\Group Assignment\\lib\\site-packages\\sklearn\\utils\\validation.py:387\u001B[0m, in \u001B[0;36mcheck_consistent_length\u001B[1;34m(*arrays)\u001B[0m\n\u001B[0;32m    385\u001B[0m uniques \u001B[38;5;241m=\u001B[39m np\u001B[38;5;241m.\u001B[39munique(lengths)\n\u001B[0;32m    386\u001B[0m \u001B[38;5;28;01mif\u001B[39;00m \u001B[38;5;28mlen\u001B[39m(uniques) \u001B[38;5;241m>\u001B[39m \u001B[38;5;241m1\u001B[39m:\n\u001B[1;32m--> 387\u001B[0m     \u001B[38;5;28;01mraise\u001B[39;00m \u001B[38;5;167;01mValueError\u001B[39;00m(\n\u001B[0;32m    388\u001B[0m         \u001B[38;5;124m\"\u001B[39m\u001B[38;5;124mFound input variables with inconsistent numbers of samples: \u001B[39m\u001B[38;5;132;01m%r\u001B[39;00m\u001B[38;5;124m\"\u001B[39m\n\u001B[0;32m    389\u001B[0m         \u001B[38;5;241m%\u001B[39m [\u001B[38;5;28mint\u001B[39m(l) \u001B[38;5;28;01mfor\u001B[39;00m l \u001B[38;5;129;01min\u001B[39;00m lengths]\n\u001B[0;32m    390\u001B[0m     )\n",
      "\u001B[1;31mValueError\u001B[0m: Found input variables with inconsistent numbers of samples: [8041, 20000263]"
     ]
    }
   ],
   "source": [
    "#given user and movie --> predict rate\n",
    "#kNN with average grade for each genre given by user\n",
    "\n",
    "from sklearn.neighbors import KNeighborsRegressor\n",
    "\n",
    "kNN = KNeighborsRegressor(n_neighbors=5)\n",
    "\n",
    "#Load Data\n",
    "data_folder = \"C:/Users/roman/OneDrive/Bureau/UM/BA/Y3/P1/RS/Group Assignment/archive\"\n",
    "average_ratings_per_user_for_each_genre_df = pd.read_csv(data_folder + \"/data.csv\")\n",
    "data_df = average_ratings_per_user_for_each_genre_df.fillna(0)\n",
    "data_df = data_df.drop(8041)\n",
    "display(data_df)\n",
    "\n",
    "X = data_df.to_numpy()\n",
    "Y = ratings_df.to_numpy()\n",
    "\n",
    "kNN.fit(X, Y)\n",
    "\n",
    "print(kNN.predict())"
   ],
   "metadata": {
    "collapsed": false,
    "pycharm": {
     "name": "#%%\n"
    }
   }
  },
  {
   "cell_type": "code",
   "execution_count": 10,
   "outputs": [
    {
     "name": "stdout",
     "output_type": "stream",
     "text": [
      "20\n",
      "['Adventure', 'Animation', 'Children', 'Comedy', 'Fantasy', 'Romance', 'Drama', 'Action', 'Crime', 'Thriller', 'Horror', 'Mystery', 'Sci-Fi', 'IMAX', 'Documentary', 'War', 'Musical', 'Western', 'Film-Noir', '(no genres listed)']\n"
     ]
    }
   ],
   "source": [],
   "metadata": {
    "collapsed": false,
    "pycharm": {
     "name": "#%%\n"
    }
   }
  }
 ],
 "metadata": {
  "kernelspec": {
   "display_name": "Python 3.9.7 ('base')",
   "language": "python",
   "name": "python3"
  },
  "language_info": {
   "codemirror_mode": {
    "name": "ipython",
    "version": 3
   },
   "file_extension": ".py",
   "mimetype": "text/x-python",
   "name": "python",
   "nbconvert_exporter": "python",
   "pygments_lexer": "ipython3",
   "version": "3.9.7"
  },
  "vscode": {
   "interpreter": {
    "hash": "a03785ac4c50267612fbe58bda14fd025fac1c5f9a7d8e8a15e8aa0a6dc56ba3"
   }
  }
 },
 "nbformat": 4,
 "nbformat_minor": 0
}