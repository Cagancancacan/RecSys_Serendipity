{
 "cells": [
  {
   "cell_type": "code",
   "execution_count": 8,
   "metadata": {
    "collapsed": true
   },
   "outputs": [],
   "source": [
    "from IPython.display import display\n",
    "import matplotlib.pyplot as plt\n",
    "import pandas as pd\n",
    "\n",
    "data_folder = \"./ml-20m\"\n",
    "\n",
    "ratings_df = pd.read_csv(data_folder + \"/ratings.csv\")\n",
    "movies_df = pd.read_csv(data_folder + \"/movies.csv\")\n",
    "\n",
    "ratings_df = ratings_df.rename(columns={'userId': 'user', 'movieId': 'item'})\n",
    "movies_df = movies_df.rename(columns={'movieId': 'item', 'title': 'title_original'})"
   ]
  },
  {
   "cell_type": "code",
   "execution_count": 9,
   "outputs": [
    {
     "data": {
      "text/plain": "         item                        title  year  \\\n0           1                    toy story  1995   \n1           2                      jumanji  1995   \n2           3             grumpier old men  1995   \n3           4            waiting to exhale  1995   \n4           5  father of the bride part ii  1995   \n...       ...                          ...   ...   \n27273  131254        kein bund für's leben  2007   \n27274  131256       feuer, eis & dosenbier  2002   \n27275  131258                  the pirates  2014   \n27276  131260                 rentun ruusu  2001   \n27277  131262                    innocence  2014   \n\n                                            genres  \n0      Adventure|Animation|Children|Comedy|Fantasy  \n1                       Adventure|Children|Fantasy  \n2                                   Comedy|Romance  \n3                             Comedy|Drama|Romance  \n4                                           Comedy  \n...                                            ...  \n27273                                       Comedy  \n27274                                       Comedy  \n27275                                    Adventure  \n27276                           (no genres listed)  \n27277                     Adventure|Fantasy|Horror  \n\n[27278 rows x 4 columns]",
      "text/html": "<div>\n<style scoped>\n    .dataframe tbody tr th:only-of-type {\n        vertical-align: middle;\n    }\n\n    .dataframe tbody tr th {\n        vertical-align: top;\n    }\n\n    .dataframe thead th {\n        text-align: right;\n    }\n</style>\n<table border=\"1\" class=\"dataframe\">\n  <thead>\n    <tr style=\"text-align: right;\">\n      <th></th>\n      <th>item</th>\n      <th>title</th>\n      <th>year</th>\n      <th>genres</th>\n    </tr>\n  </thead>\n  <tbody>\n    <tr>\n      <th>0</th>\n      <td>1</td>\n      <td>toy story</td>\n      <td>1995</td>\n      <td>Adventure|Animation|Children|Comedy|Fantasy</td>\n    </tr>\n    <tr>\n      <th>1</th>\n      <td>2</td>\n      <td>jumanji</td>\n      <td>1995</td>\n      <td>Adventure|Children|Fantasy</td>\n    </tr>\n    <tr>\n      <th>2</th>\n      <td>3</td>\n      <td>grumpier old men</td>\n      <td>1995</td>\n      <td>Comedy|Romance</td>\n    </tr>\n    <tr>\n      <th>3</th>\n      <td>4</td>\n      <td>waiting to exhale</td>\n      <td>1995</td>\n      <td>Comedy|Drama|Romance</td>\n    </tr>\n    <tr>\n      <th>4</th>\n      <td>5</td>\n      <td>father of the bride part ii</td>\n      <td>1995</td>\n      <td>Comedy</td>\n    </tr>\n    <tr>\n      <th>...</th>\n      <td>...</td>\n      <td>...</td>\n      <td>...</td>\n      <td>...</td>\n    </tr>\n    <tr>\n      <th>27273</th>\n      <td>131254</td>\n      <td>kein bund für's leben</td>\n      <td>2007</td>\n      <td>Comedy</td>\n    </tr>\n    <tr>\n      <th>27274</th>\n      <td>131256</td>\n      <td>feuer, eis &amp; dosenbier</td>\n      <td>2002</td>\n      <td>Comedy</td>\n    </tr>\n    <tr>\n      <th>27275</th>\n      <td>131258</td>\n      <td>the pirates</td>\n      <td>2014</td>\n      <td>Adventure</td>\n    </tr>\n    <tr>\n      <th>27276</th>\n      <td>131260</td>\n      <td>rentun ruusu</td>\n      <td>2001</td>\n      <td>(no genres listed)</td>\n    </tr>\n    <tr>\n      <th>27277</th>\n      <td>131262</td>\n      <td>innocence</td>\n      <td>2014</td>\n      <td>Adventure|Fantasy|Horror</td>\n    </tr>\n  </tbody>\n</table>\n<p>27278 rows × 4 columns</p>\n</div>"
     },
     "metadata": {},
     "output_type": "display_data"
    }
   ],
   "source": [
    "def compute_title_year(row):\n",
    "    # read the title of the specified row, and cast it to the str type,\n",
    "    # then use the strip() method to eliminate the spaces from the beginning and the end of the string\n",
    "    title_original = str(row['title_original']).strip()\n",
    "\n",
    "    # select the substriIng from the fifth-to-last (included) character to the last (excluded)\n",
    "    year = title_original[-5:-1]\n",
    "\n",
    "    # use the isdigit method to determine if the substring selected is a number\n",
    "    if year.isdigit():\n",
    "        # remove the year from the title\n",
    "        # select the substring from the beninning to the sixth-to-last (excluded)\n",
    "        # then use the strip() method to remove spaces at the beginning and at the end of the string\n",
    "        # finally, use the lower() method to obtain the title in lower case\n",
    "        title = title_original[:-6].strip().lower()\n",
    "\n",
    "        # return the year and the title\n",
    "        return int(year), title\n",
    "    else:\n",
    "        # nothing to do, return 0 as year and the title\n",
    "        return 0, title_original.lower()\n",
    "\n",
    "\n",
    "movies_df[['year', 'title']] = movies_df.apply(compute_title_year, axis=1, result_type='expand')\n",
    "movies_df = movies_df[['item', 'title', 'year', 'genres']]\n",
    "display(movies_df)"
   ],
   "metadata": {
    "collapsed": false,
    "pycharm": {
     "name": "#%%\n"
    }
   }
  },
  {
   "cell_type": "code",
   "execution_count": 10,
   "outputs": [
    {
     "data": {
      "text/plain": "                                          genres\nuser                                            \n1             Adventure|Animation|Fantasy|Sci-Fi\n1                               Action|Adventure\n1                                 Action|Western\n1                                  Drama|Western\n1                       Adventure|Comedy|Fantasy\n...                                          ...\n138493                                    Comedy\n138493       Adventure|Animation|Children|Comedy\n138493       Adventure|Animation|Children|Comedy\n138493  Animation|Children|Drama|Musical|Romance\n138493                             Action|Comedy\n\n[19667309 rows x 1 columns]",
      "text/html": "<div>\n<style scoped>\n    .dataframe tbody tr th:only-of-type {\n        vertical-align: middle;\n    }\n\n    .dataframe tbody tr th {\n        vertical-align: top;\n    }\n\n    .dataframe thead th {\n        text-align: right;\n    }\n</style>\n<table border=\"1\" class=\"dataframe\">\n  <thead>\n    <tr style=\"text-align: right;\">\n      <th></th>\n      <th>genres</th>\n    </tr>\n    <tr>\n      <th>user</th>\n      <th></th>\n    </tr>\n  </thead>\n  <tbody>\n    <tr>\n      <th>1</th>\n      <td>Adventure|Animation|Fantasy|Sci-Fi</td>\n    </tr>\n    <tr>\n      <th>1</th>\n      <td>Action|Adventure</td>\n    </tr>\n    <tr>\n      <th>1</th>\n      <td>Action|Western</td>\n    </tr>\n    <tr>\n      <th>1</th>\n      <td>Drama|Western</td>\n    </tr>\n    <tr>\n      <th>1</th>\n      <td>Adventure|Comedy|Fantasy</td>\n    </tr>\n    <tr>\n      <th>...</th>\n      <td>...</td>\n    </tr>\n    <tr>\n      <th>138493</th>\n      <td>Comedy</td>\n    </tr>\n    <tr>\n      <th>138493</th>\n      <td>Adventure|Animation|Children|Comedy</td>\n    </tr>\n    <tr>\n      <th>138493</th>\n      <td>Adventure|Animation|Children|Comedy</td>\n    </tr>\n    <tr>\n      <th>138493</th>\n      <td>Animation|Children|Drama|Musical|Romance</td>\n    </tr>\n    <tr>\n      <th>138493</th>\n      <td>Action|Comedy</td>\n    </tr>\n  </tbody>\n</table>\n<p>19667309 rows × 1 columns</p>\n</div>"
     },
     "metadata": {},
     "output_type": "display_data"
    },
    {
     "data": {
      "text/plain": "Empty DataFrame\nColumns: []\nIndex: [1, 2, 3, 4, 5, 6, 7, 8, 9, 10, 11, 12, 13, 14, 15, 16, 17, 18, 19, 20, 21, 22, 23, 24, 25, 26, 27, 28, 29, 30, 31, 32, 33, 34, 35, 36, 37, 38, 39, 40, 41, 42, 43, 44, 45, 46, 47, 48, 49, 50, 51, 52, 53, 54, 55, 56, 57, 58, 59, 60, 61, 62, 63, 64, 65, 66, 67, 68, 69, 70, 71, 72, 73, 74, 75, 76, 77, 78, 79, 80, 81, 82, 83, 84, 85, 86, 87, 88, 89, 90, 91, 92, 93, 94, 95, 96, 97, 98, 99, 100, ...]\n\n[138493 rows x 0 columns]",
      "text/html": "<div>\n<style scoped>\n    .dataframe tbody tr th:only-of-type {\n        vertical-align: middle;\n    }\n\n    .dataframe tbody tr th {\n        vertical-align: top;\n    }\n\n    .dataframe thead th {\n        text-align: right;\n    }\n</style>\n<table border=\"1\" class=\"dataframe\">\n  <thead>\n    <tr style=\"text-align: right;\">\n      <th></th>\n    </tr>\n    <tr>\n      <th>user</th>\n    </tr>\n  </thead>\n  <tbody>\n    <tr>\n      <th>1</th>\n    </tr>\n    <tr>\n      <th>2</th>\n    </tr>\n    <tr>\n      <th>3</th>\n    </tr>\n    <tr>\n      <th>4</th>\n    </tr>\n    <tr>\n      <th>5</th>\n    </tr>\n    <tr>\n      <th>...</th>\n    </tr>\n    <tr>\n      <th>138489</th>\n    </tr>\n    <tr>\n      <th>138490</th>\n    </tr>\n    <tr>\n      <th>138491</th>\n    </tr>\n    <tr>\n      <th>138492</th>\n    </tr>\n    <tr>\n      <th>138493</th>\n    </tr>\n  </tbody>\n</table>\n<p>138493 rows × 0 columns</p>\n</div>"
     },
     "metadata": {},
     "output_type": "display_data"
    }
   ],
   "source": [
    "movies_df = movies_df.drop_duplicates(subset='title', keep='first')\n",
    "\n",
    "# Join the ratings to the genres\n",
    "ratings_genres_df = pd.merge(movies_df, ratings_df,  how='inner', left_on=['item'], right_on = ['item'])\n",
    "ratings_genres_df = ratings_genres_df[['item', 'user', 'rating', 'title', 'genres']]\n",
    "\n",
    "# keep only the user and genres\n",
    "user_genres = ratings_genres_df.loc[:, ['user', 'genres']]\n",
    "\n",
    "# Create a user only dataframe\n",
    "user_df = user_genres.drop_duplicates(subset=['user'], keep='first')\n",
    "user_df = user_df['user']\n",
    "user_df = pd.DataFrame(user_df)\n",
    "user_df = user_df.set_index('user')\n",
    "user_df = user_df.sort_index(ascending=True)\n",
    "\n",
    "user_genres = user_genres.set_index('user')\n",
    "user_genres = user_genres.sort_values(by=\"user\", ascending=True)\n",
    "\n",
    "display(user_genres)\n",
    "display(user_df)"
   ],
   "metadata": {
    "collapsed": false,
    "pycharm": {
     "name": "#%%\n"
    }
   }
  },
  {
   "cell_type": "code",
   "execution_count": 11,
   "outputs": [],
   "source": [
    "import numpy as np\n",
    "\n",
    "def count_rated_genres(user_id, df):\n",
    "\n",
    "    user_genre = df.loc[user_id,:]\n",
    "    rated_genres = set()\n",
    "\n",
    "    for genre in user_genre.genres:\n",
    "        rated_genres.update(genre.split('|'))\n",
    "\n",
    "    return len(rated_genres)\n",
    "\n",
    "user_genres_rated = []\n",
    "for user in user_df.index:\n",
    "     user_genres_rated.append(count_rated_genres(user, user_genres))\n"
   ],
   "metadata": {
    "collapsed": false,
    "pycharm": {
     "name": "#%%\n"
    }
   }
  },
  {
   "cell_type": "code",
   "execution_count": 12,
   "outputs": [
    {
     "data": {
      "text/plain": "          user  genres_rated\n0            1            17\n1            2            18\n2            3            18\n3            4            15\n4            5            17\n...        ...           ...\n138488  138489            17\n138489  138490            18\n138490  138491            14\n138491  138492            17\n138492  138493            19\n\n[138493 rows x 2 columns]",
      "text/html": "<div>\n<style scoped>\n    .dataframe tbody tr th:only-of-type {\n        vertical-align: middle;\n    }\n\n    .dataframe tbody tr th {\n        vertical-align: top;\n    }\n\n    .dataframe thead th {\n        text-align: right;\n    }\n</style>\n<table border=\"1\" class=\"dataframe\">\n  <thead>\n    <tr style=\"text-align: right;\">\n      <th></th>\n      <th>user</th>\n      <th>genres_rated</th>\n    </tr>\n  </thead>\n  <tbody>\n    <tr>\n      <th>0</th>\n      <td>1</td>\n      <td>17</td>\n    </tr>\n    <tr>\n      <th>1</th>\n      <td>2</td>\n      <td>18</td>\n    </tr>\n    <tr>\n      <th>2</th>\n      <td>3</td>\n      <td>18</td>\n    </tr>\n    <tr>\n      <th>3</th>\n      <td>4</td>\n      <td>15</td>\n    </tr>\n    <tr>\n      <th>4</th>\n      <td>5</td>\n      <td>17</td>\n    </tr>\n    <tr>\n      <th>...</th>\n      <td>...</td>\n      <td>...</td>\n    </tr>\n    <tr>\n      <th>138488</th>\n      <td>138489</td>\n      <td>17</td>\n    </tr>\n    <tr>\n      <th>138489</th>\n      <td>138490</td>\n      <td>18</td>\n    </tr>\n    <tr>\n      <th>138490</th>\n      <td>138491</td>\n      <td>14</td>\n    </tr>\n    <tr>\n      <th>138491</th>\n      <td>138492</td>\n      <td>17</td>\n    </tr>\n    <tr>\n      <th>138492</th>\n      <td>138493</td>\n      <td>19</td>\n    </tr>\n  </tbody>\n</table>\n<p>138493 rows × 2 columns</p>\n</div>"
     },
     "metadata": {},
     "output_type": "display_data"
    },
    {
     "name": "stdout",
     "output_type": "stream",
     "text": [
      "16.360133725170225\n"
     ]
    },
    {
     "data": {
      "text/plain": "          user  genres_rated\n0            1            17\n1            2            18\n2            3            18\n4            5            17\n6            7            18\n...        ...           ...\n138486  138487            17\n138488  138489            17\n138489  138490            18\n138491  138492            17\n138492  138493            19\n\n[75487 rows x 2 columns]",
      "text/html": "<div>\n<style scoped>\n    .dataframe tbody tr th:only-of-type {\n        vertical-align: middle;\n    }\n\n    .dataframe tbody tr th {\n        vertical-align: top;\n    }\n\n    .dataframe thead th {\n        text-align: right;\n    }\n</style>\n<table border=\"1\" class=\"dataframe\">\n  <thead>\n    <tr style=\"text-align: right;\">\n      <th></th>\n      <th>user</th>\n      <th>genres_rated</th>\n    </tr>\n  </thead>\n  <tbody>\n    <tr>\n      <th>0</th>\n      <td>1</td>\n      <td>17</td>\n    </tr>\n    <tr>\n      <th>1</th>\n      <td>2</td>\n      <td>18</td>\n    </tr>\n    <tr>\n      <th>2</th>\n      <td>3</td>\n      <td>18</td>\n    </tr>\n    <tr>\n      <th>4</th>\n      <td>5</td>\n      <td>17</td>\n    </tr>\n    <tr>\n      <th>6</th>\n      <td>7</td>\n      <td>18</td>\n    </tr>\n    <tr>\n      <th>...</th>\n      <td>...</td>\n      <td>...</td>\n    </tr>\n    <tr>\n      <th>138486</th>\n      <td>138487</td>\n      <td>17</td>\n    </tr>\n    <tr>\n      <th>138488</th>\n      <td>138489</td>\n      <td>17</td>\n    </tr>\n    <tr>\n      <th>138489</th>\n      <td>138490</td>\n      <td>18</td>\n    </tr>\n    <tr>\n      <th>138491</th>\n      <td>138492</td>\n      <td>17</td>\n    </tr>\n    <tr>\n      <th>138492</th>\n      <td>138493</td>\n      <td>19</td>\n    </tr>\n  </tbody>\n</table>\n<p>75487 rows × 2 columns</p>\n</div>"
     },
     "metadata": {},
     "output_type": "display_data"
    }
   ],
   "source": [
    "user_genres_rated_df = pd.DataFrame({\n",
    "    'user' : user_df.index.tolist(),\n",
    "    'genres_rated' : user_genres_rated\n",
    "})\n",
    "\n",
    "display(user_genres_rated_df)\n",
    "\n",
    "mean_genres_rated = np.mean(user_genres_rated)\n",
    "print(mean_genres_rated)\n",
    "user_genres_rated_df = user_genres_rated_df[user_genres_rated_df['genres_rated'] > mean_genres_rated]\n",
    "\n",
    "display(user_genres_rated_df)"
   ],
   "metadata": {
    "collapsed": false,
    "pycharm": {
     "name": "#%%\n"
    }
   }
  },
  {
   "cell_type": "code",
   "execution_count": 13,
   "outputs": [
    {
     "data": {
      "text/plain": "         user  num_ratings  genres_rated\n0           1          175            17\n1           3          187            18\n2           7          276            18\n3          11          504            19\n4          14          243            17\n...       ...          ...           ...\n35870  138483          276            19\n35871  138484          148            18\n35872  138486          193            18\n35873  138490          151            18\n35874  138493          373            19\n\n[35875 rows x 3 columns]",
      "text/html": "<div>\n<style scoped>\n    .dataframe tbody tr th:only-of-type {\n        vertical-align: middle;\n    }\n\n    .dataframe tbody tr th {\n        vertical-align: top;\n    }\n\n    .dataframe thead th {\n        text-align: right;\n    }\n</style>\n<table border=\"1\" class=\"dataframe\">\n  <thead>\n    <tr style=\"text-align: right;\">\n      <th></th>\n      <th>user</th>\n      <th>num_ratings</th>\n      <th>genres_rated</th>\n    </tr>\n  </thead>\n  <tbody>\n    <tr>\n      <th>0</th>\n      <td>1</td>\n      <td>175</td>\n      <td>17</td>\n    </tr>\n    <tr>\n      <th>1</th>\n      <td>3</td>\n      <td>187</td>\n      <td>18</td>\n    </tr>\n    <tr>\n      <th>2</th>\n      <td>7</td>\n      <td>276</td>\n      <td>18</td>\n    </tr>\n    <tr>\n      <th>3</th>\n      <td>11</td>\n      <td>504</td>\n      <td>19</td>\n    </tr>\n    <tr>\n      <th>4</th>\n      <td>14</td>\n      <td>243</td>\n      <td>17</td>\n    </tr>\n    <tr>\n      <th>...</th>\n      <td>...</td>\n      <td>...</td>\n      <td>...</td>\n    </tr>\n    <tr>\n      <th>35870</th>\n      <td>138483</td>\n      <td>276</td>\n      <td>19</td>\n    </tr>\n    <tr>\n      <th>35871</th>\n      <td>138484</td>\n      <td>148</td>\n      <td>18</td>\n    </tr>\n    <tr>\n      <th>35872</th>\n      <td>138486</td>\n      <td>193</td>\n      <td>18</td>\n    </tr>\n    <tr>\n      <th>35873</th>\n      <td>138490</td>\n      <td>151</td>\n      <td>18</td>\n    </tr>\n    <tr>\n      <th>35874</th>\n      <td>138493</td>\n      <td>373</td>\n      <td>19</td>\n    </tr>\n  </tbody>\n</table>\n<p>35875 rows × 3 columns</p>\n</div>"
     },
     "metadata": {},
     "output_type": "display_data"
    }
   ],
   "source": [
    "count_ratings = ratings_df.groupby(['user']).count()\n",
    "selected = count_ratings['rating'] > count_ratings['rating'].mean()\n",
    "\n",
    "expert_users = count_ratings.loc[selected]\n",
    "expert_users = pd.DataFrame(expert_users)\n",
    "expert_users = expert_users.reset_index()\n",
    "expert_users = expert_users.merge(user_genres_rated_df, how='inner', left_on='user', right_on='user')\n",
    "expert_users = expert_users.drop(['timestamp', 'item'], axis=1)\n",
    "expert_users.rename(columns={'rating' : 'num_ratings'}, inplace=True)\n",
    "\n",
    "display(expert_users)"
   ],
   "metadata": {
    "collapsed": false,
    "pycharm": {
     "name": "#%%\n"
    }
   }
  }
 ],
 "metadata": {
  "kernelspec": {
   "display_name": "Python 3",
   "language": "python",
   "name": "python3"
  },
  "language_info": {
   "codemirror_mode": {
    "name": "ipython",
    "version": 2
   },
   "file_extension": ".py",
   "mimetype": "text/x-python",
   "name": "python",
   "nbconvert_exporter": "python",
   "pygments_lexer": "ipython2",
   "version": "2.7.6"
  }
 },
 "nbformat": 4,
 "nbformat_minor": 0
}