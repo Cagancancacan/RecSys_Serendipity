{
 "cells": [
  {
   "cell_type": "code",
   "execution_count": 30,
   "outputs": [
    {
     "data": {
      "text/plain": "       movie_id                               title  \\\n0             1                    Toy Story (1995)   \n1             2                      Jumanji (1995)   \n2             3             Grumpier Old Men (1995)   \n3             4            Waiting to Exhale (1995)   \n4             5  Father of the Bride Part II (1995)   \n...         ...                                 ...   \n27273    131254        Kein Bund für's Leben (2007)   \n27274    131256       Feuer, Eis & Dosenbier (2002)   \n27275    131258                  The Pirates (2014)   \n27276    131260                 Rentun Ruusu (2001)   \n27277    131262                    Innocence (2014)   \n\n                                            genres  \n0      Adventure|Animation|Children|Comedy|Fantasy  \n1                       Adventure|Children|Fantasy  \n2                                   Comedy|Romance  \n3                             Comedy|Drama|Romance  \n4                                           Comedy  \n...                                            ...  \n27273                                       Comedy  \n27274                                       Comedy  \n27275                                    Adventure  \n27276                           (no genres listed)  \n27277                     Adventure|Fantasy|Horror  \n\n[27278 rows x 3 columns]",
      "text/html": "<div>\n<style scoped>\n    .dataframe tbody tr th:only-of-type {\n        vertical-align: middle;\n    }\n\n    .dataframe tbody tr th {\n        vertical-align: top;\n    }\n\n    .dataframe thead th {\n        text-align: right;\n    }\n</style>\n<table border=\"1\" class=\"dataframe\">\n  <thead>\n    <tr style=\"text-align: right;\">\n      <th></th>\n      <th>movie_id</th>\n      <th>title</th>\n      <th>genres</th>\n    </tr>\n  </thead>\n  <tbody>\n    <tr>\n      <th>0</th>\n      <td>1</td>\n      <td>Toy Story (1995)</td>\n      <td>Adventure|Animation|Children|Comedy|Fantasy</td>\n    </tr>\n    <tr>\n      <th>1</th>\n      <td>2</td>\n      <td>Jumanji (1995)</td>\n      <td>Adventure|Children|Fantasy</td>\n    </tr>\n    <tr>\n      <th>2</th>\n      <td>3</td>\n      <td>Grumpier Old Men (1995)</td>\n      <td>Comedy|Romance</td>\n    </tr>\n    <tr>\n      <th>3</th>\n      <td>4</td>\n      <td>Waiting to Exhale (1995)</td>\n      <td>Comedy|Drama|Romance</td>\n    </tr>\n    <tr>\n      <th>4</th>\n      <td>5</td>\n      <td>Father of the Bride Part II (1995)</td>\n      <td>Comedy</td>\n    </tr>\n    <tr>\n      <th>...</th>\n      <td>...</td>\n      <td>...</td>\n      <td>...</td>\n    </tr>\n    <tr>\n      <th>27273</th>\n      <td>131254</td>\n      <td>Kein Bund für's Leben (2007)</td>\n      <td>Comedy</td>\n    </tr>\n    <tr>\n      <th>27274</th>\n      <td>131256</td>\n      <td>Feuer, Eis &amp; Dosenbier (2002)</td>\n      <td>Comedy</td>\n    </tr>\n    <tr>\n      <th>27275</th>\n      <td>131258</td>\n      <td>The Pirates (2014)</td>\n      <td>Adventure</td>\n    </tr>\n    <tr>\n      <th>27276</th>\n      <td>131260</td>\n      <td>Rentun Ruusu (2001)</td>\n      <td>(no genres listed)</td>\n    </tr>\n    <tr>\n      <th>27277</th>\n      <td>131262</td>\n      <td>Innocence (2014)</td>\n      <td>Adventure|Fantasy|Horror</td>\n    </tr>\n  </tbody>\n</table>\n<p>27278 rows × 3 columns</p>\n</div>"
     },
     "metadata": {},
     "output_type": "display_data"
    },
    {
     "data": {
      "text/plain": "          user_id  movie_id  rating\n0               1         2     3.5\n1               1        29     3.5\n2               1        32     3.5\n3               1        47     3.5\n4               1        50     3.5\n...           ...       ...     ...\n20000258   138493     68954     4.5\n20000259   138493     69526     4.5\n20000260   138493     69644     3.0\n20000261   138493     70286     5.0\n20000262   138493     71619     2.5\n\n[20000263 rows x 3 columns]",
      "text/html": "<div>\n<style scoped>\n    .dataframe tbody tr th:only-of-type {\n        vertical-align: middle;\n    }\n\n    .dataframe tbody tr th {\n        vertical-align: top;\n    }\n\n    .dataframe thead th {\n        text-align: right;\n    }\n</style>\n<table border=\"1\" class=\"dataframe\">\n  <thead>\n    <tr style=\"text-align: right;\">\n      <th></th>\n      <th>user_id</th>\n      <th>movie_id</th>\n      <th>rating</th>\n    </tr>\n  </thead>\n  <tbody>\n    <tr>\n      <th>0</th>\n      <td>1</td>\n      <td>2</td>\n      <td>3.5</td>\n    </tr>\n    <tr>\n      <th>1</th>\n      <td>1</td>\n      <td>29</td>\n      <td>3.5</td>\n    </tr>\n    <tr>\n      <th>2</th>\n      <td>1</td>\n      <td>32</td>\n      <td>3.5</td>\n    </tr>\n    <tr>\n      <th>3</th>\n      <td>1</td>\n      <td>47</td>\n      <td>3.5</td>\n    </tr>\n    <tr>\n      <th>4</th>\n      <td>1</td>\n      <td>50</td>\n      <td>3.5</td>\n    </tr>\n    <tr>\n      <th>...</th>\n      <td>...</td>\n      <td>...</td>\n      <td>...</td>\n    </tr>\n    <tr>\n      <th>20000258</th>\n      <td>138493</td>\n      <td>68954</td>\n      <td>4.5</td>\n    </tr>\n    <tr>\n      <th>20000259</th>\n      <td>138493</td>\n      <td>69526</td>\n      <td>4.5</td>\n    </tr>\n    <tr>\n      <th>20000260</th>\n      <td>138493</td>\n      <td>69644</td>\n      <td>3.0</td>\n    </tr>\n    <tr>\n      <th>20000261</th>\n      <td>138493</td>\n      <td>70286</td>\n      <td>5.0</td>\n    </tr>\n    <tr>\n      <th>20000262</th>\n      <td>138493</td>\n      <td>71619</td>\n      <td>2.5</td>\n    </tr>\n  </tbody>\n</table>\n<p>20000263 rows × 3 columns</p>\n</div>"
     },
     "metadata": {},
     "output_type": "display_data"
    },
    {
     "data": {
      "text/plain": "          movie_id  tag_id           tag  relevance\n0                1       1           007    0.02500\n1                1       2  007 (series)    0.02500\n2                1       3  18th century    0.05775\n3                1       4         1920s    0.09675\n4                1       5         1930s    0.14675\n...            ...     ...           ...        ...\n11709763    131170    1124           NaN    0.58775\n11709764    131170    1125           NaN    0.01075\n11709765    131170    1126           NaN    0.01575\n11709766    131170    1127           NaN    0.11450\n11709767    131170    1128           NaN    0.02175\n\n[11709768 rows x 4 columns]",
      "text/html": "<div>\n<style scoped>\n    .dataframe tbody tr th:only-of-type {\n        vertical-align: middle;\n    }\n\n    .dataframe tbody tr th {\n        vertical-align: top;\n    }\n\n    .dataframe thead th {\n        text-align: right;\n    }\n</style>\n<table border=\"1\" class=\"dataframe\">\n  <thead>\n    <tr style=\"text-align: right;\">\n      <th></th>\n      <th>movie_id</th>\n      <th>tag_id</th>\n      <th>tag</th>\n      <th>relevance</th>\n    </tr>\n  </thead>\n  <tbody>\n    <tr>\n      <th>0</th>\n      <td>1</td>\n      <td>1</td>\n      <td>007</td>\n      <td>0.02500</td>\n    </tr>\n    <tr>\n      <th>1</th>\n      <td>1</td>\n      <td>2</td>\n      <td>007 (series)</td>\n      <td>0.02500</td>\n    </tr>\n    <tr>\n      <th>2</th>\n      <td>1</td>\n      <td>3</td>\n      <td>18th century</td>\n      <td>0.05775</td>\n    </tr>\n    <tr>\n      <th>3</th>\n      <td>1</td>\n      <td>4</td>\n      <td>1920s</td>\n      <td>0.09675</td>\n    </tr>\n    <tr>\n      <th>4</th>\n      <td>1</td>\n      <td>5</td>\n      <td>1930s</td>\n      <td>0.14675</td>\n    </tr>\n    <tr>\n      <th>...</th>\n      <td>...</td>\n      <td>...</td>\n      <td>...</td>\n      <td>...</td>\n    </tr>\n    <tr>\n      <th>11709763</th>\n      <td>131170</td>\n      <td>1124</td>\n      <td>NaN</td>\n      <td>0.58775</td>\n    </tr>\n    <tr>\n      <th>11709764</th>\n      <td>131170</td>\n      <td>1125</td>\n      <td>NaN</td>\n      <td>0.01075</td>\n    </tr>\n    <tr>\n      <th>11709765</th>\n      <td>131170</td>\n      <td>1126</td>\n      <td>NaN</td>\n      <td>0.01575</td>\n    </tr>\n    <tr>\n      <th>11709766</th>\n      <td>131170</td>\n      <td>1127</td>\n      <td>NaN</td>\n      <td>0.11450</td>\n    </tr>\n    <tr>\n      <th>11709767</th>\n      <td>131170</td>\n      <td>1128</td>\n      <td>NaN</td>\n      <td>0.02175</td>\n    </tr>\n  </tbody>\n</table>\n<p>11709768 rows × 4 columns</p>\n</div>"
     },
     "metadata": {},
     "output_type": "display_data"
    },
    {
     "data": {
      "text/plain": "        user_id  movie_id            tag\n0            18      4141    Mark Waters\n1            65       208      dark hero\n2            65       353      dark hero\n3            65       521  noir thriller\n4            65       592      dark hero\n...         ...       ...            ...\n465559   138446     55999        dragged\n465560   138446     55999  Jason Bateman\n465561   138446     55999         quirky\n465562   138446     55999            sad\n465563   138472       923  rise to power\n\n[465564 rows x 3 columns]",
      "text/html": "<div>\n<style scoped>\n    .dataframe tbody tr th:only-of-type {\n        vertical-align: middle;\n    }\n\n    .dataframe tbody tr th {\n        vertical-align: top;\n    }\n\n    .dataframe thead th {\n        text-align: right;\n    }\n</style>\n<table border=\"1\" class=\"dataframe\">\n  <thead>\n    <tr style=\"text-align: right;\">\n      <th></th>\n      <th>user_id</th>\n      <th>movie_id</th>\n      <th>tag</th>\n    </tr>\n  </thead>\n  <tbody>\n    <tr>\n      <th>0</th>\n      <td>18</td>\n      <td>4141</td>\n      <td>Mark Waters</td>\n    </tr>\n    <tr>\n      <th>1</th>\n      <td>65</td>\n      <td>208</td>\n      <td>dark hero</td>\n    </tr>\n    <tr>\n      <th>2</th>\n      <td>65</td>\n      <td>353</td>\n      <td>dark hero</td>\n    </tr>\n    <tr>\n      <th>3</th>\n      <td>65</td>\n      <td>521</td>\n      <td>noir thriller</td>\n    </tr>\n    <tr>\n      <th>4</th>\n      <td>65</td>\n      <td>592</td>\n      <td>dark hero</td>\n    </tr>\n    <tr>\n      <th>...</th>\n      <td>...</td>\n      <td>...</td>\n      <td>...</td>\n    </tr>\n    <tr>\n      <th>465559</th>\n      <td>138446</td>\n      <td>55999</td>\n      <td>dragged</td>\n    </tr>\n    <tr>\n      <th>465560</th>\n      <td>138446</td>\n      <td>55999</td>\n      <td>Jason Bateman</td>\n    </tr>\n    <tr>\n      <th>465561</th>\n      <td>138446</td>\n      <td>55999</td>\n      <td>quirky</td>\n    </tr>\n    <tr>\n      <th>465562</th>\n      <td>138446</td>\n      <td>55999</td>\n      <td>sad</td>\n    </tr>\n    <tr>\n      <th>465563</th>\n      <td>138472</td>\n      <td>923</td>\n      <td>rise to power</td>\n    </tr>\n  </tbody>\n</table>\n<p>465564 rows × 3 columns</p>\n</div>"
     },
     "metadata": {},
     "output_type": "display_data"
    }
   ],
   "source": [
    "import pandas as pd\n",
    "import numpy as np\n",
    "from IPython.display import display\n",
    "\n",
    "#import original data folder\n",
    "data_folder = \"C:\\\\Users\\\\roman\\\\OneDrive\\\\Bureau\\\\UM\\\\BA\\\\Y3\\\\P1\\\\RS\\\\Group Assignment\\\\archive\"\n",
    "\n",
    "#preparing movies\n",
    "movies = pd.read_csv(data_folder + \"\\\\movie.csv\")\n",
    "movies_df = movies.rename(columns={'movieId': 'movie_id', 'title': 'title', 'genres': 'genres'})\n",
    "movies_df = movies_df[['movie_id', 'title', 'genres']]\n",
    "display(movies_df)\n",
    "\n",
    "#preparing ratings\n",
    "ratings = pd.read_csv(data_folder + \"\\\\rating.csv\")\n",
    "ratings_df = ratings.rename(columns={'userId': 'user_id', 'movieId': 'movie_id', 'rating': 'rating', 'timestamp': 'timestamp'})\n",
    "ratings_df = ratings_df[['user_id', 'movie_id', 'rating']]\n",
    "display(ratings_df)\n",
    "\n",
    "#preparing movies_tags\n",
    "genome_tags = pd.read_csv(data_folder + \"\\\\genome_tags.csv\")\n",
    "genome_tags_df = genome_tags.rename(columns={'tagId': 'tag_id', 'tag': 'tag'})\n",
    "movies_tags = pd.read_csv(data_folder + \"\\\\genome_scores.csv\")\n",
    "movies_tags_df = movies_tags.rename(columns={'movieId': 'movie_id', 'tagId': 'tag_id', 'relevance': 'relevance'})\n",
    "\n",
    "movies_tags_df.insert(2, \"tag\", genome_tags_df[\"tag\"])\n",
    "display(movies_tags_df)\n",
    "\n",
    "#preparing users_tags\n",
    "users_tags = pd.read_csv(data_folder + \"\\\\tag.csv\")\n",
    "users_tags_df = users_tags.rename(columns={'userId': 'user_id', 'movieId': 'movie_id', 'tag': 'tag', 'timestamp': 'timestamp'})\n",
    "users_tags_df = users_tags_df[['user_id', 'movie_id', 'tag']]\n",
    "display(users_tags_df)\n"
   ],
   "metadata": {
    "collapsed": false,
    "pycharm": {
     "name": "#%% LOADING DATA AND CREATING DATAFRAMES\n"
    }
   }
  },
  {
   "cell_type": "code",
   "execution_count": 31,
   "outputs": [
    {
     "data": {
      "text/plain": "                                              genres\nuser_id                                             \n3        Adventure|Animation|Children|Comedy|Fantasy\n6        Adventure|Animation|Children|Comedy|Fantasy\n8        Adventure|Animation|Children|Comedy|Fantasy\n10       Adventure|Animation|Children|Comedy|Fantasy\n11       Adventure|Animation|Children|Comedy|Fantasy\n...                                              ...\n79570                                         Comedy\n79570                                         Comedy\n28906                                      Adventure\n65409                             (no genres listed)\n133047                      Adventure|Fantasy|Horror\n\n[19999685 rows x 1 columns]",
      "text/html": "<div>\n<style scoped>\n    .dataframe tbody tr th:only-of-type {\n        vertical-align: middle;\n    }\n\n    .dataframe tbody tr th {\n        vertical-align: top;\n    }\n\n    .dataframe thead th {\n        text-align: right;\n    }\n</style>\n<table border=\"1\" class=\"dataframe\">\n  <thead>\n    <tr style=\"text-align: right;\">\n      <th></th>\n      <th>genres</th>\n    </tr>\n    <tr>\n      <th>user_id</th>\n      <th></th>\n    </tr>\n  </thead>\n  <tbody>\n    <tr>\n      <th>3</th>\n      <td>Adventure|Animation|Children|Comedy|Fantasy</td>\n    </tr>\n    <tr>\n      <th>6</th>\n      <td>Adventure|Animation|Children|Comedy|Fantasy</td>\n    </tr>\n    <tr>\n      <th>8</th>\n      <td>Adventure|Animation|Children|Comedy|Fantasy</td>\n    </tr>\n    <tr>\n      <th>10</th>\n      <td>Adventure|Animation|Children|Comedy|Fantasy</td>\n    </tr>\n    <tr>\n      <th>11</th>\n      <td>Adventure|Animation|Children|Comedy|Fantasy</td>\n    </tr>\n    <tr>\n      <th>...</th>\n      <td>...</td>\n    </tr>\n    <tr>\n      <th>79570</th>\n      <td>Comedy</td>\n    </tr>\n    <tr>\n      <th>79570</th>\n      <td>Comedy</td>\n    </tr>\n    <tr>\n      <th>28906</th>\n      <td>Adventure</td>\n    </tr>\n    <tr>\n      <th>65409</th>\n      <td>(no genres listed)</td>\n    </tr>\n    <tr>\n      <th>133047</th>\n      <td>Adventure|Fantasy|Horror</td>\n    </tr>\n  </tbody>\n</table>\n<p>19999685 rows × 1 columns</p>\n</div>"
     },
     "metadata": {},
     "output_type": "display_data"
    },
    {
     "data": {
      "text/plain": "Empty DataFrame\nColumns: []\nIndex: [1, 2, 3, 4, 5, 6, 7, 8, 9, 10, 11, 12, 13, 14, 15, 16, 17, 18, 19, 20, 21, 22, 23, 24, 25, 26, 27, 28, 29, 30, 31, 32, 33, 34, 35, 36, 37, 38, 39, 40, 41, 42, 43, 44, 45, 46, 47, 48, 49, 50, 51, 52, 53, 54, 55, 56, 57, 58, 59, 60, 61, 62, 63, 64, 65, 66, 67, 68, 69, 70, 71, 72, 73, 74, 75, 76, 77, 78, 79, 80, 81, 82, 83, 84, 85, 86, 87, 88, 89, 90, 91, 92, 93, 94, 95, 96, 97, 98, 99, 100, ...]\n\n[138493 rows x 0 columns]",
      "text/html": "<div>\n<style scoped>\n    .dataframe tbody tr th:only-of-type {\n        vertical-align: middle;\n    }\n\n    .dataframe tbody tr th {\n        vertical-align: top;\n    }\n\n    .dataframe thead th {\n        text-align: right;\n    }\n</style>\n<table border=\"1\" class=\"dataframe\">\n  <thead>\n    <tr style=\"text-align: right;\">\n      <th></th>\n    </tr>\n    <tr>\n      <th>user_id</th>\n    </tr>\n  </thead>\n  <tbody>\n    <tr>\n      <th>1</th>\n    </tr>\n    <tr>\n      <th>2</th>\n    </tr>\n    <tr>\n      <th>3</th>\n    </tr>\n    <tr>\n      <th>4</th>\n    </tr>\n    <tr>\n      <th>5</th>\n    </tr>\n    <tr>\n      <th>...</th>\n    </tr>\n    <tr>\n      <th>138489</th>\n    </tr>\n    <tr>\n      <th>138490</th>\n    </tr>\n    <tr>\n      <th>138491</th>\n    </tr>\n    <tr>\n      <th>138492</th>\n    </tr>\n    <tr>\n      <th>138493</th>\n    </tr>\n  </tbody>\n</table>\n<p>138493 rows × 0 columns</p>\n</div>"
     },
     "metadata": {},
     "output_type": "display_data"
    }
   ],
   "source": [
    "movies_df = movies_df.drop_duplicates(subset='title', keep='first')\n",
    "\n",
    "#join ratings to genres\n",
    "ratings_genres_df = pd.merge(movies_df, ratings_df,  how='inner', left_on=['movie_id'], right_on = ['movie_id'])\n",
    "ratings_genres_df = ratings_genres_df[['movie_id', 'user_id', 'rating', 'title', 'genres']]\n",
    "\n",
    "#keep only users and genres\n",
    "users_genres = ratings_genres_df.loc[:, ['user_id', 'genres']]\n",
    "\n",
    "#new users only dataframe\n",
    "users_df = users_genres.drop_duplicates(subset=['user_id'], keep='first')\n",
    "users_df = users_df['user_id']\n",
    "users_df = pd.DataFrame(users_df)\n",
    "users_df = users_df.set_index('user_id')\n",
    "users_df = users_df.sort_index(ascending=True)\n",
    "\n",
    "users_genres = users_genres.set_index('user_id')\n",
    "user_genres = users_genres.sort_values(by=\"user_id\", ascending=True)\n",
    "\n",
    "display(users_genres)\n",
    "display(users_df)\n"
   ],
   "metadata": {
    "collapsed": false,
    "pycharm": {
     "name": "#%% PREPARING DATAFRAMES FOR RATED GENRES AMOUNT CONDITION\n"
    }
   }
  },
  {
   "cell_type": "code",
   "execution_count": null,
   "outputs": [],
   "source": [
    "def count_rated_genres(user_id, df):\n",
    "\n",
    "    users_genres = df.loc[user_id,:]\n",
    "    rated_genres = set()\n",
    "\n",
    "    for genre in users_genres.genres:\n",
    "        rated_genres.update(genre.split('|'))\n",
    "\n",
    "    return len(rated_genres)\n",
    "\n",
    "users_rated_genres = []\n",
    "for user in users_df.index:\n",
    "     users_rated_genres.append(count_rated_genres(user, users_genres))\n",
    "\n",
    "users_rated_genres_df = pd.DataFrame({\n",
    "    'user_id' : users_df.index.tolist(),\n",
    "    'rated_genres' : users_rated_genres\n",
    "})\n",
    "\n",
    "display(users_rated_genres_df)\n"
   ],
   "metadata": {
    "collapsed": false,
    "pycharm": {
     "name": "#%% COUNT RATED GENRES AMOUNT FOR EACH USER\n",
     "is_executing": true
    }
   }
  },
  {
   "cell_type": "code",
   "execution_count": null,
   "outputs": [],
   "source": [
    "mean_rated_genres = np.mean(users_rated_genres)\n",
    "print(mean_rated_genres)\n",
    "users_rated_genres_df = users_rated_genres_df[users_rated_genres_df['rated_genres'] > mean_rated_genres]\n",
    "\n",
    "display(users_rated_genres_df)\n"
   ],
   "metadata": {
    "collapsed": false,
    "pycharm": {
     "name": "#%% REDUCING USERS WITH RATED GENRES AMOUNT ABOVE THRESHOLD (mean)\n",
     "is_executing": true
    }
   }
  },
  {
   "cell_type": "code",
   "execution_count": null,
   "outputs": [],
   "source": [
    "count_ratings = ratings_df.groupby(['user_id']).count()\n",
    "selected = count_ratings['rating'] > count_ratings['rating'].mean()\n",
    "expert_users = count_ratings.loc[selected]\n",
    "expert_users = pd.DataFrame(expert_users)\n",
    "expert_users = expert_users.reset_index()\n",
    "expert_users = expert_users.merge(users_rated_genres_df, how='inner', left_on='user_id', right_on='user_id')\n",
    "#expert_users = expert_users.drop(['timestamp', 'item'], axis=1)\n",
    "expert_users.rename(columns={'rating' : 'num_ratings'}, inplace=True)\n",
    "\n",
    "display(expert_users)\n"
   ],
   "metadata": {
    "collapsed": false,
    "pycharm": {
     "name": "#%% REDUCING USERS WITH RATINGS AMOUNT ABOVE THESHOLD (mean)\n",
     "is_executing": true
    }
   }
  }
 ],
 "metadata": {
  "kernelspec": {
   "display_name": "Python 3",
   "language": "python",
   "name": "python3"
  },
  "language_info": {
   "codemirror_mode": {
    "name": "ipython",
    "version": 2
   },
   "file_extension": ".py",
   "mimetype": "text/x-python",
   "name": "python",
   "nbconvert_exporter": "python",
   "pygments_lexer": "ipython2",
   "version": "2.7.6"
  }
 },
 "nbformat": 4,
 "nbformat_minor": 0
}