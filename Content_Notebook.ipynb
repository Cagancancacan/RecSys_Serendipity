{
 "cells": [
  {
   "cell_type": "code",
   "execution_count": 37,
   "outputs": [],
   "source": [
    "from IPython.display import display\n",
    "import pandas as pd\n",
    "import numpy as np"
   ],
   "metadata": {
    "collapsed": false,
    "pycharm": {
     "name": "#%%\n"
    }
   }
  },
  {
   "cell_type": "code",
   "execution_count": 38,
   "metadata": {
    "collapsed": true
   },
   "outputs": [],
   "source": [
    "def select_user(expert_users, ratings_genres_df):\n",
    "\n",
    "    random_user = expert_users.sample()\n",
    "    random_user = random_user['user']\n",
    "\n",
    "    seen_movies = pd.merge(random_user, ratings_genres_df, how='left', left_on='user', right_on='user')\n",
    "\n",
    "\n",
    "    return seen_movies\n",
    "\n",
    "def get_favourite_movies(seen_movies):\n",
    "        return seen_movies.loc[seen_movies['rating'] == np.max(seen_movies['rating'])]"
   ]
  },
  {
   "cell_type": "code",
   "execution_count": 39,
   "outputs": [],
   "source": [
    "def get_genre_set(ratings_genres_df):\n",
    "    genre_set = set()\n",
    "    for genres in ratings_genres_df.genres:\n",
    "        genre_set.update(genres.split('|'))\n",
    "\n",
    "    return genre_set"
   ],
   "metadata": {
    "collapsed": false,
    "pycharm": {
     "name": "#%%\n"
    }
   }
  },
  {
   "cell_type": "code",
   "execution_count": 40,
   "outputs": [],
   "source": [
    "def get_powerset(items):\n",
    "  powerset = list(items)\n",
    "  n = len(powerset)\n",
    "  return [[powerset[k] for k in range(n) if i&1<<k] for i in range(2**n)]\n",
    "\n",
    "def get_favourite_genres_powerset(genre_set, favourite_movies, num_genres=3):\n",
    "    genre_set_list = list(genre_set)\n",
    "    genre_count = np.zeros(len(genre_set_list))\n",
    "\n",
    "    for genre in favourite_movies.genres:\n",
    "        genre_list = genre.split('|')\n",
    "        for i in range(len(genre_list)):\n",
    "            for j in range(len(genre_set_list)):\n",
    "                if genre_list[i] == genre_set_list[j]:\n",
    "                    genre_count[j] += 1\n",
    "\n",
    "    favourite_genres = []\n",
    "    while len(favourite_genres) < num_genres:\n",
    "        if np.max(genre_count) == 0:\n",
    "            break\n",
    "\n",
    "        fav_genre = genre_set_list[np.argmax(genre_count)]\n",
    "        genre_count[np.argmax(genre_count)] = 0\n",
    "\n",
    "        if fav_genre == \"(no genres listed)\":\n",
    "            continue\n",
    "\n",
    "        favourite_genres.append(fav_genre)\n",
    "\n",
    "\n",
    "    return get_powerset(favourite_genres)"
   ],
   "metadata": {
    "collapsed": false,
    "pycharm": {
     "name": "#%%\n"
    }
   }
  },
  {
   "cell_type": "code",
   "execution_count": 41,
   "outputs": [],
   "source": [
    "def get_movies_with_genres(find_genres, genre_df):\n",
    "\n",
    "    items = []\n",
    "\n",
    "    for genres in find_genres:\n",
    "        if not genres:\n",
    "                continue\n",
    "        for genre in genres:\n",
    "            temp = genre_df.loc[(genre_df[genre] == True)]\n",
    "            items.extend(temp.item)\n",
    "\n",
    "    out = genre_df[genre_df['item'].isin(items)]\n",
    "    out.index = np.arange(len(out.index))\n",
    "\n",
    "    return out"
   ],
   "metadata": {
    "collapsed": false,
    "pycharm": {
     "name": "#%%\n"
    }
   }
  },
  {
   "cell_type": "code",
   "execution_count": 42,
   "outputs": [],
   "source": [
    "def get_unseen_movies_ratings_genres(movies_df, ratings_df, movies_with_genres, seen_movies):\n",
    "    unseen_movies = list(pd.concat([movies_df.item, seen_movies.item]).drop_duplicates(keep=False))\n",
    "    unseen_movies_ratings = ratings_df[ratings_df['item'].isin(unseen_movies)]\n",
    "    unseen_movies_with_genres = movies_with_genres[movies_with_genres['item'].isin(unseen_movies)]\n",
    "\n",
    "    return unseen_movies, unseen_movies_ratings, unseen_movies_with_genres"
   ],
   "metadata": {
    "collapsed": false,
    "pycharm": {
     "name": "#%%\n"
    }
   }
  },
  {
   "cell_type": "code",
   "execution_count": 43,
   "outputs": [],
   "source": [
    "def get_average_ratings(unseen_movies_with_genres, average_ratings_df):\n",
    "    return average_ratings_df.loc[average_ratings_df['item'].isin(unseen_movies_with_genres.item)]"
   ],
   "metadata": {
    "collapsed": false,
    "pycharm": {
     "name": "#%%\n"
    }
   }
  },
  {
   "cell_type": "code",
   "execution_count": 44,
   "outputs": [],
   "source": [
    "def get_top_movies(average_ratings_df):\n",
    "    top_rating = np.max(average_ratings_df.average_rating)\n",
    "\n",
    "    top_movies = []\n",
    "    for item in average_ratings_df.index:\n",
    "        if average_ratings_df.loc[item].average_rating < top_rating - (top_rating/10):\n",
    "            continue\n",
    "        top_movies.append(item)\n",
    "\n",
    "    return top_movies"
   ],
   "metadata": {
    "collapsed": false,
    "pycharm": {
     "name": "#%%\n"
    }
   }
  },
  {
   "cell_type": "code",
   "execution_count": 45,
   "outputs": [],
   "source": [
    "def get_favourite_tags(favourite_movies, tags_df):\n",
    "    favourite_movies_list = list(favourite_movies.item)\n",
    "\n",
    "    favourite_tags = set()\n",
    "    for item in favourite_movies_list:\n",
    "        movie_tags = tags_df.loc[tags_df.index == item]\n",
    "        favourite_tags.update(list(movie_tags.tag))\n",
    "\n",
    "    return favourite_tags\n"
   ],
   "metadata": {
    "collapsed": false,
    "pycharm": {
     "name": "#%%\n"
    }
   }
  },
  {
   "cell_type": "code",
   "execution_count": 51,
   "outputs": [],
   "source": [
    "def dice_coefficient(fav_tag, movie_tag):\n",
    "    return (2 * len(fav_tag.intersection(movie_tag))) / (len(fav_tag) + len(movie_tag))\n",
    "\n",
    "def find_k_best(k, movie_similarity, movies_df):\n",
    "    movie_list = []\n",
    "    for i in range(k):\n",
    "        recommend_movie = max(movie_similarity, key=movie_similarity.get)\n",
    "        movie_list.append(recommend_movie)\n",
    "        movie_similarity[recommend_movie] = 0\n",
    "\n",
    "    return movies_df[movies_df['item'].isin(movie_list)]\n",
    "\n",
    "def get_movie_recommendations(top_movies, tags_df, favourite_tags, movies_df, k):\n",
    "    movie_similarity = {}\n",
    "    for item in top_movies:\n",
    "        tag_set = set()\n",
    "        movie_tags = tags_df.loc[tags_df['item'] == item]\n",
    "        tag_set.update(list(movie_tags.tag))\n",
    "        movie_similarity[item] = dice_coefficient(favourite_tags, tag_set)\n",
    "\n",
    "    return find_k_best(k, movie_similarity, movies_df)\n",
    "\n"
   ],
   "metadata": {
    "collapsed": false,
    "pycharm": {
     "name": "#%%\n"
    }
   }
  },
  {
   "cell_type": "code",
   "execution_count": 47,
   "outputs": [],
   "source": [
    "def content_recommender(expert_users_df, ratings_genres_df, movies_df, ratings_df, genre_df, tags_df, average_ratings_df):\n",
    "\n",
    "    k = 10\n",
    "\n",
    "    seen_movies = select_user(expert_users_df, ratings_genres_df)\n",
    "\n",
    "    favourite_movies = get_favourite_movies(seen_movies)\n",
    "\n",
    "    genre_set = get_genre_set(ratings_genres_df)\n",
    "\n",
    "    genre_list = get_favourite_genres_powerset(genre_set, favourite_movies)\n",
    "\n",
    "    movies_with_genres = get_movies_with_genres(genre_list, genre_df)\n",
    "\n",
    "    unseen_movies, unseen_movies_ratings, unseen_movies_with_genres = get_unseen_movies_ratings_genres(movies_df, ratings_df, movies_with_genres, seen_movies)\n",
    "\n",
    "    unseen_average_ratings = get_average_ratings(unseen_movies_with_genres, average_ratings_df)\n",
    "\n",
    "    top_movies = get_top_movies(unseen_average_ratings)\n",
    "\n",
    "    favourite_tags = get_favourite_tags(favourite_movies, tags_df)\n",
    "\n",
    "    recommendations = get_movie_recommendations(top_movies, tags_df, favourite_tags, movies_df, 10)\n",
    "\n",
    "    return recommendations"
   ],
   "metadata": {
    "collapsed": false,
    "pycharm": {
     "name": "#%%\n"
    }
   }
  },
  {
   "cell_type": "code",
   "execution_count": 48,
   "outputs": [],
   "source": [
    "data_folder = \"./processed_data\"\n",
    "\n",
    "ratings_df = pd.read_csv(data_folder + \"/ratings.csv\")\n",
    "movies_df = pd.read_csv(data_folder + \"/movies.csv\")\n",
    "\n",
    "expert_users_df = pd.read_csv(data_folder + \"/expert_users.csv\")\n",
    "ratings_genres_df = pd.read_csv(data_folder + \"/ratings_genres.csv\")\n",
    "\n",
    "genre_df = pd.read_csv(data_folder + \"/genre.csv\")\n",
    "tags_df = pd.read_csv(data_folder + \"/tags.csv\")\n",
    "\n",
    "average_ratings_df = pd.read_csv(data_folder + \"/average_ratings.csv\")\n",
    "\n"
   ],
   "metadata": {
    "collapsed": false,
    "pycharm": {
     "name": "#%%\n"
    }
   }
  },
  {
   "cell_type": "code",
   "execution_count": 52,
   "outputs": [
    {
     "data": {
      "text/plain": "       item                    title  year                  genres\n8000   8817  trouble with girls, the  1969            Comedy|Drama\n8104   8923                     tess  1979           Drama|Romance\n8267  25834      captains courageous  1937         Adventure|Drama\n8273  25842                   topper  1937  Comedy|Fantasy|Romance",
      "text/html": "<div>\n<style scoped>\n    .dataframe tbody tr th:only-of-type {\n        vertical-align: middle;\n    }\n\n    .dataframe tbody tr th {\n        vertical-align: top;\n    }\n\n    .dataframe thead th {\n        text-align: right;\n    }\n</style>\n<table border=\"1\" class=\"dataframe\">\n  <thead>\n    <tr style=\"text-align: right;\">\n      <th></th>\n      <th>item</th>\n      <th>title</th>\n      <th>year</th>\n      <th>genres</th>\n    </tr>\n  </thead>\n  <tbody>\n    <tr>\n      <th>8000</th>\n      <td>8817</td>\n      <td>trouble with girls, the</td>\n      <td>1969</td>\n      <td>Comedy|Drama</td>\n    </tr>\n    <tr>\n      <th>8104</th>\n      <td>8923</td>\n      <td>tess</td>\n      <td>1979</td>\n      <td>Drama|Romance</td>\n    </tr>\n    <tr>\n      <th>8267</th>\n      <td>25834</td>\n      <td>captains courageous</td>\n      <td>1937</td>\n      <td>Adventure|Drama</td>\n    </tr>\n    <tr>\n      <th>8273</th>\n      <td>25842</td>\n      <td>topper</td>\n      <td>1937</td>\n      <td>Comedy|Fantasy|Romance</td>\n    </tr>\n  </tbody>\n</table>\n</div>"
     },
     "metadata": {},
     "output_type": "display_data"
    }
   ],
   "source": [
    "rec = content_recommender(expert_users_df, ratings_genres_df, movies_df, ratings_df, genre_df, tags_df, average_ratings_df)\n",
    "display(rec)"
   ],
   "metadata": {
    "collapsed": false,
    "pycharm": {
     "name": "#%%\n"
    }
   }
  },
  {
   "cell_type": "code",
   "execution_count": 49,
   "outputs": [],
   "source": [],
   "metadata": {
    "collapsed": false,
    "pycharm": {
     "name": "#%%\n"
    }
   }
  }
 ],
 "metadata": {
  "kernelspec": {
   "display_name": "Python 3",
   "language": "python",
   "name": "python3"
  },
  "language_info": {
   "codemirror_mode": {
    "name": "ipython",
    "version": 2
   },
   "file_extension": ".py",
   "mimetype": "text/x-python",
   "name": "python",
   "nbconvert_exporter": "python",
   "pygments_lexer": "ipython2",
   "version": "2.7.6"
  }
 },
 "nbformat": 4,
 "nbformat_minor": 0
}