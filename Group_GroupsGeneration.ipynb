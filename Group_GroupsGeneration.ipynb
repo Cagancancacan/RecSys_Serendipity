{
 "cells": [
  {
   "cell_type": "code",
   "execution_count": 38,
   "metadata": {
    "collapsed": false,
    "pycharm": {
     "name": "#%%\n"
    }
   },
   "outputs": [
    {
     "name": "stderr",
     "output_type": "stream",
     "text": [
      "C:\\Users\\roman\\AppData\\Local\\Temp\\ipykernel_30588\\3140390452.py:18: FutureWarning: In a future version of pandas all arguments of DataFrame.drop except for the argument 'labels' will be keyword-only.\n",
      "  data_df = data_df.drop('0',1)\n"
     ]
    },
    {
     "data": {
      "text/html": [
       "<div>\n",
       "<style scoped>\n",
       "    .dataframe tbody tr th:only-of-type {\n",
       "        vertical-align: middle;\n",
       "    }\n",
       "\n",
       "    .dataframe tbody tr th {\n",
       "        vertical-align: top;\n",
       "    }\n",
       "\n",
       "    .dataframe thead th {\n",
       "        text-align: right;\n",
       "    }\n",
       "</style>\n",
       "<table border=\"1\" class=\"dataframe\">\n",
       "  <thead>\n",
       "    <tr style=\"text-align: right;\">\n",
       "      <th></th>\n",
       "      <th>1</th>\n",
       "      <th>2</th>\n",
       "      <th>3</th>\n",
       "      <th>4</th>\n",
       "      <th>5</th>\n",
       "      <th>6</th>\n",
       "      <th>7</th>\n",
       "      <th>8</th>\n",
       "      <th>9</th>\n",
       "      <th>10</th>\n",
       "      <th>11</th>\n",
       "      <th>12</th>\n",
       "      <th>13</th>\n",
       "      <th>14</th>\n",
       "      <th>15</th>\n",
       "      <th>16</th>\n",
       "      <th>17</th>\n",
       "      <th>18</th>\n",
       "      <th>19</th>\n",
       "      <th>20</th>\n",
       "    </tr>\n",
       "  </thead>\n",
       "  <tbody>\n",
       "    <tr>\n",
       "      <th>0</th>\n",
       "      <td>4.363636</td>\n",
       "      <td>4.000000</td>\n",
       "      <td>4.057692</td>\n",
       "      <td>3.750000</td>\n",
       "      <td>4.300000</td>\n",
       "      <td>4.666667</td>\n",
       "      <td>4.220000</td>\n",
       "      <td>4.333333</td>\n",
       "      <td>4.260000</td>\n",
       "      <td>4.114754</td>\n",
       "      <td>4.062500</td>\n",
       "      <td>4.285714</td>\n",
       "      <td>0.0</td>\n",
       "      <td>0.000000</td>\n",
       "      <td>4.300000</td>\n",
       "      <td>3.000000</td>\n",
       "      <td>4.000000</td>\n",
       "      <td>4.000000</td>\n",
       "      <td>4.224138</td>\n",
       "      <td>3.937500</td>\n",
       "    </tr>\n",
       "    <tr>\n",
       "      <th>1</th>\n",
       "      <td>4.500000</td>\n",
       "      <td>1.000000</td>\n",
       "      <td>3.666667</td>\n",
       "      <td>5.000000</td>\n",
       "      <td>3.000000</td>\n",
       "      <td>0.000000</td>\n",
       "      <td>3.750000</td>\n",
       "      <td>0.000000</td>\n",
       "      <td>3.500000</td>\n",
       "      <td>3.571429</td>\n",
       "      <td>3.888889</td>\n",
       "      <td>3.500000</td>\n",
       "      <td>0.0</td>\n",
       "      <td>0.000000</td>\n",
       "      <td>3.500000</td>\n",
       "      <td>0.000000</td>\n",
       "      <td>3.666667</td>\n",
       "      <td>0.000000</td>\n",
       "      <td>4.333333</td>\n",
       "      <td>0.000000</td>\n",
       "    </tr>\n",
       "    <tr>\n",
       "      <th>2</th>\n",
       "      <td>4.666667</td>\n",
       "      <td>3.600000</td>\n",
       "      <td>3.640000</td>\n",
       "      <td>3.714286</td>\n",
       "      <td>3.428571</td>\n",
       "      <td>4.800000</td>\n",
       "      <td>3.736842</td>\n",
       "      <td>5.000000</td>\n",
       "      <td>3.923077</td>\n",
       "      <td>3.633333</td>\n",
       "      <td>3.952381</td>\n",
       "      <td>3.692308</td>\n",
       "      <td>0.0</td>\n",
       "      <td>3.666667</td>\n",
       "      <td>3.285714</td>\n",
       "      <td>0.000000</td>\n",
       "      <td>3.181818</td>\n",
       "      <td>0.000000</td>\n",
       "      <td>4.192308</td>\n",
       "      <td>4.333333</td>\n",
       "    </tr>\n",
       "    <tr>\n",
       "      <th>3</th>\n",
       "      <td>3.000000</td>\n",
       "      <td>4.000000</td>\n",
       "      <td>4.000000</td>\n",
       "      <td>4.000000</td>\n",
       "      <td>4.000000</td>\n",
       "      <td>3.818182</td>\n",
       "      <td>3.909091</td>\n",
       "      <td>3.000000</td>\n",
       "      <td>3.500000</td>\n",
       "      <td>3.812500</td>\n",
       "      <td>3.900000</td>\n",
       "      <td>4.250000</td>\n",
       "      <td>0.0</td>\n",
       "      <td>0.000000</td>\n",
       "      <td>4.000000</td>\n",
       "      <td>0.000000</td>\n",
       "      <td>3.833333</td>\n",
       "      <td>0.000000</td>\n",
       "      <td>3.840000</td>\n",
       "      <td>4.500000</td>\n",
       "    </tr>\n",
       "    <tr>\n",
       "      <th>4</th>\n",
       "      <td>4.083333</td>\n",
       "      <td>3.900000</td>\n",
       "      <td>3.748276</td>\n",
       "      <td>4.090909</td>\n",
       "      <td>3.887324</td>\n",
       "      <td>3.892857</td>\n",
       "      <td>4.085890</td>\n",
       "      <td>3.500000</td>\n",
       "      <td>3.923977</td>\n",
       "      <td>3.917040</td>\n",
       "      <td>4.093220</td>\n",
       "      <td>3.482759</td>\n",
       "      <td>0.0</td>\n",
       "      <td>4.574074</td>\n",
       "      <td>4.059524</td>\n",
       "      <td>4.750000</td>\n",
       "      <td>4.037118</td>\n",
       "      <td>4.142857</td>\n",
       "      <td>4.020134</td>\n",
       "      <td>3.814103</td>\n",
       "    </tr>\n",
       "    <tr>\n",
       "      <th>...</th>\n",
       "      <td>...</td>\n",
       "      <td>...</td>\n",
       "      <td>...</td>\n",
       "      <td>...</td>\n",
       "      <td>...</td>\n",
       "      <td>...</td>\n",
       "      <td>...</td>\n",
       "      <td>...</td>\n",
       "      <td>...</td>\n",
       "      <td>...</td>\n",
       "      <td>...</td>\n",
       "      <td>...</td>\n",
       "      <td>...</td>\n",
       "      <td>...</td>\n",
       "      <td>...</td>\n",
       "      <td>...</td>\n",
       "      <td>...</td>\n",
       "      <td>...</td>\n",
       "      <td>...</td>\n",
       "      <td>...</td>\n",
       "    </tr>\n",
       "    <tr>\n",
       "      <th>8036</th>\n",
       "      <td>3.366279</td>\n",
       "      <td>3.631313</td>\n",
       "      <td>3.362840</td>\n",
       "      <td>3.676471</td>\n",
       "      <td>3.766667</td>\n",
       "      <td>3.724490</td>\n",
       "      <td>3.509479</td>\n",
       "      <td>3.558824</td>\n",
       "      <td>3.496324</td>\n",
       "      <td>3.508969</td>\n",
       "      <td>3.456233</td>\n",
       "      <td>3.532895</td>\n",
       "      <td>0.0</td>\n",
       "      <td>3.776316</td>\n",
       "      <td>3.465517</td>\n",
       "      <td>2.875000</td>\n",
       "      <td>3.528302</td>\n",
       "      <td>3.636364</td>\n",
       "      <td>3.480826</td>\n",
       "      <td>3.644444</td>\n",
       "    </tr>\n",
       "    <tr>\n",
       "      <th>8037</th>\n",
       "      <td>4.076923</td>\n",
       "      <td>4.333333</td>\n",
       "      <td>3.944444</td>\n",
       "      <td>4.500000</td>\n",
       "      <td>4.714286</td>\n",
       "      <td>4.684211</td>\n",
       "      <td>3.900000</td>\n",
       "      <td>4.500000</td>\n",
       "      <td>4.220588</td>\n",
       "      <td>3.850000</td>\n",
       "      <td>4.018182</td>\n",
       "      <td>4.185185</td>\n",
       "      <td>0.0</td>\n",
       "      <td>0.000000</td>\n",
       "      <td>4.333333</td>\n",
       "      <td>4.454545</td>\n",
       "      <td>3.958333</td>\n",
       "      <td>4.375000</td>\n",
       "      <td>4.246667</td>\n",
       "      <td>4.055556</td>\n",
       "    </tr>\n",
       "    <tr>\n",
       "      <th>8038</th>\n",
       "      <td>3.492537</td>\n",
       "      <td>3.776596</td>\n",
       "      <td>3.671587</td>\n",
       "      <td>3.780000</td>\n",
       "      <td>3.685185</td>\n",
       "      <td>3.703704</td>\n",
       "      <td>3.298507</td>\n",
       "      <td>2.818182</td>\n",
       "      <td>3.412281</td>\n",
       "      <td>2.906250</td>\n",
       "      <td>3.610778</td>\n",
       "      <td>3.760714</td>\n",
       "      <td>0.0</td>\n",
       "      <td>4.500000</td>\n",
       "      <td>3.744898</td>\n",
       "      <td>4.033333</td>\n",
       "      <td>3.284091</td>\n",
       "      <td>3.710526</td>\n",
       "      <td>3.723553</td>\n",
       "      <td>3.390909</td>\n",
       "    </tr>\n",
       "    <tr>\n",
       "      <th>8039</th>\n",
       "      <td>2.023810</td>\n",
       "      <td>1.265625</td>\n",
       "      <td>1.687097</td>\n",
       "      <td>1.526786</td>\n",
       "      <td>1.213675</td>\n",
       "      <td>2.272727</td>\n",
       "      <td>1.666667</td>\n",
       "      <td>1.500000</td>\n",
       "      <td>1.898936</td>\n",
       "      <td>1.871528</td>\n",
       "      <td>1.701681</td>\n",
       "      <td>2.068627</td>\n",
       "      <td>0.0</td>\n",
       "      <td>1.944444</td>\n",
       "      <td>1.396104</td>\n",
       "      <td>3.500000</td>\n",
       "      <td>1.768116</td>\n",
       "      <td>1.000000</td>\n",
       "      <td>1.925325</td>\n",
       "      <td>1.720588</td>\n",
       "    </tr>\n",
       "    <tr>\n",
       "      <th>8040</th>\n",
       "      <td>3.000000</td>\n",
       "      <td>3.333333</td>\n",
       "      <td>3.071429</td>\n",
       "      <td>3.250000</td>\n",
       "      <td>3.000000</td>\n",
       "      <td>3.000000</td>\n",
       "      <td>3.300000</td>\n",
       "      <td>3.500000</td>\n",
       "      <td>3.500000</td>\n",
       "      <td>3.500000</td>\n",
       "      <td>3.333333</td>\n",
       "      <td>0.000000</td>\n",
       "      <td>0.0</td>\n",
       "      <td>4.000000</td>\n",
       "      <td>3.000000</td>\n",
       "      <td>0.000000</td>\n",
       "      <td>3.400000</td>\n",
       "      <td>0.000000</td>\n",
       "      <td>3.461538</td>\n",
       "      <td>0.000000</td>\n",
       "    </tr>\n",
       "  </tbody>\n",
       "</table>\n",
       "<p>8041 rows × 20 columns</p>\n",
       "</div>"
      ],
      "text/plain": [
       "             1         2         3         4         5         6         7  \\\n",
       "0     4.363636  4.000000  4.057692  3.750000  4.300000  4.666667  4.220000   \n",
       "1     4.500000  1.000000  3.666667  5.000000  3.000000  0.000000  3.750000   \n",
       "2     4.666667  3.600000  3.640000  3.714286  3.428571  4.800000  3.736842   \n",
       "3     3.000000  4.000000  4.000000  4.000000  4.000000  3.818182  3.909091   \n",
       "4     4.083333  3.900000  3.748276  4.090909  3.887324  3.892857  4.085890   \n",
       "...        ...       ...       ...       ...       ...       ...       ...   \n",
       "8036  3.366279  3.631313  3.362840  3.676471  3.766667  3.724490  3.509479   \n",
       "8037  4.076923  4.333333  3.944444  4.500000  4.714286  4.684211  3.900000   \n",
       "8038  3.492537  3.776596  3.671587  3.780000  3.685185  3.703704  3.298507   \n",
       "8039  2.023810  1.265625  1.687097  1.526786  1.213675  2.272727  1.666667   \n",
       "8040  3.000000  3.333333  3.071429  3.250000  3.000000  3.000000  3.300000   \n",
       "\n",
       "             8         9        10        11        12   13        14  \\\n",
       "0     4.333333  4.260000  4.114754  4.062500  4.285714  0.0  0.000000   \n",
       "1     0.000000  3.500000  3.571429  3.888889  3.500000  0.0  0.000000   \n",
       "2     5.000000  3.923077  3.633333  3.952381  3.692308  0.0  3.666667   \n",
       "3     3.000000  3.500000  3.812500  3.900000  4.250000  0.0  0.000000   \n",
       "4     3.500000  3.923977  3.917040  4.093220  3.482759  0.0  4.574074   \n",
       "...        ...       ...       ...       ...       ...  ...       ...   \n",
       "8036  3.558824  3.496324  3.508969  3.456233  3.532895  0.0  3.776316   \n",
       "8037  4.500000  4.220588  3.850000  4.018182  4.185185  0.0  0.000000   \n",
       "8038  2.818182  3.412281  2.906250  3.610778  3.760714  0.0  4.500000   \n",
       "8039  1.500000  1.898936  1.871528  1.701681  2.068627  0.0  1.944444   \n",
       "8040  3.500000  3.500000  3.500000  3.333333  0.000000  0.0  4.000000   \n",
       "\n",
       "            15        16        17        18        19        20  \n",
       "0     4.300000  3.000000  4.000000  4.000000  4.224138  3.937500  \n",
       "1     3.500000  0.000000  3.666667  0.000000  4.333333  0.000000  \n",
       "2     3.285714  0.000000  3.181818  0.000000  4.192308  4.333333  \n",
       "3     4.000000  0.000000  3.833333  0.000000  3.840000  4.500000  \n",
       "4     4.059524  4.750000  4.037118  4.142857  4.020134  3.814103  \n",
       "...        ...       ...       ...       ...       ...       ...  \n",
       "8036  3.465517  2.875000  3.528302  3.636364  3.480826  3.644444  \n",
       "8037  4.333333  4.454545  3.958333  4.375000  4.246667  4.055556  \n",
       "8038  3.744898  4.033333  3.284091  3.710526  3.723553  3.390909  \n",
       "8039  1.396104  3.500000  1.768116  1.000000  1.925325  1.720588  \n",
       "8040  3.000000  0.000000  3.400000  0.000000  3.461538  0.000000  \n",
       "\n",
       "[8041 rows x 20 columns]"
      ]
     },
     "metadata": {},
     "output_type": "display_data"
    },
    {
     "data": {
      "image/png": "[encoded data removed]",
      "text/plain": [
       "<Figure size 640x480 with 1 Axes>"
      ]
     },
     "metadata": {},
     "output_type": "display_data"
    }
   ],
   "source": [
    "from sklearn.decomposition import PCA\n",
    "from sklearn.cluster import KMeans\n",
    "import pandas as pd\n",
    "import matplotlib.pyplot as plt\n",
    "from matplotlib import style\n",
    "import numpy as np\n",
    "from IPython.display import display\n",
    "\n",
    "\n",
    "style.use(\"ggplot\")\n",
    "%matplotlib inline\n",
    "\n",
    "#Load Data\n",
    "data_folder = \"C:/Users/Can/Desktop/dsai/recsys/groupp\"\n",
    "average_ratings_per_user_for_each_genre_df = pd.read_csv(data_folder + \"/data.csv\")\n",
    "data_df = average_ratings_per_user_for_each_genre_df.fillna(0)\n",
    "data_df = data_df.drop(8041)\n",
    "data_df = data_df.drop('0',1)\n",
    "display(data_df)\n",
    "\n",
    "#creating groups\n",
    "n_clusters = 20\n",
    "kmeans = KMeans(n_clusters=n_clusters).fit(data_df)\n",
    "\n",
    "centroids = kmeans.cluster_centers_\n",
    "labels = kmeans.labels_\n",
    "\n",
    "pca = PCA(2) #change?\n",
    "df = pca.fit_transform(data_df)\n",
    "\n",
    "u_labels = np.unique(labels)\n",
    "\n",
    "#plotting the results:\n",
    "for i in u_labels:\n",
    "    plt.scatter(df[labels == i , 0] , df[labels == i , 1] , label = i)\n",
    "plt.legend()\n",
    "plt.show()"
   ]
  },
  {
   "cell_type": "code",
   "execution_count": 39,
   "metadata": {
    "collapsed": false,
    "pycharm": {
     "name": "#%%\n"
    }
   },
   "outputs": [
    {
     "name": "stdout",
     "output_type": "stream",
     "text": [
      "             1         2         3         4         5         6         7  \\\n",
      "0     4.363636  4.000000  4.057692  3.750000  4.300000  4.666667  4.220000   \n",
      "1     4.500000  1.000000  3.666667  5.000000  3.000000  0.000000  3.750000   \n",
      "2     4.666667  3.600000  3.640000  3.714286  3.428571  4.800000  3.736842   \n",
      "3     3.000000  4.000000  4.000000  4.000000  4.000000  3.818182  3.909091   \n",
      "4     4.083333  3.900000  3.748276  4.090909  3.887324  3.892857  4.085890   \n",
      "...        ...       ...       ...       ...       ...       ...       ...   \n",
      "8036  3.366279  3.631313  3.362840  3.676471  3.766667  3.724490  3.509479   \n",
      "8037  4.076923  4.333333  3.944444  4.500000  4.714286  4.684211  3.900000   \n",
      "8038  3.492537  3.776596  3.671587  3.780000  3.685185  3.703704  3.298507   \n",
      "8039  2.023810  1.265625  1.687097  1.526786  1.213675  2.272727  1.666667   \n",
      "8040  3.000000  3.333333  3.071429  3.250000  3.000000  3.000000  3.300000   \n",
      "\n",
      "             8         9        10  ...        12   13        14        15  \\\n",
      "0     4.333333  4.260000  4.114754  ...  4.285714  0.0  0.000000  4.300000   \n",
      "1     0.000000  3.500000  3.571429  ...  3.500000  0.0  0.000000  3.500000   \n",
      "2     5.000000  3.923077  3.633333  ...  3.692308  0.0  3.666667  3.285714   \n",
      "3     3.000000  3.500000  3.812500  ...  4.250000  0.0  0.000000  4.000000   \n",
      "4     3.500000  3.923977  3.917040  ...  3.482759  0.0  4.574074  4.059524   \n",
      "...        ...       ...       ...  ...       ...  ...       ...       ...   \n",
      "8036  3.558824  3.496324  3.508969  ...  3.532895  0.0  3.776316  3.465517   \n",
      "8037  4.500000  4.220588  3.850000  ...  4.185185  0.0  0.000000  4.333333   \n",
      "8038  2.818182  3.412281  2.906250  ...  3.760714  0.0  4.500000  3.744898   \n",
      "8039  1.500000  1.898936  1.871528  ...  2.068627  0.0  1.944444  1.396104   \n",
      "8040  3.500000  3.500000  3.500000  ...  0.000000  0.0  4.000000  3.000000   \n",
      "\n",
      "            16        17        18        19        20  labels  \n",
      "0     3.000000  4.000000  4.000000  4.224138  3.937500      18  \n",
      "1     0.000000  3.666667  0.000000  4.333333  0.000000       5  \n",
      "2     0.000000  3.181818  0.000000  4.192308  4.333333      11  \n",
      "3     0.000000  3.833333  0.000000  3.840000  4.500000       8  \n",
      "4     4.750000  4.037118  4.142857  4.020134  3.814103       0  \n",
      "...        ...       ...       ...       ...       ...     ...  \n",
      "8036  2.875000  3.528302  3.636364  3.480826  3.644444       1  \n",
      "8037  4.454545  3.958333  4.375000  4.246667  4.055556      18  \n",
      "8038  4.033333  3.284091  3.710526  3.723553  3.390909       1  \n",
      "8039  3.500000  1.768116  1.000000  1.925325  1.720588      13  \n",
      "8040  0.000000  3.400000  0.000000  3.461538  0.000000       3  \n",
      "\n",
      "[8041 rows x 21 columns]\n"
     ]
    }
   ],
   "source": [
    "data_df['labels'] = labels\n",
    "\n",
    "print(data_df)"
   ]
  },
  {
   "cell_type": "code",
   "execution_count": 40,
   "metadata": {
    "collapsed": false,
    "pycharm": {
     "name": "#%%\n"
    }
   },
   "outputs": [
    {
     "name": "stdout",
     "output_type": "stream",
     "text": [
      "[4, 19, 24, 49, 56, 80, 94, 106, 124, 129, 141, 156, 166, 167, 171, 188, 198, 199, 210, 234, 236, 237, 242, 248, 257, 281, 284, 285, 295, 304, 307, 312, 313, 320, 347, 358, 380, 397, 401, 412, 416, 422, 426, 446, 447, 450, 473, 530, 536, 539, 554, 562, 568, 569, 574, 578, 583, 594, 608, 616, 617, 626, 629, 638, 649, 658, 660, 662, 664, 669, 691, 692, 693, 703, 710, 719, 734, 739, 742, 747, 755, 760, 767, 779, 781, 790, 801, 809, 821, 823, 824, 839, 849, 853, 928, 939, 940, 946, 951, 953, 958, 959, 965, 967, 970, 978, 998, 1001, 1003, 1004, 1019, 1024, 1029, 1044, 1054, 1076, 1077, 1078, 1083, 1088, 1089, 1094, 1111, 1112, 1118, 1129, 1136, 1137, 1140, 1142, 1146, 1171, 1198, 1205, 1238, 1261, 1271, 1285, 1298, 1299, 1317, 1351, 1355, 1356, 1366, 1381, 1385, 1392, 1401, 1402, 1412, 1421, 1422, 1423, 1430, 1431, 1438, 1448, 1452, 1458, 1459, 1461, 1476, 1484, 1487, 1489, 1490, 1491, 1499, 1500, 1501, 1506, 1518, 1524, 1526, 1534, 1536, 1539, 1545, 1549, 1551, 1562, 1584, 1585, 1594, 1612, 1615, 1626, 1644, 1650, 1669, 1674, 1685, 1691, 1693, 1694, 1695, 1699, 1707, 1710, 1725, 1738, 1749, 1757, 1774, 1781, 1822, 1824, 1836, 1842, 1855, 1856, 1893, 1904, 1906, 1907, 1910, 1915, 1931, 1933, 1936, 1940, 1961, 1964, 1967, 1968, 1976, 1981, 1984, 1994, 2006, 2010, 2021, 2022, 2037, 2038, 2043, 2056, 2066, 2070, 2076, 2090, 2096, 2102, 2108, 2109, 2114, 2126, 2129, 2159, 2169, 2189, 2197, 2201, 2215, 2218, 2225, 2229, 2233, 2239, 2252, 2261, 2269, 2277, 2280, 2282, 2293, 2294, 2319, 2331, 2340, 2347, 2367, 2374, 2383, 2387, 2392, 2394, 2397, 2415, 2443, 2468, 2470, 2485, 2489, 2491, 2495, 2510, 2520, 2544, 2546, 2558, 2561, 2562, 2563, 2590, 2606, 2614, 2625, 2632, 2633, 2638, 2654, 2665, 2668, 2672, 2704, 2705, 2709, 2721, 2738, 2744, 2747, 2751, 2775, 2779, 2793, 2811, 2814, 2819, 2820, 2821, 2832, 2840, 2844, 2863, 2866, 2870, 2873, 2878, 2879, 2883, 2885, 2893, 2905, 2907, 2908, 2912, 2915, 2917, 2929, 2935, 2938, 2942, 2943, 2944, 2946, 2953, 2956, 2958, 2961, 2976, 2980, 2987, 2992, 2996, 3002, 3013, 3016, 3017, 3019, 3026, 3029, 3034, 3048, 3049, 3058, 3060, 3068, 3075, 3081, 3099, 3105, 3110, 3114, 3119, 3121, 3128, 3135, 3144, 3150, 3151, 3156, 3160, 3170, 3180, 3185, 3186, 3188, 3192, 3199, 3219, 3223, 3236, 3238, 3257, 3264, 3266, 3272, 3275, 3289, 3290, 3301, 3305, 3309, 3311, 3312, 3323, 3324, 3334, 3341, 3346, 3356, 3393, 3397, 3398, 3414, 3417, 3436, 3440, 3467, 3474, 3482, 3490, 3504, 3510, 3528, 3556, 3562, 3563, 3568, 3584, 3610, 3613, 3630, 3634, 3640, 3645, 3647, 3665, 3667, 3668, 3688, 3707, 3710, 3714, 3727, 3729, 3739, 3743, 3752, 3767, 3768, 3774, 3777, 3783, 3796, 3819, 3850, 3871, 3875, 3878, 3879, 3912, 3942, 3951, 3957, 3966, 3985, 3990, 3991, 4001, 4002, 4022, 4024, 4028, 4032, 4033, 4045, 4083, 4085, 4092, 4101, 4106, 4134, 4136, 4149, 4160, 4189, 4204, 4209, 4228, 4240, 4243, 4258, 4265, 4275, 4301, 4319, 4320, 4351, 4358, 4365, 4370, 4378, 4392, 4398, 4418, 4421, 4422, 4423, 4425, 4434, 4442, 4446, 4448, 4449, 4450, 4471, 4475, 4476, 4494, 4495, 4499, 4503, 4522, 4524, 4526, 4530, 4534, 4546, 4547, 4562, 4567, 4571, 4584, 4589, 4592, 4604, 4620, 4626, 4636, 4641, 4657, 4664, 4704, 4718, 4723, 4747, 4752, 4754, 4755, 4770, 4793, 4801, 4803, 4815, 4819, 4842, 4850, 4858, 4860, 4865, 4892, 4893, 4896, 4902, 4919, 4925, 4926, 4927, 4943, 4945, 4948, 4956, 4958, 4960, 4977, 5013, 5019, 5020, 5030, 5039, 5048, 5052, 5070, 5073, 5091, 5107, 5109, 5114, 5126, 5127, 5136, 5150, 5161, 5167, 5180, 5191, 5208, 5212, 5222, 5227, 5236, 5244, 5249, 5250, 5253, 5271, 5273, 5274, 5305, 5307, 5309, 5311, 5312, 5316, 5333, 5345, 5347, 5348, 5350, 5367, 5372, 5377, 5390, 5396, 5400, 5409, 5412, 5420, 5433, 5446, 5457, 5458, 5463, 5464, 5474, 5490, 5541, 5548, 5550, 5579, 5595, 5596, 5598, 5605, 5606, 5607, 5623, 5625, 5626, 5651, 5654, 5666, 5673, 5684, 5686, 5690, 5692, 5699, 5702, 5705, 5709, 5712, 5735, 5762, 5769, 5773, 5775, 5801, 5802, 5805, 5808, 5817, 5818, 5830, 5834, 5857, 5885, 5905, 5944, 5957, 5962, 5966, 5979, 5980, 5982, 5986, 5989, 5991, 5992, 6015, 6029, 6032, 6047, 6069, 6078, 6099, 6124, 6128, 6150, 6153, 6157, 6164, 6172, 6186, 6188, 6220, 6221, 6246, 6255, 6256, 6267, 6272, 6281, 6283, 6297, 6299, 6300, 6301, 6317, 6319, 6327, 6331, 6335, 6338, 6344, 6348, 6353, 6373, 6377, 6379, 6410, 6424, 6427, 6430, 6432, 6441, 6443, 6453, 6456, 6461, 6478, 6487, 6493, 6500, 6502, 6505, 6508, 6522, 6526, 6534, 6537, 6542, 6548, 6565, 6567, 6583, 6585, 6593, 6609, 6621, 6632, 6637, 6640, 6646, 6659, 6674, 6675, 6680, 6684, 6694, 6700, 6703, 6721, 6727, 6730, 6743, 6759, 6768, 6769, 6772, 6775, 6776, 6782, 6785, 6792, 6803, 6811, 6820, 6821, 6830, 6839, 6842, 6849, 6856, 6863, 6864, 6875, 6880, 6886, 6909, 6912, 6916, 6923, 6948, 6952, 6955, 6958, 6972, 6994, 6996, 7035, 7037, 7043, 7051, 7064, 7067, 7106, 7120, 7121, 7122, 7127, 7132, 7141, 7142, 7146, 7147, 7149, 7159, 7161, 7202, 7216, 7235, 7242, 7259, 7263, 7280, 7281, 7283, 7284, 7287, 7292, 7301, 7316, 7321, 7345, 7346, 7348, 7359, 7369, 7376, 7389, 7399, 7400, 7404, 7406, 7412, 7425, 7435, 7448, 7472, 7475, 7501, 7509, 7526, 7536, 7548, 7549, 7550, 7552, 7559, 7564, 7566, 7577, 7585, 7586, 7595, 7602, 7607, 7637, 7641, 7648, 7652, 7653, 7660, 7662, 7663, 7686, 7692, 7708, 7735, 7741, 7745, 7755, 7761, 7778, 7794, 7805, 7811, 7821, 7825, 7830, 7836, 7837, 7841, 7846, 7849, 7862, 7864, 7865, 7867, 7882, 7898, 7923, 7927, 7928, 7935, 7939, 7940, 7943, 7952, 7958, 7960, 7961, 7974, 7976, 7981, 7994, 8006, 8007, 8008, 8011]\n",
      "[12, 18, 27, 29, 42, 44, 53, 59, 70, 71, 73, 75, 81, 98, 111, 123, 127, 132, 138, 143, 151, 161, 162, 163, 164, 177, 186, 190, 191, 200, 203, 205, 211, 216, 228, 235, 253, 256, 260, 272, 273, 274, 279, 308, 311, 321, 328, 340, 350, 365, 369, 384, 393, 396, 402, 403, 411, 413, 417, 428, 444, 448, 449, 455, 458, 465, 468, 479, 485, 488, 494, 496, 503, 506, 509, 520, 528, 535, 541, 543, 544, 548, 552, 560, 564, 585, 607, 614, 624, 636, 645, 652, 655, 665, 666, 668, 670, 675, 683, 687, 694, 696, 705, 707, 716, 717, 721, 722, 732, 735, 736, 743, 744, 748, 771, 782, 785, 789, 802, 805, 806, 820, 826, 846, 861, 862, 863, 864, 874, 875, 882, 890, 891, 909, 919, 923, 924, 932, 956, 975, 980, 990, 994, 1008, 1010, 1013, 1020, 1023, 1027, 1030, 1033, 1034, 1048, 1055, 1070, 1074, 1082, 1084, 1086, 1093, 1095, 1102, 1116, 1117, 1123, 1125, 1127, 1135, 1153, 1158, 1159, 1162, 1164, 1174, 1189, 1194, 1195, 1199, 1201, 1206, 1207, 1208, 1210, 1219, 1220, 1232, 1243, 1256, 1269, 1274, 1276, 1279, 1281, 1284, 1287, 1297, 1303, 1328, 1335, 1338, 1340, 1341, 1348, 1354, 1359, 1363, 1364, 1399, 1404, 1408, 1419, 1420, 1434, 1439, 1465, 1469, 1480, 1494, 1495, 1496, 1498, 1505, 1509, 1513, 1528, 1531, 1544, 1547, 1548, 1552, 1554, 1559, 1566, 1568, 1572, 1596, 1608, 1613, 1620, 1624, 1628, 1631, 1633, 1642, 1653, 1656, 1660, 1665, 1672, 1673, 1677, 1678, 1684, 1687, 1689, 1703, 1713, 1719, 1720, 1721, 1737, 1743, 1765, 1767, 1776, 1788, 1791, 1810, 1815, 1816, 1825, 1830, 1835, 1844, 1848, 1851, 1854, 1859, 1860, 1866, 1872, 1874, 1881, 1884, 1887, 1891, 1899, 1901, 1911, 1914, 1920, 1926, 1932, 1937, 1941, 1949, 1950, 1959, 1971, 1972, 1974, 1997, 2002, 2007, 2014, 2017, 2019, 2023, 2025, 2030, 2045, 2059, 2063, 2068, 2103, 2106, 2107, 2122, 2123, 2131, 2134, 2138, 2147, 2149, 2156, 2160, 2163, 2168, 2171, 2180, 2188, 2214, 2216, 2223, 2228, 2230, 2231, 2237, 2242, 2250, 2253, 2266, 2267, 2268, 2272, 2274, 2298, 2301, 2311, 2312, 2317, 2318, 2322, 2323, 2333, 2337, 2339, 2349, 2375, 2377, 2385, 2388, 2400, 2402, 2406, 2413, 2416, 2426, 2429, 2430, 2431, 2441, 2449, 2459, 2467, 2487, 2501, 2519, 2524, 2527, 2533, 2539, 2541, 2542, 2543, 2549, 2553, 2554, 2572, 2574, 2593, 2595, 2597, 2611, 2617, 2619, 2622, 2631, 2636, 2650, 2656, 2666, 2670, 2678, 2681, 2682, 2683, 2686, 2687, 2688, 2695, 2696, 2698, 2708, 2712, 2716, 2719, 2720, 2722, 2723, 2743, 2749, 2750, 2753, 2755, 2768, 2776, 2783, 2787, 2789, 2792, 2801, 2804, 2815, 2829, 2835, 2841, 2847, 2857, 2862, 2864, 2867, 2874, 2882, 2887, 2888, 2889, 2897, 2906, 2921, 2924, 2932, 2941, 2945, 2951, 2952, 2959, 2960, 2963, 2967, 2971, 3001, 3003, 3009, 3010, 3011, 3025, 3043, 3044, 3055, 3056, 3066, 3077, 3084, 3096, 3098, 3100, 3124, 3136, 3146, 3147, 3178, 3191, 3194, 3204, 3206, 3209, 3217, 3229, 3240, 3241, 3243, 3245, 3249, 3255, 3262, 3277, 3283, 3291, 3348, 3352, 3353, 3354, 3368, 3378, 3379, 3384, 3389, 3391, 3413, 3415, 3418, 3423, 3424, 3445, 3455, 3468, 3489, 3496, 3501, 3514, 3515, 3517, 3518, 3522, 3526, 3531, 3535, 3536, 3541, 3555, 3561, 3566, 3573, 3578, 3581, 3586, 3588, 3595, 3608, 3616, 3617, 3621, 3624, 3626, 3628, 3642, 3643, 3659, 3669, 3690, 3694, 3698, 3705, 3716, 3724, 3731, 3741, 3756, 3759, 3761, 3762, 3764, 3772, 3773, 3779, 3799, 3810, 3815, 3823, 3825, 3828, 3833, 3838, 3845, 3847, 3854, 3857, 3862, 3863, 3866, 3869, 3873, 3882, 3885, 3894, 3895, 3897, 3898, 3901, 3905, 3909, 3915, 3922, 3928, 3934, 3946, 3949, 3986, 3988, 4003, 4009, 4015, 4020, 4025, 4026, 4031, 4041, 4043, 4044, 4052, 4055, 4058, 4061, 4068, 4074, 4081, 4082, 4084, 4109, 4130, 4132, 4133, 4137, 4141, 4143, 4147, 4150, 4153, 4161, 4162, 4164, 4178, 4179, 4185, 4192, 4200, 4210, 4212, 4216, 4217, 4221, 4225, 4232, 4238, 4247, 4254, 4262, 4268, 4271, 4281, 4294, 4309, 4314, 4324, 4327, 4330, 4332, 4338, 4341, 4347, 4348, 4350, 4354, 4363, 4373, 4375, 4377, 4379, 4384, 4388, 4405, 4407, 4420, 4437, 4455, 4461, 4484, 4489, 4498, 4501, 4505, 4507, 4509, 4511, 4520, 4521, 4525, 4528, 4539, 4557, 4561, 4580, 4581, 4587, 4593, 4594, 4595, 4597, 4602, 4609, 4611, 4627, 4628, 4635, 4639, 4658, 4660, 4662, 4672, 4673, 4676, 4678, 4682, 4684, 4686, 4689, 4694, 4701, 4714, 4716, 4724, 4726, 4729, 4743, 4748, 4751, 4771, 4788, 4796, 4798, 4799, 4802, 4806, 4809, 4811, 4817, 4821, 4823, 4829, 4830, 4832, 4834, 4838, 4847, 4848, 4854, 4869, 4870, 4877, 4881, 4882, 4886, 4891, 4905, 4910, 4913, 4922, 4931, 4932, 4936, 4938, 4955, 4959, 4961, 4986, 4992, 4998, 5000, 5008, 5016, 5018, 5021, 5023, 5027, 5034, 5049, 5054, 5056, 5062, 5065, 5066, 5067, 5071, 5076, 5087, 5096, 5105, 5113, 5117, 5118, 5124, 5129, 5143, 5145, 5147, 5152, 5153, 5157, 5166, 5168, 5169, 5178, 5197, 5205, 5207, 5210, 5213, 5214, 5215, 5232, 5235, 5251, 5255, 5259, 5286, 5289, 5292, 5295, 5303, 5313, 5319, 5331, 5337, 5340, 5349, 5352, 5365, 5366, 5371, 5373, 5374, 5394, 5406, 5411, 5427, 5436, 5444, 5453, 5456, 5465, 5498, 5509, 5518, 5523, 5524, 5530, 5532, 5535, 5563, 5568, 5577, 5585, 5594, 5599, 5603, 5608, 5609, 5611, 5612, 5616, 5621, 5629, 5644, 5652, 5661, 5662, 5672, 5679, 5697, 5714, 5715, 5719, 5721, 5724, 5731, 5734, 5737, 5740, 5744, 5747, 5748, 5755, 5764, 5765, 5771, 5795, 5799, 5804, 5813, 5815, 5820, 5821, 5826, 5832, 5833, 5837, 5843, 5851, 5852, 5864, 5869, 5873, 5883, 5886, 5890, 5902, 5924, 5937, 5938, 5942, 5951, 5959, 5973, 5981, 5990, 5994, 5999, 6004, 6009, 6021, 6025, 6030, 6033, 6038, 6043, 6057, 6067, 6079, 6087, 6096, 6098, 6115, 6116, 6117, 6122, 6127, 6156, 6158, 6159, 6160, 6163, 6175, 6178, 6198, 6199, 6206, 6210, 6212, 6231, 6239, 6245, 6252, 6261, 6265, 6268, 6271, 6298, 6313, 6320, 6322, 6324, 6325, 6332, 6333, 6337, 6354, 6356, 6371, 6378, 6382, 6384, 6389, 6395, 6402, 6407, 6412, 6429, 6433, 6438, 6444, 6448, 6459, 6469, 6475, 6476, 6494, 6495, 6520, 6539, 6549, 6552, 6560, 6561, 6566, 6568, 6572, 6578, 6587, 6594, 6595, 6597, 6599, 6606, 6612, 6622, 6625, 6628, 6629, 6635, 6653, 6654, 6655, 6663, 6681, 6683, 6687, 6688, 6689, 6709, 6716, 6728, 6751, 6762, 6764, 6767, 6777, 6797, 6805, 6813, 6815, 6833, 6834, 6836, 6838, 6840, 6845, 6855, 6857, 6870, 6872, 6877, 6885, 6889, 6905, 6913, 6915, 6925, 6928, 6934, 6937, 6939, 6947, 6957, 6964, 6966, 6969, 6977, 6978, 6980, 6992, 6998, 7002, 7005, 7007, 7008, 7021, 7022, 7026, 7027, 7030, 7032, 7039, 7040, 7055, 7057, 7059, 7060, 7063, 7071, 7074, 7079, 7084, 7099, 7108, 7109, 7112, 7115, 7128, 7133, 7134, 7139, 7145, 7150, 7164, 7165, 7168, 7170, 7173, 7181, 7191, 7197, 7203, 7205, 7206, 7210, 7223, 7225, 7231, 7240, 7266, 7277, 7296, 7311, 7314, 7315, 7317, 7319, 7330, 7332, 7342, 7347, 7360, 7361, 7364, 7377, 7381, 7382, 7393, 7403, 7409, 7413, 7430, 7437, 7443, 7445, 7447, 7450, 7456, 7460, 7464, 7485, 7488, 7496, 7499, 7506, 7512, 7515, 7516, 7521, 7527, 7528, 7533, 7537, 7547, 7554, 7561, 7575, 7583, 7592, 7609, 7611, 7615, 7617, 7621, 7626, 7631, 7639, 7654, 7657, 7658, 7668, 7671, 7677, 7682, 7687, 7691, 7699, 7706, 7724, 7728, 7731, 7732, 7734, 7736, 7743, 7749, 7762, 7776, 7777, 7784, 7788, 7789, 7824, 7838, 7848, 7856, 7857, 7860, 7869, 7870, 7874, 7877, 7881, 7883, 7887, 7890, 7909, 7918, 7926, 7931, 7978, 7980, 7986, 7993, 8000, 8015, 8016, 8019, 8022, 8025, 8036, 8038]\n",
      "[30, 32, 97, 105, 118, 122, 144, 229, 246, 264, 275, 291, 301, 385, 391, 400, 406, 442, 451, 453, 522, 524, 563, 620, 635, 642, 648, 679, 682, 700, 701, 754, 827, 896, 918, 930, 962, 1062, 1066, 1106, 1139, 1149, 1168, 1176, 1239, 1275, 1280, 1368, 1376, 1384, 1418, 1510, 1530, 1564, 1565, 1578, 1603, 1634, 1639, 1641, 1652, 1688, 1729, 1794, 1804, 1951, 1954, 1980, 2048, 2064, 2074, 2078, 2081, 2083, 2085, 2086, 2100, 2128, 2208, 2245, 2303, 2306, 2329, 2348, 2354, 2355, 2368, 2389, 2405, 2436, 2437, 2452, 2458, 2497, 2522, 2555, 2560, 2575, 2621, 2647, 2673, 2684, 2732, 2757, 2761, 2816, 2826, 2838, 2868, 2871, 2894, 2923, 2970, 3000, 3007, 3033, 3038, 3042, 3067, 3076, 3113, 3158, 3163, 3165, 3168, 3203, 3222, 3232, 3303, 3308, 3316, 3326, 3358, 3374, 3380, 3381, 3386, 3394, 3425, 3438, 3460, 3485, 3486, 3542, 3564, 3602, 3618, 3623, 3632, 3718, 3722, 3807, 3858, 3859, 3864, 3948, 3958, 3978, 4049, 4057, 4094, 4108, 4122, 4157, 4181, 4205, 4220, 4236, 4289, 4291, 4349, 4361, 4380, 4390, 4401, 4417, 4429, 4443, 4452, 4462, 4464, 4550, 4552, 4608, 4665, 4711, 4721, 4764, 4825, 4837, 4876, 4888, 4991, 4994, 5082, 5092, 5120, 5149, 5184, 5190, 5254, 5258, 5270, 5278, 5300, 5310, 5336, 5364, 5382, 5401, 5404, 5405, 5413, 5422, 5480, 5492, 5515, 5517, 5521, 5538, 5588, 5600, 5648, 5663, 5687, 5694, 5696, 5722, 5754, 5791, 5803, 5810, 5822, 5861, 5862, 5895, 5899, 5917, 5922, 5974, 5997, 6003, 6027, 6028, 6048, 6051, 6055, 6081, 6083, 6093, 6106, 6108, 6114, 6162, 6273, 6279, 6290, 6349, 6390, 6454, 6467, 6472, 6485, 6496, 6536, 6555, 6559, 6563, 6569, 6589, 6600, 6610, 6626, 6630, 6651, 6698, 6718, 6754, 6757, 6808, 6818, 6846, 6851, 6873, 6990, 7049, 7140, 7177, 7195, 7199, 7220, 7250, 7255, 7318, 7352, 7355, 7392, 7397, 7423, 7428, 7453, 7454, 7469, 7474, 7492, 7498, 7519, 7563, 7633, 7640, 7698, 7704, 7742, 7746, 7756, 7807, 7820, 7859, 7897, 7912, 7946, 8002, 8032]\n",
      "[5, 7, 14, 52, 62, 65, 96, 109, 172, 181, 196, 227, 270, 335, 361, 371, 410, 459, 464, 484, 501, 545, 553, 621, 631, 709, 733, 780, 833, 941, 952, 955, 985, 1025, 1028, 1047, 1050, 1052, 1073, 1080, 1214, 1216, 1236, 1265, 1350, 1477, 1482, 1514, 1561, 1605, 1670, 1797, 1970, 2024, 2097, 2179, 2184, 2221, 2240, 2330, 2358, 2584, 2596, 2645, 2729, 2860, 2877, 2964, 3089, 3112, 3125, 3145, 3183, 3235, 3273, 3278, 3279, 3314, 3321, 3338, 3344, 3376, 3395, 3412, 3430, 3431, 3441, 3464, 3484, 3533, 3551, 3646, 3792, 3849, 3917, 3944, 3947, 3955, 3959, 3964, 4169, 4173, 4206, 4306, 4322, 4335, 4344, 4385, 4400, 4454, 4466, 4508, 4512, 4575, 4601, 4670, 4680, 4738, 4814, 4836, 4849, 4923, 4937, 4982, 5001, 5081, 5085, 5098, 5171, 5264, 5279, 5408, 5461, 5499, 5506, 5529, 5533, 5539, 5543, 5565, 5656, 5660, 5680, 5713, 5779, 5786, 5790, 5908, 5934, 5972, 6023, 6074, 6086, 6138, 6139, 6208, 6235, 6243, 6284, 6326, 6352, 6603, 6657, 6661, 6667, 6695, 6824, 6841, 6862, 6920, 6933, 7011, 7066, 7113, 7288, 7328, 7351, 7373, 7534, 7580, 7619, 7696, 7822, 7842, 7948, 7956, 7997, 8040]\n",
      "[51, 79, 154, 174, 176, 215, 238, 243, 277, 282, 283, 309, 386, 390, 489, 592, 595, 606, 697, 699, 730, 737, 753, 768, 772, 838, 843, 870, 945, 1002, 1032, 1038, 1043, 1122, 1173, 1185, 1204, 1212, 1213, 1218, 1260, 1267, 1278, 1302, 1415, 1426, 1442, 1527, 1560, 1600, 1702, 1708, 1773, 1808, 1826, 1869, 1924, 1928, 1966, 1990, 2054, 2148, 2161, 2251, 2264, 2335, 2338, 2361, 2365, 2451, 2453, 2482, 2511, 2534, 2537, 2569, 2630, 2644, 2740, 2830, 2852, 2914, 3005, 3116, 3174, 3187, 3198, 3205, 3260, 3318, 3342, 3369, 3371, 3661, 3676, 3681, 3682, 3713, 3742, 3744, 3754, 3794, 3809, 3821, 3865, 3881, 3890, 3919, 3929, 3930, 3939, 3970, 4071, 4090, 4131, 4155, 4245, 4353, 4409, 4447, 4488, 4519, 4535, 4691, 4695, 4703, 4705, 4722, 4732, 4745, 4804, 4808, 4878, 4912, 4929, 4946, 5057, 5077, 5133, 5188, 5203, 5269, 5369, 5383, 5386, 5407, 5415, 5468, 5487, 5505, 5514, 5516, 5557, 5576, 5610, 5641, 5708, 5710, 5746, 5749, 5798, 5859, 5865, 5913, 5916, 6014, 6039, 6040, 6266, 6274, 6287, 6288, 6358, 6367, 6411, 6474, 6477, 6480, 6513, 6521, 6605, 6726, 6773, 6778, 6890, 6965, 6968, 6984, 7013, 7031, 7047, 7054, 7092, 7103, 7107, 7137, 7178, 7219, 7249, 7267, 7291, 7325, 7386, 7398, 7426, 7429, 7478, 7513, 7518, 7584, 7610, 7710, 7733, 7767, 7878, 7955, 7987, 8012]\n",
      "[1, 15, 23, 40, 50, 114, 159, 178, 208, 298, 302, 388, 405, 475, 498, 510, 538, 566, 602, 612, 708, 713, 723, 725, 738, 759, 763, 778, 828, 829, 857, 886, 906, 929, 968, 997, 999, 1057, 1068, 1090, 1108, 1124, 1143, 1145, 1148, 1222, 1223, 1277, 1282, 1344, 1362, 1374, 1397, 1443, 1471, 1472, 1497, 1503, 1508, 1543, 1557, 1567, 1569, 1571, 1625, 1637, 1679, 1718, 1724, 1755, 1780, 1785, 1898, 1912, 1946, 1963, 1979, 1987, 1995, 2040, 2069, 2073, 2079, 2094, 2113, 2157, 2173, 2176, 2177, 2207, 2224, 2256, 2262, 2295, 2332, 2379, 2386, 2421, 2428, 2471, 2483, 2486, 2499, 2505, 2530, 2535, 2540, 2589, 2608, 2634, 2635, 2646, 2652, 2739, 2762, 2764, 2807, 2839, 2846, 2900, 2954, 3071, 3122, 3130, 3133, 3142, 3154, 3179, 3226, 3300, 3335, 3351, 3360, 3404, 3409, 3478, 3552, 3554, 3575, 3598, 3614, 3639, 3687, 3691, 3725, 3748, 3750, 3755, 3814, 3827, 3851, 3852, 3868, 3876, 3889, 3968, 3971, 4019, 4047, 4066, 4086, 4089, 4093, 4175, 4183, 4193, 4211, 4231, 4242, 4293, 4299, 4308, 4312, 4362, 4364, 4366, 4424, 4439, 4485, 4491, 4533, 4549, 4554, 4565, 4583, 4612, 4619, 4646, 4651, 4715, 4728, 4733, 4742, 4753, 4758, 4773, 4774, 4816, 4873, 4930, 4934, 4954, 5012, 5015, 5022, 5026, 5035, 5050, 5055, 5102, 5132, 5187, 5283, 5288, 5306, 5321, 5325, 5339, 5397, 5402, 5417, 5421, 5425, 5428, 5440, 5486, 5551, 5571, 5619, 5639, 5728, 5733, 5750, 5760, 5828, 5853, 5854, 5866, 5898, 5932, 6019, 6045, 6049, 6075, 6174, 6185, 6195, 6205, 6229, 6237, 6323, 6350, 6364, 6365, 6369, 6399, 6434, 6462, 6510, 6556, 6570, 6617, 6624, 6744, 6760, 6771, 6826, 6946, 6971, 6982, 7042, 7058, 7078, 7117, 7130, 7153, 7169, 7172, 7182, 7213, 7221, 7245, 7269, 7309, 7312, 7313, 7339, 7372, 7410, 7415, 7431, 7468, 7473, 7481, 7490, 7493, 7522, 7601, 7618, 7642, 7649, 7672, 7688, 7725, 7729, 7740, 7773, 7775, 7787, 7793, 7800, 7813, 7828, 7834, 7840, 7854, 7884, 7899, 7900, 7983, 7984, 8009]\n",
      "[31, 39, 47, 48, 77, 82, 119, 125, 134, 136, 146, 148, 212, 226, 232, 252, 276, 303, 317, 337, 359, 373, 378, 424, 431, 435, 437, 443, 487, 495, 497, 540, 567, 573, 575, 580, 600, 640, 641, 644, 651, 667, 706, 724, 796, 798, 800, 807, 841, 873, 892, 991, 1000, 1041, 1056, 1071, 1075, 1120, 1163, 1183, 1184, 1196, 1234, 1246, 1248, 1288, 1306, 1316, 1320, 1325, 1334, 1393, 1413, 1424, 1435, 1446, 1447, 1475, 1478, 1532, 1558, 1580, 1609, 1611, 1616, 1618, 1659, 1667, 1701, 1778, 1779, 1817, 1827, 1831, 1861, 1864, 1871, 1877, 1916, 1983, 1989, 2004, 2009, 2031, 2050, 2067, 2095, 2135, 2155, 2162, 2183, 2234, 2243, 2287, 2291, 2297, 2300, 2302, 2344, 2381, 2414, 2457, 2469, 2474, 2490, 2500, 2518, 2525, 2532, 2552, 2559, 2564, 2566, 2585, 2603, 2637, 2648, 2651, 2653, 2655, 2667, 2693, 2713, 2715, 2717, 2733, 2735, 2742, 2778, 2780, 2851, 2861, 2891, 2926, 2957, 2966, 2972, 2974, 2983, 2999, 3006, 3012, 3018, 3050, 3074, 3091, 3127, 3149, 3162, 3263, 3267, 3270, 3276, 3322, 3329, 3359, 3365, 3372, 3390, 3400, 3402, 3416, 3442, 3448, 3449, 3450, 3458, 3470, 3475, 3483, 3513, 3553, 3574, 3580, 3637, 3684, 3689, 3726, 3763, 3769, 3776, 3787, 3816, 3886, 3900, 3921, 3923, 3931, 3982, 3983, 3995, 4018, 4087, 4102, 4113, 4116, 4142, 4163, 4168, 4202, 4213, 4215, 4260, 4282, 4285, 4298, 4305, 4393, 4394, 4411, 4433, 4459, 4463, 4474, 4523, 4544, 4566, 4568, 4578, 4605, 4659, 4698, 4700, 4712, 4740, 4744, 4783, 4784, 4786, 4818, 4828, 4831, 4853, 4863, 4887, 4976, 4989, 4990, 5005, 5028, 5044, 5058, 5064, 5075, 5083, 5088, 5137, 5176, 5223, 5246, 5248, 5266, 5293, 5301, 5315, 5323, 5329, 5338, 5342, 5381, 5426, 5437, 5441, 5449, 5454, 5482, 5496, 5536, 5542, 5556, 5560, 5572, 5583, 5617, 5618, 5647, 5677, 5704, 5706, 5730, 5745, 5763, 5776, 5827, 5835, 5872, 5875, 5891, 5893, 5900, 5918, 5950, 5955, 6119, 6134, 6143, 6145, 6190, 6207, 6232, 6234, 6282, 6286, 6305, 6309, 6343, 6381, 6391, 6398, 6401, 6417, 6419, 6426, 6482, 6483, 6484, 6498, 6501, 6523, 6527, 6531, 6575, 6584, 6619, 6627, 6633, 6656, 6665, 6666, 6678, 6682, 6697, 6701, 6714, 6719, 6736, 6795, 6809, 6858, 6874, 6899, 6924, 6960, 6979, 7015, 7029, 7036, 7065, 7080, 7118, 7155, 7163, 7171, 7179, 7184, 7215, 7217, 7228, 7241, 7256, 7258, 7270, 7304, 7407, 7459, 7486, 7497, 7502, 7508, 7532, 7543, 7545, 7565, 7568, 7569, 7573, 7574, 7612, 7630, 7647, 7676, 7718, 7730, 7737, 7757, 7802, 7889, 7913, 7924, 7945, 7947, 7990, 7991, 8005, 8014, 8018]\n",
      "[41, 58, 64, 67, 87, 90, 113, 116, 140, 157, 179, 261, 266, 271, 344, 379, 398, 419, 430, 440, 454, 466, 511, 515, 531, 532, 546, 572, 597, 603, 643, 799, 808, 913, 957, 1031, 1110, 1115, 1181, 1182, 1226, 1240, 1266, 1337, 1347, 1365, 1481, 1483, 1511, 1563, 1595, 1700, 1734, 1750, 1752, 1802, 1805, 1838, 1885, 1909, 1923, 2036, 2055, 2058, 2111, 2166, 2182, 2194, 2279, 2286, 2289, 2296, 2357, 2418, 2435, 2444, 2456, 2464, 2475, 2512, 2573, 2576, 2609, 2615, 2624, 2627, 2671, 2758, 2772, 2797, 2836, 2849, 2875, 2920, 2981, 2986, 3022, 3052, 3152, 3173, 3211, 3271, 3282, 3310, 3340, 3421, 3437, 3439, 3444, 3527, 3548, 3603, 3633, 3674, 3700, 3711, 3717, 3786, 3791, 3795, 3805, 3843, 3893, 3950, 4036, 4072, 4076, 4180, 4186, 4256, 4286, 4318, 4342, 4368, 4438, 4496, 4516, 4560, 4572, 4573, 4600, 4637, 4668, 4707, 4739, 4763, 4768, 4787, 4841, 4844, 4883, 4890, 4980, 5037, 5116, 5164, 5204, 5220, 5265, 5363, 5375, 5448, 5511, 5561, 5622, 5736, 5814, 5823, 5845, 5894, 5943, 5963, 5971, 6000, 6007, 6058, 6088, 6142, 6144, 6151, 6173, 6177, 6236, 6242, 6329, 6363, 6383, 6421, 6471, 6525, 6535, 6616, 6645, 6649, 6699, 6710, 6747, 6753, 6790, 6799, 6859, 6865, 6871, 6938, 6950, 6975, 7001, 7014, 7075, 7091, 7093, 7124, 7157, 7189, 7230, 7271, 7320, 7327, 7337, 7358, 7363, 7391, 7432, 7451, 7458, 7471, 7491, 7500, 7551, 7558, 7588, 7598, 7600, 7632, 7678, 7758, 7759, 7803, 7814, 7816, 7873, 7972, 8001]\n",
      "[3, 8, 10, 20, 21, 38, 103, 147, 202, 244, 245, 269, 287, 290, 314, 343, 362, 408, 457, 474, 519, 523, 534, 549, 556, 634, 690, 731, 783, 784, 811, 866, 885, 901, 938, 949, 989, 1092, 1103, 1107, 1141, 1191, 1262, 1270, 1289, 1556, 1582, 1607, 1632, 1643, 1654, 1723, 1732, 1829, 1886, 2033, 2065, 2072, 2098, 2139, 2172, 2222, 2275, 2284, 2310, 2353, 2371, 2378, 2401, 2410, 2417, 2461, 2509, 2516, 2580, 2599, 2601, 2659, 2664, 2689, 2858, 2880, 2881, 2901, 2918, 2922, 2991, 3028, 3070, 3126, 3215, 3216, 3220, 3304, 3331, 3367, 3453, 3456, 3479, 3493, 3502, 3505, 3521, 3529, 3546, 3583, 3591, 3609, 3620, 3662, 3666, 3680, 3704, 3720, 3770, 3775, 3818, 3820, 3831, 3908, 3925, 3972, 3973, 4010, 4088, 4148, 4165, 4167, 4273, 4316, 4337, 4374, 4387, 4395, 4451, 4469, 4514, 4590, 4622, 4629, 4681, 4690, 4720, 4734, 4789, 4839, 4871, 5006, 5007, 5042, 5043, 5045, 5086, 5160, 5182, 5201, 5257, 5272, 5442, 5483, 5485, 5528, 5540, 5665, 5717, 5770, 5838, 5901, 5919, 5935, 5978, 5984, 6013, 6016, 6044, 6219, 6222, 6224, 6263, 6385, 6452, 6463, 6571, 6604, 6650, 6673, 6706, 6720, 6723, 6770, 6802, 6898, 6954, 6974, 6981, 6995, 7006, 7016, 7034, 7100, 7110, 7232, 7305, 7323, 7357, 7380, 7441, 7449, 7479, 7514, 7553, 7562, 7567, 7582, 7593, 7646, 7747, 7810, 7871, 7880, 7965, 7988]\n",
      "[36, 57, 74, 175, 184, 189, 194, 195, 206, 220, 231, 280, 286, 293, 299, 345, 360, 368, 374, 420, 476, 505, 576, 587, 604, 605, 637, 663, 720, 727, 750, 769, 770, 786, 818, 819, 831, 879, 880, 884, 895, 931, 948, 961, 995, 1039, 1059, 1131, 1177, 1186, 1192, 1235, 1247, 1361, 1386, 1403, 1467, 1473, 1488, 1504, 1553, 1570, 1647, 1657, 1706, 1839, 1883, 1888, 1942, 1944, 1945, 1975, 1977, 1991, 1999, 2044, 2101, 2127, 2137, 2144, 2153, 2193, 2199, 2227, 2258, 2260, 2273, 2320, 2342, 2412, 2422, 2427, 2432, 2473, 2515, 2551, 2571, 2586, 2612, 2618, 2657, 2662, 2676, 2680, 2700, 2703, 2799, 2802, 2813, 2817, 2837, 2843, 2853, 2854, 2993, 2997, 3047, 3090, 3108, 3153, 3189, 3193, 3228, 3230, 3313, 3362, 3411, 3477, 3488, 3491, 3500, 3530, 3558, 3560, 3592, 3594, 3597, 3619, 3719, 3733, 3751, 3765, 3804, 3811, 3836, 3856, 3867, 3888, 3903, 3974, 3975, 3998, 4004, 4007, 4017, 4035, 4037, 4063, 4105, 4121, 4135, 4227, 4233, 4234, 4241, 4259, 4287, 4326, 4340, 4445, 4470, 4481, 4483, 4500, 4543, 4555, 4576, 4579, 4610, 4613, 4630, 4632, 4642, 4661, 4702, 4710, 4749, 4757, 4775, 4812, 4820, 4835, 4866, 4880, 4901, 4915, 4953, 4971, 4988, 4993, 5046, 5059, 5079, 5084, 5112, 5144, 5158, 5179, 5181, 5194, 5199, 5206, 5216, 5225, 5228, 5260, 5277, 5291, 5324, 5328, 5356, 5361, 5388, 5399, 5424, 5439, 5488, 5512, 5555, 5558, 5615, 5633, 5636, 5640, 5642, 5655, 5667, 5671, 5674, 5698, 5716, 5725, 5732, 5752, 5766, 5777, 5780, 5889, 5906, 6010, 6018, 6020, 6041, 6046, 6062, 6076, 6080, 6094, 6105, 6111, 6123, 6132, 6161, 6169, 6170, 6285, 6341, 6345, 6451, 6524, 6530, 6554, 6562, 6590, 6631, 6670, 6711, 6750, 6763, 6796, 6822, 6825, 6835, 6847, 6854, 6902, 6903, 6919, 6921, 6929, 7038, 7050, 7061, 7085, 7180, 7192, 7204, 7222, 7229, 7246, 7257, 7331, 7340, 7436, 7438, 7439, 7457, 7538, 7576, 7603, 7636, 7651, 7675, 7689, 7713, 7719, 7720, 7765, 7770, 7876, 7903, 7964, 7996, 8024, 8033, 8034]\n",
      "[35, 55, 107, 139, 145, 363, 376, 433, 517, 547, 588, 609, 615, 711, 762, 765, 877, 898, 910, 935, 964, 1006, 1026, 1045, 1245, 1315, 1372, 1462, 1502, 1541, 1587, 1640, 1648, 1649, 1692, 1716, 1733, 1798, 1843, 1900, 1934, 1973, 2039, 2041, 2080, 2132, 2145, 2178, 2202, 2226, 2232, 2390, 2398, 2450, 2454, 2528, 2547, 2557, 2616, 2748, 2848, 2895, 2919, 2949, 2988, 3039, 3078, 3210, 3225, 3297, 3336, 3569, 3622, 3672, 3678, 3723, 3798, 3877, 3940, 3977, 3989, 4000, 4042, 4075, 4079, 4114, 4198, 4246, 4278, 4283, 4360, 4406, 4440, 4513, 4692, 5111, 5140, 5148, 5195, 5343, 5395, 5434, 5573, 5723, 5757, 5794, 5841, 5846, 5855, 5870, 5880, 5946, 6077, 6103, 6133, 6193, 6250, 6269, 6278, 6312, 6360, 6422, 6608, 6636, 6644, 6692, 6733, 6800, 6883, 6983, 7041, 7089, 7167, 7253, 7286, 7300, 7344, 7383, 7395, 7467, 7477, 7666, 7748, 7806, 7817, 7829, 7850, 7875, 7933, 7934, 7957, 7962, 7969, 7985]\n",
      "[2, 25, 28, 33, 66, 88, 93, 95, 100, 115, 135, 137, 149, 150, 152, 158, 192, 197, 204, 209, 221, 230, 254, 267, 332, 353, 355, 389, 404, 409, 418, 461, 470, 504, 514, 521, 527, 557, 558, 565, 613, 646, 654, 677, 678, 684, 698, 752, 761, 787, 793, 794, 815, 840, 852, 854, 871, 878, 900, 920, 936, 937, 947, 963, 974, 984, 988, 992, 993, 1017, 1018, 1036, 1053, 1065, 1067, 1099, 1119, 1130, 1152, 1165, 1193, 1224, 1228, 1251, 1253, 1254, 1293, 1312, 1319, 1322, 1331, 1336, 1345, 1375, 1380, 1396, 1428, 1441, 1454, 1479, 1485, 1522, 1523, 1538, 1540, 1590, 1602, 1651, 1658, 1663, 1668, 1671, 1675, 1682, 1704, 1714, 1722, 1730, 1740, 1742, 1744, 1746, 1748, 1753, 1754, 1761, 1772, 1775, 1777, 1782, 1801, 1806, 1809, 1812, 1813, 1857, 1902, 1925, 1958, 1969, 1988, 2003, 2013, 2032, 2042, 2046, 2049, 2071, 2075, 2088, 2092, 2099, 2115, 2125, 2130, 2133, 2141, 2192, 2206, 2211, 2213, 2236, 2247, 2248, 2271, 2290, 2308, 2356, 2359, 2370, 2373, 2384, 2408, 2419, 2423, 2424, 2434, 2442, 2460, 2477, 2498, 2517, 2545, 2567, 2582, 2598, 2605, 2641, 2679, 2697, 2707, 2714, 2725, 2736, 2741, 2760, 2774, 2798, 2810, 2845, 2850, 2865, 2869, 2916, 2931, 2933, 2948, 2973, 2984, 2989, 2990, 3032, 3035, 3037, 3040, 3053, 3057, 3079, 3088, 3123, 3129, 3134, 3137, 3138, 3139, 3161, 3233, 3239, 3244, 3259, 3269, 3280, 3281, 3296, 3298, 3306, 3317, 3361, 3373, 3420, 3427, 3432, 3459, 3461, 3473, 3481, 3487, 3503, 3507, 3512, 3523, 3532, 3534, 3579, 3582, 3599, 3604, 3611, 3612, 3625, 3653, 3657, 3660, 3675, 3686, 3693, 3740, 3758, 3830, 3832, 3840, 3846, 3848, 3855, 3874, 3896, 3913, 3918, 3932, 3938, 4006, 4008, 4011, 4027, 4039, 4054, 4060, 4065, 4096, 4118, 4120, 4144, 4187, 4199, 4222, 4249, 4253, 4255, 4276, 4290, 4302, 4304, 4313, 4321, 4343, 4399, 4410, 4414, 4430, 4441, 4456, 4465, 4467, 4480, 4486, 4517, 4553, 4558, 4559, 4563, 4607, 4614, 4617, 4621, 4625, 4633, 4647, 4652, 4663, 4693, 4706, 4708, 4717, 4719, 4741, 4750, 4756, 4766, 4772, 4777, 4791, 4795, 4826, 4840, 4885, 4924, 4951, 4957, 4972, 4975, 4999, 5041, 5051, 5069, 5072, 5089, 5115, 5122, 5128, 5135, 5170, 5172, 5185, 5200, 5202, 5209, 5219, 5221, 5224, 5229, 5237, 5241, 5256, 5284, 5318, 5326, 5327, 5330, 5344, 5346, 5351, 5392, 5403, 5414, 5445, 5450, 5508, 5531, 5553, 5566, 5575, 5591, 5602, 5627, 5646, 5650, 5678, 5688, 5693, 5711, 5781, 5782, 5784, 5788, 5789, 5800, 5819, 5831, 5836, 5842, 5844, 5856, 5911, 5912, 5939, 5945, 5948, 5954, 5983, 5988, 6036, 6060, 6068, 6070, 6071, 6090, 6092, 6126, 6171, 6180, 6191, 6203, 6214, 6216, 6223, 6228, 6238, 6258, 6264, 6275, 6277, 6293, 6304, 6307, 6311, 6318, 6330, 6334, 6355, 6362, 6368, 6374, 6403, 6405, 6415, 6431, 6437, 6439, 6449, 6455, 6465, 6479, 6488, 6499, 6512, 6519, 6532, 6551, 6557, 6574, 6607, 6658, 6677, 6690, 6691, 6761, 6774, 6781, 6798, 6807, 6828, 6850, 6869, 6878, 6887, 6891, 6906, 6930, 6935, 6942, 6943, 6944, 6961, 6976, 7004, 7023, 7024, 7025, 7046, 7053, 7088, 7101, 7119, 7151, 7158, 7190, 7234, 7262, 7274, 7294, 7299, 7310, 7333, 7356, 7365, 7368, 7384, 7390, 7419, 7421, 7434, 7442, 7465, 7466, 7470, 7480, 7482, 7487, 7494, 7517, 7520, 7542, 7572, 7581, 7597, 7605, 7606, 7613, 7622, 7628, 7643, 7644, 7656, 7664, 7679, 7685, 7702, 7739, 7753, 7786, 7827, 7839, 7858, 7901, 7902, 7906, 7914, 7915, 7917, 7919, 7938, 7941, 7950, 7951, 7963, 7992, 7999, 8004, 8017, 8023, 8028, 8035]\n",
      "[60, 69, 92, 108, 120, 155, 183, 217, 218, 259, 294, 322, 331, 354, 356, 429, 436, 471, 493, 513, 516, 537, 647, 702, 715, 729, 741, 773, 816, 834, 836, 850, 903, 927, 942, 986, 1096, 1101, 1109, 1180, 1283, 1310, 1313, 1323, 1330, 1406, 1427, 1432, 1519, 1520, 1577, 1610, 1645, 1696, 1711, 1758, 1759, 1784, 1799, 1922, 1927, 1948, 1992, 2016, 2052, 2158, 2164, 2185, 2270, 2440, 2445, 2494, 2504, 2620, 2629, 2639, 2658, 2661, 2674, 2675, 2692, 2711, 2734, 2800, 2818, 2834, 2856, 3015, 3051, 3083, 3092, 3111, 3131, 3132, 3234, 3246, 3288, 3327, 3355, 3357, 3399, 3447, 3454, 3506, 3516, 3525, 3537, 3557, 3587, 3654, 3685, 3697, 3708, 3738, 3785, 3790, 3803, 3812, 3844, 3937, 3969, 4021, 4059, 4067, 4095, 4139, 4190, 4194, 4208, 4218, 4334, 4382, 4510, 4527, 4556, 4615, 4677, 4679, 4697, 4725, 4727, 4813, 4843, 4851, 4889, 4914, 4916, 4917, 4952, 4966, 4978, 4996, 5004, 5009, 5011, 5108, 5125, 5138, 5334, 5335, 5357, 5393, 5443, 5447, 5503, 5584, 5645, 5681, 5682, 5785, 5811, 5824, 5964, 5977, 6002, 6024, 6059, 6104, 6120, 6131, 6152, 6154, 6181, 6184, 6259, 6296, 6357, 6359, 6372, 6408, 6416, 6442, 6445, 6473, 6514, 6518, 6541, 6579, 6596, 6611, 6705, 6712, 6715, 6731, 6737, 6749, 6786, 6867, 6892, 6914, 6931, 6959, 6963, 7003, 7009, 7052, 7072, 7082, 7096, 7116, 7126, 7135, 7143, 7144, 7148, 7166, 7185, 7193, 7227, 7243, 7370, 7444, 7523, 7524, 7560, 7670, 7695, 7709, 7722, 7744, 7766, 7785, 7826, 7843, 7845, 7863, 7907, 7911, 7920, 7942, 7954, 7995, 8026]\n",
      "[16, 43, 89, 91, 225, 288, 297, 306, 367, 529, 550, 581, 584, 672, 714, 749, 756, 757, 803, 825, 845, 851, 1011, 1016, 1126, 1155, 1229, 1244, 1300, 1305, 1383, 1460, 1542, 1579, 1583, 1591, 1614, 1627, 1697, 1698, 1739, 1769, 1783, 1796, 1832, 1847, 1908, 1919, 1993, 2110, 2146, 2210, 2220, 2246, 2276, 2341, 2433, 2521, 2579, 2591, 2745, 2752, 2831, 2940, 3014, 3065, 3085, 3171, 3200, 3252, 3284, 3294, 3299, 3328, 3406, 3480, 3550, 3565, 3607, 3664, 3692, 3826, 3853, 3892, 3994, 4117, 4129, 4172, 4182, 4229, 4237, 4307, 4359, 4397, 4408, 4415, 4487, 4532, 4537, 4545, 4551, 4655, 4827, 4845, 4906, 4985, 5093, 5104, 5192, 5230, 5389, 5470, 5472, 5534, 5601, 5718, 5726, 5783, 5807, 5874, 5876, 5882, 5929, 5931, 5952, 5967, 6053, 6072, 6187, 6189, 6192, 6251, 6262, 6310, 6370, 6392, 6490, 6507, 6529, 6533, 6543, 6576, 6586, 6614, 6679, 6780, 6812, 6853, 6860, 6884, 6893, 6896, 6911, 6993, 7017, 7020, 7073, 7174, 7175, 7196, 7200, 7273, 7276, 7278, 7293, 7297, 7375, 7422, 7462, 7525, 7539, 7546, 7571, 7599, 7604, 7645, 7705, 7750, 7795, 7804, 7833, 7936, 7937, 7977, 7979, 8027, 8039]\n",
      "[26, 46, 68, 72, 78, 153, 165, 170, 187, 207, 223, 224, 249, 255, 296, 310, 316, 323, 326, 336, 338, 352, 382, 399, 407, 415, 423, 434, 438, 441, 445, 462, 478, 480, 502, 508, 586, 591, 598, 618, 633, 673, 685, 695, 704, 712, 718, 776, 804, 812, 835, 844, 868, 872, 887, 888, 889, 916, 917, 934, 960, 973, 976, 1007, 1015, 1058, 1072, 1105, 1121, 1133, 1151, 1156, 1157, 1161, 1167, 1170, 1175, 1187, 1197, 1211, 1225, 1250, 1257, 1273, 1304, 1333, 1339, 1367, 1373, 1377, 1382, 1395, 1409, 1414, 1433, 1493, 1507, 1512, 1515, 1533, 1555, 1573, 1581, 1601, 1606, 1636, 1638, 1666, 1683, 1686, 1712, 1728, 1747, 1786, 1787, 1792, 1807, 1819, 1821, 1837, 1849, 1852, 1858, 1873, 1894, 1895, 1897, 1921, 1935, 1953, 1986, 2000, 2011, 2029, 2062, 2087, 2091, 2105, 2116, 2136, 2152, 2165, 2167, 2181, 2190, 2198, 2212, 2217, 2283, 2346, 2351, 2376, 2382, 2396, 2404, 2411, 2446, 2462, 2463, 2476, 2481, 2484, 2488, 2502, 2503, 2508, 2513, 2548, 2565, 2568, 2570, 2587, 2594, 2602, 2613, 2628, 2669, 2701, 2724, 2730, 2731, 2763, 2769, 2781, 2796, 2808, 2833, 2859, 2886, 2896, 2909, 2930, 2936, 2939, 2975, 2979, 2994, 3021, 3046, 3069, 3094, 3097, 3101, 3115, 3140, 3155, 3175, 3184, 3197, 3213, 3221, 3224, 3247, 3253, 3261, 3265, 3315, 3332, 3333, 3337, 3339, 3363, 3370, 3375, 3377, 3405, 3428, 3429, 3494, 3499, 3508, 3538, 3539, 3540, 3589, 3590, 3627, 3629, 3638, 3655, 3699, 3730, 3778, 3780, 3797, 3824, 3870, 3927, 3933, 3943, 3987, 4013, 4030, 4040, 4046, 4051, 4062, 4064, 4070, 4098, 4100, 4107, 4119, 4128, 4146, 4158, 4196, 4214, 4224, 4226, 4250, 4261, 4277, 4292, 4371, 4402, 4412, 4413, 4427, 4428, 4432, 4473, 4479, 4490, 4493, 4502, 4542, 4570, 4586, 4591, 4603, 4634, 4644, 4649, 4653, 4654, 4656, 4687, 4737, 4759, 4762, 4769, 4782, 4822, 4846, 4852, 4867, 4894, 4904, 4940, 4944, 4950, 4984, 5029, 5110, 5134, 5155, 5159, 5163, 5183, 5217, 5242, 5243, 5296, 5297, 5304, 5314, 5317, 5332, 5360, 5368, 5385, 5391, 5398, 5410, 5419, 5423, 5438, 5460, 5462, 5493, 5495, 5520, 5537, 5545, 5569, 5586, 5643, 5657, 5695, 5703, 5720, 5738, 5742, 5743, 5793, 5809, 5825, 5829, 5839, 5871, 5884, 5892, 5897, 5904, 5914, 5930, 5936, 5941, 5949, 5965, 5969, 5985, 5987, 5995, 6005, 6012, 6022, 6031, 6050, 6097, 6101, 6129, 6135, 6141, 6176, 6182, 6218, 6225, 6233, 6249, 6294, 6321, 6375, 6394, 6400, 6418, 6423, 6436, 6464, 6489, 6504, 6506, 6528, 6544, 6546, 6588, 6613, 6615, 6634, 6638, 6668, 6672, 6685, 6704, 6707, 6740, 6752, 6755, 6756, 6779, 6806, 6810, 6817, 6832, 6861, 6926, 6932, 6945, 6953, 6967, 6986, 6988, 7048, 7070, 7086, 7094, 7097, 7111, 7129, 7160, 7176, 7208, 7211, 7237, 7252, 7254, 7265, 7275, 7279, 7335, 7336, 7354, 7379, 7385, 7418, 7455, 7483, 7484, 7503, 7505, 7587, 7591, 7614, 7625, 7634, 7661, 7690, 7707, 7715, 7716, 7717, 7723, 7752, 7754, 7763, 7769, 7819, 7888, 7896, 7905, 7908, 7916, 7922, 7959, 7973, 8013, 8020]\n",
      "[22, 34, 63, 76, 104, 110, 117, 126, 130, 142, 169, 185, 247, 263, 265, 342, 348, 366, 375, 395, 414, 425, 439, 452, 456, 469, 481, 507, 512, 533, 542, 559, 611, 623, 627, 639, 674, 726, 728, 745, 758, 764, 810, 881, 899, 902, 921, 944, 981, 1009, 1014, 1022, 1049, 1051, 1063, 1091, 1113, 1128, 1132, 1138, 1150, 1160, 1166, 1172, 1178, 1200, 1217, 1221, 1231, 1233, 1258, 1259, 1290, 1291, 1308, 1309, 1311, 1321, 1346, 1370, 1379, 1391, 1398, 1411, 1437, 1440, 1456, 1468, 1516, 1517, 1535, 1546, 1576, 1589, 1597, 1617, 1629, 1646, 1661, 1664, 1676, 1727, 1736, 1760, 1764, 1768, 1771, 1795, 1845, 1850, 1863, 1870, 1896, 1965, 1982, 2018, 2027, 2047, 2057, 2082, 2112, 2143, 2150, 2174, 2186, 2235, 2257, 2281, 2285, 2288, 2345, 2352, 2366, 2372, 2391, 2399, 2455, 2465, 2514, 2531, 2626, 2640, 2685, 2728, 2746, 2754, 2756, 2765, 2773, 2784, 2785, 2786, 2803, 2890, 2892, 2899, 2903, 2910, 2913, 2950, 2965, 2969, 2978, 3004, 3023, 3030, 3059, 3080, 3086, 3093, 3107, 3117, 3141, 3172, 3190, 3196, 3207, 3227, 3237, 3258, 3293, 3302, 3330, 3349, 3396, 3408, 3410, 3422, 3452, 3465, 3472, 3547, 3559, 3572, 3576, 3593, 3635, 3636, 3644, 3670, 3671, 3673, 3702, 3749, 3766, 3841, 3880, 3884, 3887, 3924, 3952, 3954, 3956, 3967, 3981, 3993, 3996, 4110, 4123, 4125, 4154, 4159, 4170, 4184, 4191, 4197, 4244, 4248, 4257, 4266, 4272, 4288, 4297, 4303, 4315, 4323, 4328, 4333, 4345, 4356, 4376, 4389, 4404, 4416, 4436, 4458, 4477, 4497, 4504, 4588, 4631, 4648, 4675, 4730, 4776, 4785, 4805, 4855, 4856, 4872, 4909, 4942, 4962, 4964, 4965, 4970, 4981, 4997, 5014, 5025, 5031, 5038, 5094, 5103, 5131, 5151, 5154, 5174, 5189, 5231, 5267, 5275, 5285, 5308, 5358, 5387, 5431, 5455, 5466, 5477, 5484, 5519, 5525, 5546, 5590, 5593, 5597, 5628, 5649, 5658, 5659, 5669, 5751, 5753, 5767, 5778, 5787, 5840, 5863, 5867, 5868, 5881, 5888, 5903, 5909, 5915, 5920, 5923, 5933, 5940, 5947, 5961, 5970, 5975, 5996, 6035, 6037, 6054, 6065, 6091, 6100, 6130, 6146, 6149, 6168, 6200, 6209, 6211, 6227, 6276, 6280, 6295, 6314, 6315, 6376, 6388, 6406, 6413, 6435, 6446, 6509, 6516, 6545, 6547, 6580, 6581, 6591, 6592, 6620, 6662, 6732, 6745, 6746, 6748, 6765, 6783, 6788, 6814, 6816, 6827, 6900, 6907, 6910, 6941, 6956, 6970, 7012, 7056, 7077, 7087, 7095, 7104, 7105, 7138, 7152, 7187, 7194, 7248, 7285, 7290, 7295, 7298, 7302, 7303, 7324, 7326, 7341, 7350, 7374, 7396, 7414, 7510, 7531, 7665, 7684, 7697, 7711, 7764, 7771, 7772, 7779, 7790, 7799, 7815, 7832, 7844, 7861, 7894, 7989]\n",
      "[6, 13, 54, 83, 85, 86, 133, 173, 201, 214, 222, 233, 239, 250, 262, 268, 278, 305, 318, 325, 341, 351, 357, 370, 372, 387, 394, 421, 427, 432, 467, 483, 491, 492, 518, 579, 582, 599, 601, 610, 650, 656, 657, 659, 661, 686, 689, 775, 777, 788, 814, 848, 856, 860, 908, 911, 972, 979, 982, 983, 996, 1021, 1035, 1040, 1042, 1046, 1064, 1098, 1100, 1104, 1179, 1215, 1237, 1241, 1242, 1252, 1255, 1268, 1286, 1292, 1294, 1296, 1301, 1314, 1326, 1329, 1342, 1343, 1371, 1387, 1388, 1394, 1400, 1405, 1416, 1450, 1455, 1457, 1463, 1466, 1492, 1521, 1588, 1593, 1598, 1622, 1623, 1630, 1662, 1681, 1705, 1709, 1715, 1726, 1731, 1735, 1756, 1770, 1789, 1790, 1853, 1865, 1876, 1882, 1917, 1930, 1939, 1998, 2012, 2015, 2020, 2028, 2051, 2060, 2077, 2140, 2154, 2175, 2196, 2219, 2238, 2259, 2265, 2278, 2299, 2304, 2309, 2326, 2336, 2343, 2362, 2393, 2395, 2407, 2409, 2420, 2438, 2447, 2478, 2496, 2538, 2550, 2556, 2577, 2578, 2583, 2604, 2610, 2642, 2660, 2663, 2690, 2737, 2759, 2766, 2777, 2790, 2791, 2794, 2806, 2824, 2842, 2884, 2898, 2904, 2937, 2947, 2962, 2977, 2982, 2985, 3008, 3024, 3054, 3062, 3064, 3087, 3103, 3104, 3120, 3167, 3176, 3177, 3181, 3212, 3242, 3285, 3292, 3320, 3350, 3366, 3382, 3388, 3401, 3451, 3466, 3469, 3519, 3520, 3543, 3549, 3567, 3571, 3641, 3651, 3656, 3679, 3715, 3734, 3737, 3745, 3781, 3788, 3822, 3837, 3861, 3891, 3902, 3904, 3906, 3911, 3914, 3941, 3961, 3962, 3980, 3992, 4050, 4056, 4091, 4104, 4124, 4126, 4140, 4145, 4166, 4174, 4195, 4223, 4239, 4264, 4269, 4279, 4295, 4300, 4329, 4336, 4339, 4386, 4431, 4435, 4453, 4457, 4468, 4478, 4506, 4540, 4541, 4548, 4582, 4606, 4640, 4650, 4669, 4683, 4685, 4696, 4713, 4735, 4765, 4779, 4781, 4790, 4807, 4810, 4859, 4862, 4884, 4897, 4898, 4899, 4900, 4903, 4907, 4908, 4918, 4920, 4921, 4933, 4939, 4949, 4973, 4979, 5002, 5003, 5032, 5074, 5080, 5090, 5095, 5097, 5099, 5121, 5123, 5196, 5211, 5234, 5245, 5247, 5262, 5280, 5287, 5290, 5320, 5322, 5341, 5354, 5359, 5362, 5370, 5376, 5380, 5430, 5435, 5452, 5459, 5467, 5473, 5491, 5501, 5502, 5510, 5513, 5526, 5547, 5552, 5562, 5570, 5578, 5613, 5620, 5624, 5637, 5653, 5664, 5689, 5700, 5707, 5741, 5768, 5774, 5792, 5796, 5797, 5848, 5877, 5879, 5887, 5921, 5953, 5993, 6001, 6008, 6066, 6073, 6085, 6089, 6113, 6137, 6166, 6179, 6197, 6230, 6244, 6253, 6270, 6289, 6308, 6316, 6328, 6347, 6387, 6396, 6428, 6460, 6468, 6470, 6491, 6497, 6550, 6577, 6618, 6623, 6664, 6686, 6722, 6758, 6789, 6791, 6793, 6794, 6837, 6848, 6894, 6904, 6908, 6917, 6922, 6940, 6985, 6987, 6999, 7028, 7045, 7062, 7069, 7076, 7090, 7098, 7123, 7125, 7154, 7186, 7188, 7207, 7209, 7218, 7224, 7233, 7236, 7244, 7264, 7272, 7289, 7371, 7408, 7420, 7433, 7446, 7452, 7463, 7529, 7535, 7555, 7556, 7570, 7596, 7616, 7638, 7669, 7673, 7680, 7683, 7700, 7701, 7721, 7768, 7774, 7780, 7782, 7791, 7797, 7808, 7809, 7812, 7823, 7847, 7852, 7853, 7872, 7879, 7892, 7910, 7930, 7932, 7949, 7953, 7966, 7967, 8010, 8031]\n",
      "[9, 102, 180, 193, 292, 339, 349, 381, 460, 499, 526, 555, 589, 593, 630, 676, 746, 837, 847, 894, 897, 907, 926, 950, 954, 966, 971, 977, 987, 1097, 1264, 1332, 1357, 1360, 1369, 1417, 1436, 1474, 1486, 1586, 1604, 1680, 1751, 1763, 1823, 1834, 1841, 1846, 1862, 1879, 1892, 1918, 1957, 1960, 1985, 1996, 2026, 2034, 2053, 2120, 2254, 2255, 2263, 2292, 2307, 2313, 2325, 2327, 2360, 2364, 2472, 2529, 2536, 2694, 2710, 2809, 2928, 2998, 3020, 3073, 3095, 3157, 3214, 3254, 3256, 3268, 3287, 3343, 3433, 3492, 3497, 3544, 3596, 3606, 3615, 3648, 3649, 3652, 3658, 3695, 3706, 3709, 3736, 3746, 3747, 3801, 3806, 3829, 3839, 3907, 3953, 4029, 4038, 4080, 4099, 4115, 4188, 4251, 4263, 4284, 4391, 4403, 4419, 4492, 4536, 4616, 4671, 4674, 4688, 4709, 4761, 4767, 4778, 4794, 4864, 4868, 4879, 4911, 4935, 5024, 5033, 5063, 5165, 5175, 5298, 5299, 5378, 5429, 5489, 5567, 5614, 5630, 5632, 5675, 5701, 5729, 5772, 5847, 5860, 5968, 5998, 6017, 6082, 6118, 6201, 6215, 6226, 6247, 6291, 6339, 6342, 6346, 6380, 6440, 6450, 6457, 6466, 6481, 6486, 6553, 6602, 6639, 6660, 6676, 6713, 6734, 6739, 6804, 6819, 6829, 6843, 6888, 6901, 6927, 6949, 6962, 6989, 7068, 7214, 7239, 7306, 7349, 7353, 7367, 7387, 7388, 7394, 7411, 7424, 7461, 7476, 7507, 7557, 7590, 7635, 7650, 7659, 7667, 7712, 7738, 7818, 7885, 7893, 7904]\n",
      "[0, 11, 17, 61, 128, 182, 219, 315, 329, 330, 334, 364, 392, 477, 486, 551, 625, 671, 688, 766, 813, 822, 830, 867, 869, 883, 893, 912, 922, 1012, 1037, 1060, 1134, 1144, 1154, 1188, 1190, 1202, 1209, 1263, 1307, 1349, 1389, 1444, 1451, 1464, 1575, 1599, 1621, 1717, 1811, 1833, 1867, 1889, 1890, 1938, 2005, 2084, 2104, 2117, 2121, 2170, 2191, 2200, 2241, 2249, 2315, 2328, 2448, 2592, 2623, 2677, 2699, 2702, 2726, 2767, 2805, 2823, 2872, 2968, 3036, 3041, 3106, 3109, 3143, 3166, 3182, 3201, 3250, 3319, 3325, 3364, 3443, 3462, 3495, 3570, 3600, 3601, 3683, 3728, 3735, 3771, 3782, 3789, 3817, 3860, 3910, 3920, 3926, 3963, 3965, 4012, 4014, 4034, 4069, 4077, 4127, 4151, 4177, 4219, 4267, 4346, 4357, 4372, 4381, 4383, 4515, 4518, 4531, 4585, 4618, 4624, 4638, 4666, 4667, 4760, 4875, 4963, 4968, 4969, 4974, 4983, 5017, 5040, 5068, 5146, 5173, 5186, 5193, 5226, 5261, 5268, 5281, 5355, 5432, 5469, 5471, 5497, 5559, 5581, 5631, 5635, 5676, 5685, 5727, 5758, 5849, 5907, 5956, 5958, 6026, 6042, 6061, 6063, 6107, 6121, 6148, 6167, 6183, 6196, 6292, 6303, 6366, 6393, 6397, 6404, 6409, 6414, 6420, 6425, 6458, 6558, 6573, 6598, 6601, 6641, 6823, 6881, 6882, 6918, 6997, 7000, 7019, 7033, 7102, 7131, 7183, 7198, 7201, 7212, 7226, 7247, 7261, 7322, 7378, 7511, 7540, 7624, 7655, 7674, 7714, 7727, 7760, 7792, 7895, 7925, 7970, 7998, 8037]\n",
      "[37, 45, 84, 99, 101, 112, 121, 131, 160, 168, 213, 240, 241, 251, 258, 289, 300, 319, 324, 327, 333, 346, 377, 383, 463, 472, 482, 490, 500, 525, 561, 570, 571, 577, 590, 596, 619, 622, 628, 632, 653, 680, 681, 740, 751, 774, 791, 792, 795, 797, 817, 832, 842, 855, 858, 859, 865, 876, 904, 905, 914, 915, 925, 933, 943, 969, 1005, 1061, 1069, 1079, 1081, 1085, 1087, 1114, 1147, 1169, 1203, 1227, 1230, 1249, 1272, 1295, 1318, 1324, 1327, 1352, 1353, 1358, 1378, 1390, 1407, 1410, 1425, 1429, 1445, 1449, 1453, 1470, 1525, 1529, 1537, 1550, 1574, 1592, 1619, 1635, 1655, 1690, 1741, 1745, 1762, 1766, 1793, 1800, 1803, 1814, 1818, 1820, 1828, 1840, 1868, 1875, 1878, 1880, 1903, 1905, 1913, 1929, 1943, 1947, 1952, 1955, 1956, 1962, 1978, 2001, 2008, 2035, 2061, 2089, 2093, 2118, 2119, 2124, 2142, 2151, 2187, 2195, 2203, 2204, 2205, 2209, 2244, 2305, 2314, 2316, 2321, 2324, 2334, 2350, 2363, 2369, 2380, 2403, 2425, 2439, 2466, 2479, 2480, 2492, 2493, 2506, 2507, 2523, 2526, 2581, 2588, 2600, 2607, 2643, 2649, 2691, 2706, 2718, 2727, 2770, 2771, 2782, 2788, 2795, 2812, 2822, 2825, 2827, 2828, 2855, 2876, 2902, 2911, 2925, 2927, 2934, 2955, 2995, 3027, 3031, 3045, 3061, 3063, 3072, 3082, 3102, 3118, 3148, 3159, 3164, 3169, 3195, 3202, 3208, 3218, 3231, 3248, 3251, 3274, 3286, 3295, 3307, 3345, 3347, 3383, 3385, 3387, 3392, 3403, 3407, 3419, 3426, 3434, 3435, 3446, 3457, 3463, 3471, 3476, 3498, 3509, 3511, 3524, 3545, 3577, 3585, 3605, 3631, 3650, 3663, 3677, 3696, 3701, 3703, 3712, 3721, 3732, 3753, 3757, 3760, 3784, 3793, 3800, 3802, 3808, 3813, 3834, 3835, 3842, 3872, 3883, 3899, 3916, 3935, 3936, 3945, 3960, 3976, 3979, 3984, 3997, 3999, 4005, 4016, 4023, 4048, 4053, 4073, 4078, 4097, 4103, 4111, 4112, 4138, 4152, 4156, 4171, 4176, 4201, 4203, 4207, 4230, 4235, 4252, 4270, 4274, 4280, 4296, 4310, 4311, 4317, 4325, 4331, 4352, 4355, 4367, 4369, 4396, 4426, 4444, 4460, 4472, 4482, 4529, 4538, 4564, 4569, 4574, 4577, 4596, 4598, 4599, 4623, 4643, 4645, 4699, 4731, 4736, 4746, 4780, 4792, 4797, 4800, 4824, 4833, 4857, 4861, 4874, 4895, 4928, 4941, 4947, 4967, 4987, 4995, 5010, 5036, 5047, 5053, 5060, 5061, 5078, 5100, 5101, 5106, 5119, 5130, 5139, 5141, 5142, 5156, 5162, 5177, 5198, 5218, 5233, 5238, 5239, 5240, 5252, 5263, 5276, 5282, 5294, 5302, 5353, 5379, 5384, 5416, 5418, 5451, 5475, 5476, 5478, 5479, 5481, 5494, 5500, 5504, 5507, 5522, 5527, 5544, 5549, 5554, 5564, 5574, 5580, 5582, 5587, 5589, 5592, 5604, 5634, 5638, 5668, 5670, 5683, 5691, 5739, 5756, 5759, 5761, 5806, 5812, 5816, 5850, 5858, 5878, 5896, 5910, 5925, 5926, 5927, 5928, 5960, 5976, 6006, 6011, 6034, 6052, 6056, 6064, 6084, 6095, 6102, 6109, 6110, 6112, 6125, 6136, 6140, 6147, 6155, 6165, 6194, 6202, 6204, 6213, 6217, 6240, 6241, 6248, 6254, 6257, 6260, 6302, 6306, 6336, 6340, 6351, 6361, 6386, 6447, 6492, 6503, 6511, 6515, 6517, 6538, 6540, 6564, 6582, 6642, 6643, 6647, 6648, 6652, 6669, 6671, 6693, 6696, 6702, 6708, 6717, 6724, 6725, 6729, 6735, 6738, 6741, 6742, 6766, 6784, 6787, 6801, 6831, 6844, 6852, 6866, 6868, 6876, 6879, 6895, 6897, 6936, 6951, 6973, 6991, 7010, 7018, 7044, 7081, 7083, 7114, 7136, 7156, 7162, 7238, 7251, 7260, 7268, 7282, 7307, 7308, 7329, 7334, 7338, 7343, 7362, 7366, 7401, 7402, 7405, 7416, 7417, 7427, 7440, 7489, 7495, 7504, 7530, 7541, 7544, 7578, 7579, 7589, 7594, 7608, 7620, 7623, 7627, 7629, 7681, 7693, 7694, 7703, 7726, 7751, 7781, 7783, 7796, 7798, 7801, 7831, 7835, 7851, 7855, 7866, 7868, 7886, 7891, 7921, 7929, 7944, 7968, 7971, 7975, 7982, 8003, 8021, 8029, 8030]\n"
     ]
    }
   ],
   "source": [
    "group1 = []\n",
    "group2 = []\n",
    "group3 = []\n",
    "group4 = []\n",
    "group5 = []\n",
    "group6 = []\n",
    "group7 = []\n",
    "group8 = []\n",
    "group9 = []\n",
    "group10 = []\n",
    "group11 = []\n",
    "group12 = []\n",
    "group13 = []\n",
    "group14 = []\n",
    "group15 = []\n",
    "group16 = []\n",
    "group17 = []\n",
    "group18 = []\n",
    "group19 = []\n",
    "group20 = []\n",
    "\n",
    "for i in range(0, data_df.shape[0]):\n",
    "    if(data_df.at[i, 'labels']) == 0:\n",
    "        group1.append(i)\n",
    "    if(data_df.at[i, 'labels']) == 1:\n",
    "        group2.append(i)\n",
    "    if(data_df.at[i, 'labels']) == 2:\n",
    "        group3.append(i)\n",
    "    if(data_df.at[i, 'labels']) == 3:\n",
    "        group4.append(i)\n",
    "    if(data_df.at[i, 'labels']) == 4:\n",
    "        group5.append(i)\n",
    "    if(data_df.at[i, 'labels']) == 5:\n",
    "        group6.append(i)\n",
    "    if(data_df.at[i, 'labels']) == 6:\n",
    "        group7.append(i)\n",
    "    if(data_df.at[i, 'labels']) == 7:\n",
    "        group8.append(i)\n",
    "    if(data_df.at[i, 'labels']) == 8:\n",
    "        group9.append(i)\n",
    "    if(data_df.at[i, 'labels']) == 9:\n",
    "        group10.append(i)\n",
    "    if(data_df.at[i, 'labels']) == 10:\n",
    "        group11.append(i)\n",
    "    if(data_df.at[i, 'labels']) == 11:\n",
    "        group12.append(i)\n",
    "    if(data_df.at[i, 'labels']) == 12:\n",
    "        group13.append(i)\n",
    "    if(data_df.at[i, 'labels']) == 13:\n",
    "        group14.append(i)\n",
    "    if(data_df.at[i, 'labels']) == 14:\n",
    "        group15.append(i)\n",
    "    if(data_df.at[i, 'labels']) == 15:\n",
    "        group16.append(i)\n",
    "    if(data_df.at[i, 'labels']) == 16:\n",
    "        group17.append(i)\n",
    "    if(data_df.at[i, 'labels']) == 17:\n",
    "        group18.append(i)\n",
    "    if(data_df.at[i, 'labels']) == 18:\n",
    "        group19.append(i)\n",
    "    if(data_df.at[i, 'labels']) == 19:\n",
    "        group20.append(i)\n",
    "\n",
    "\n",
    "print(group1)\n",
    "print(group2)\n",
    "print(group3)\n",
    "print(group4)\n",
    "print(group5)\n",
    "print(group6)\n",
    "print(group7)\n",
    "print(group8)\n",
    "print(group9)\n",
    "print(group10)\n",
    "print(group11)\n",
    "print(group12)\n",
    "print(group13)\n",
    "print(group14)\n",
    "print(group15)\n",
    "print(group16)\n",
    "print(group17)\n",
    "print(group18)\n",
    "print(group19)\n",
    "print(group20)"
   ]
  },
  {
   "cell_type": "code",
   "execution_count": 41,
   "metadata": {
    "collapsed": false,
    "pycharm": {
     "name": "#%%\n"
    }
   },
   "outputs": [
    {
     "name": "stdout",
     "output_type": "stream",
     "text": [
      "      0    1    2    3    4    5    6    7    8    9    ...  924  925  926  \\\n",
      "0       4  NaN  NaN  NaN  NaN  NaN  NaN  NaN  NaN  NaN  ...  NaN  NaN  NaN   \n",
      "1      19  NaN  NaN  NaN  NaN  NaN  NaN  NaN  NaN  NaN  ...  NaN  NaN  NaN   \n",
      "2      24  NaN  NaN  NaN  NaN  NaN  NaN  NaN  NaN  NaN  ...  NaN  NaN  NaN   \n",
      "3      49  NaN  NaN  NaN  NaN  NaN  NaN  NaN  NaN  NaN  ...  NaN  NaN  NaN   \n",
      "4      56  NaN  NaN  NaN  NaN  NaN  NaN  NaN  NaN  NaN  ...  NaN  NaN  NaN   \n",
      "..    ...  ...  ...  ...  ...  ...  ...  ...  ...  ...  ...  ...  ...  ...   \n",
      "929  7994  NaN  NaN  NaN  NaN  NaN  NaN  NaN  NaN  NaN  ...  NaN  NaN  NaN   \n",
      "930  8006  NaN  NaN  NaN  NaN  NaN  NaN  NaN  NaN  NaN  ...  NaN  NaN  NaN   \n",
      "931  8007  NaN  NaN  NaN  NaN  NaN  NaN  NaN  NaN  NaN  ...  NaN  NaN  NaN   \n",
      "932  8008  NaN  NaN  NaN  NaN  NaN  NaN  NaN  NaN  NaN  ...  NaN  NaN  NaN   \n",
      "933  8011  NaN  NaN  NaN  NaN  NaN  NaN  NaN  NaN  NaN  ...  NaN  NaN  NaN   \n",
      "\n",
      "     927  928  929  930  931  932  933  \n",
      "0    NaN  NaN  NaN  NaN  NaN  NaN  NaN  \n",
      "1    NaN  NaN  NaN  NaN  NaN  NaN  NaN  \n",
      "2    NaN  NaN  NaN  NaN  NaN  NaN  NaN  \n",
      "3    NaN  NaN  NaN  NaN  NaN  NaN  NaN  \n",
      "4    NaN  NaN  NaN  NaN  NaN  NaN  NaN  \n",
      "..   ...  ...  ...  ...  ...  ...  ...  \n",
      "929  NaN  NaN  NaN  NaN  NaN  NaN  NaN  \n",
      "930  NaN  NaN  NaN  NaN  NaN  NaN  NaN  \n",
      "931  NaN  NaN  NaN  NaN  NaN  NaN  NaN  \n",
      "932  NaN  NaN  NaN  NaN  NaN  NaN  NaN  \n",
      "933  NaN  NaN  NaN  NaN  NaN  NaN  NaN  \n",
      "\n",
      "[934 rows x 934 columns]\n",
      "['Fantasy', 'War', 'Romance', 'Action', 'Sci-Fi', 'Musical', 'Thriller', 'Mystery', 'Comedy', '(no genres listed)', 'Crime', 'Film-Noir', 'Drama', 'Adventure', 'Horror', 'Western', 'Documentary', 'IMAX', 'Children']\n",
      "['Fantasy', 'Comedy', 'Adventure', 'Children']\n",
      "Fantasy\n",
      "0\n",
      "4.5\n",
      "Comedy\n",
      "8\n",
      "8.0\n",
      "Adventure\n",
      "13\n",
      "8.0\n",
      "Children\n",
      "18\n",
      "12.333333333333332\n",
      "3.083333333333333\n"
     ]
    }
   ],
   "source": [
    "group_1 = pd.DataFrame(index=range(len(group1)),columns=range(len(group1)))\n",
    "for i in range(0, group_1.shape[0]):\n",
    "    group_1.at[i, 0] = group1[i]\n",
    "\n",
    "print(group_1)\n",
    "\n",
    "movies_genres_df = pd.read_csv(data_folder + \"/genre.csv\")\n",
    "movies_genres_df = movies_genres_df.set_index('item')\n",
    "\n",
    "def prediction(movie_id, user_id, movies_genres_df, data_df):\n",
    "    genres = movies_genres_df.columns\n",
    "    genres = list(genres)\n",
    "    genres = genres[1:]\n",
    "    print(genres)\n",
    "    output = []\n",
    "    prediction = 0\n",
    "    for genre in genres:\n",
    "        if movies_genres_df.at[movie_id, genre] == True:\n",
    "            output.append(genre)\n",
    "    print(output)\n",
    "    for i in range(0, len(output)):\n",
    "        element = output[i]\n",
    "        print(element)\n",
    "        index = genres.index(element)\n",
    "        print(index)\n",
    "        prediction = prediction + data_df.iat[user_id, index]\n",
    "        print(prediction)\n",
    "\n",
    "    return prediction / len(output)\n",
    "\n",
    "test = prediction(1, 1, movies_genres_df, data_df)\n",
    "print(test)"
   ]
  },
  {
   "cell_type": "code",
   "execution_count": null,
   "metadata": {},
   "outputs": [],
   "source": [
    "#preparing movies\n",
    "movies = pd.read_csv(data_folder + \"/movie.csv\")\n",
    "movies_df = movies.rename(columns={'movieId': 'movie_id', 'title': 'title', 'genres': 'genres'})\n",
    "movies_df = movies_df[['movie_id', 'title', 'genres']]\n",
    "\n",
    "#preparing ratings\n",
    "ratings = pd.read_csv(data_folder + \"/rating.csv\")\n",
    "ratings_df = ratings.rename(columns={'userId': 'user_id', 'movieId': 'movie_id', 'rating': 'rating', 'timestamp': 'timestamp'})\n",
    "ratings_df = ratings_df[['user_id', 'movie_id', 'rating']]\n",
    "\n",
    "movies_df = movies_df.drop_duplicates(subset='title', keep='first')\n",
    "\n",
    "# Join the ratings to the genres\n",
    "ratings_genres_df = pd.merge(movies_df, ratings_df,  how='inner', left_on=['movie_id'], right_on = ['movie_id'])\n",
    "ratings_genres_df = ratings_genres_df[['movie_id', 'user_id', 'rating', 'title', 'genres']]\n"
   ]
  },
  {
   "cell_type": "code",
   "execution_count": 67,
   "metadata": {
    "collapsed": false,
    "pycharm": {
     "name": "#%% ONE GROUP RECOMMENDATION\n"
    }
   },
   "outputs": [
    {
     "data": {
      "text/plain": [
       "0        4\n",
       "1      NaN\n",
       "2      NaN\n",
       "3      NaN\n",
       "4      NaN\n",
       "      ... \n",
       "929    NaN\n",
       "930    NaN\n",
       "931    NaN\n",
       "932    NaN\n",
       "933    NaN\n",
       "Name: 0, Length: 934, dtype: object"
      ]
     },
     "metadata": {},
     "output_type": "display_data"
    },
    {
     "data": {
      "text/plain": [
       "0        4\n",
       "1      NaN\n",
       "2      NaN\n",
       "3      NaN\n",
       "4      NaN\n",
       "      ... \n",
       "929    NaN\n",
       "930    NaN\n",
       "931    NaN\n",
       "932    NaN\n",
       "933    NaN\n",
       "Name: 0, Length: 934, dtype: object"
      ]
     },
     "metadata": {},
     "output_type": "display_data"
    },
    {
     "data": {
      "text/plain": [
       "0                               4\n",
       "movie_id                      6.0\n",
       "user_id                       4.0\n",
       "rating                        3.0\n",
       "title                 Heat (1995)\n",
       "genres      Action|Crime|Thriller\n",
       "Name: 0, dtype: object"
      ]
     },
     "metadata": {},
     "output_type": "display_data"
    },
    {
     "name": "stdout",
     "output_type": "stream",
     "text": [
      "ball\n",
      "ball\n",
      "ball\n",
      "ball\n",
      "ball\n"
     ]
    },
    {
     "data": {
      "text/plain": [
       "0                                4\n",
       "movie_id                     350.0\n",
       "user_id                        4.0\n",
       "rating                         4.0\n",
       "title           Client, The (1994)\n",
       "genres      Drama|Mystery|Thriller\n",
       "Name: 6, dtype: object"
      ]
     },
     "metadata": {},
     "output_type": "display_data"
    },
    {
     "name": "stdout",
     "output_type": "stream",
     "text": [
      "ball\n",
      "ball\n",
      "ball\n"
     ]
    },
    {
     "data": {
      "text/plain": [
       "0                                                   4\n",
       "movie_id                                        370.0\n",
       "user_id                                           4.0\n",
       "rating                                            4.0\n",
       "title       Naked Gun 33 1/3: The Final Insult (1994)\n",
       "genres                                  Action|Comedy\n",
       "Name: 10, dtype: object"
      ]
     },
     "metadata": {},
     "output_type": "display_data"
    },
    {
     "name": "stdout",
     "output_type": "stream",
     "text": [
      "ball\n",
      "ball\n",
      "ball\n",
      "ball\n",
      "ball\n",
      "ball\n",
      "ball\n",
      "ball\n"
     ]
    },
    {
     "data": {
      "text/plain": [
       "0                                            4\n",
       "movie_id                                 519.0\n",
       "user_id                                    4.0\n",
       "rating                                     3.0\n",
       "title                         RoboCop 3 (1993)\n",
       "genres      Action|Crime|Drama|Sci-Fi|Thriller\n",
       "Name: 19, dtype: object"
      ]
     },
     "metadata": {},
     "output_type": "display_data"
    },
    {
     "name": "stdout",
     "output_type": "stream",
     "text": [
      "ball\n",
      "ball\n",
      "ball\n",
      "ball\n",
      "ball\n",
      "ball\n",
      "ball\n",
      "ball\n",
      "ball\n",
      "ball\n",
      "ball\n",
      "ball\n"
     ]
    },
    {
     "data": {
      "text/plain": [
       "0           NaN\n",
       "movie_id    NaN\n",
       "user_id     NaN\n",
       "rating      NaN\n",
       "title       NaN\n",
       "genres      NaN\n",
       "Name: 32, dtype: object"
      ]
     },
     "metadata": {},
     "output_type": "display_data"
    },
    {
     "name": "stdout",
     "output_type": "stream",
     "text": [
      "ball\n",
      "ball\n",
      "ball\n",
      "ball\n",
      "ball\n",
      "ball\n",
      "ball\n",
      "ball\n",
      "ball\n",
      "ball\n",
      "ball\n",
      "ball\n",
      "ball\n",
      "ball\n",
      "ball\n",
      "ball\n",
      "ball\n",
      "ball\n",
      "ball\n",
      "ball\n",
      "ball\n",
      "ball\n",
      "ball\n",
      "ball\n",
      "ball\n",
      "ball\n",
      "ball\n",
      "ball\n",
      "ball\n",
      "ball\n",
      "ball\n",
      "ball\n",
      "ball\n",
      "ball\n",
      "ball\n",
      "ball\n",
      "ball\n",
      "ball\n",
      "ball\n",
      "ball\n",
      "ball\n",
      "ball\n",
      "ball\n",
      "ball\n",
      "ball\n",
      "ball\n",
      "ball\n",
      "ball\n",
      "ball\n",
      "ball\n",
      "ball\n",
      "ball\n",
      "ball\n",
      "ball\n",
      "ball\n",
      "ball\n",
      "ball\n",
      "ball\n"
     ]
    },
    {
     "data": {
      "text/plain": [
       "0           NaN\n",
       "movie_id    NaN\n",
       "user_id     NaN\n",
       "rating      NaN\n",
       "title       NaN\n",
       "genres      NaN\n",
       "Name: 91, dtype: object"
      ]
     },
     "metadata": {},
     "output_type": "display_data"
    },
    {
     "name": "stdout",
     "output_type": "stream",
     "text": [
      "ball\n",
      "ball\n",
      "ball\n",
      "ball\n",
      "ball\n",
      "ball\n",
      "ball\n",
      "ball\n",
      "ball\n",
      "ball\n",
      "ball\n",
      "ball\n",
      "ball\n",
      "ball\n",
      "ball\n",
      "ball\n",
      "ball\n",
      "ball\n",
      "ball\n",
      "ball\n",
      "ball\n",
      "ball\n",
      "ball\n",
      "ball\n",
      "ball\n",
      "ball\n",
      "ball\n",
      "ball\n",
      "ball\n",
      "ball\n",
      "ball\n",
      "ball\n",
      "ball\n",
      "ball\n",
      "ball\n",
      "ball\n",
      "ball\n",
      "ball\n",
      "ball\n",
      "ball\n",
      "ball\n",
      "ball\n",
      "ball\n",
      "ball\n",
      "ball\n",
      "ball\n",
      "ball\n",
      "ball\n",
      "ball\n",
      "ball\n",
      "ball\n",
      "ball\n",
      "ball\n",
      "ball\n",
      "ball\n",
      "ball\n",
      "ball\n",
      "ball\n",
      "ball\n",
      "ball\n",
      "ball\n",
      "ball\n",
      "ball\n",
      "ball\n",
      "ball\n",
      "ball\n",
      "ball\n",
      "ball\n",
      "ball\n",
      "ball\n",
      "ball\n",
      "ball\n",
      "ball\n"
     ]
    },
    {
     "data": {
      "text/plain": [
       "0           NaN\n",
       "movie_id    NaN\n",
       "user_id     NaN\n",
       "rating      NaN\n",
       "title       NaN\n",
       "genres      NaN\n",
       "Name: 165, dtype: object"
      ]
     },
     "metadata": {},
     "output_type": "display_data"
    },
    {
     "name": "stdout",
     "output_type": "stream",
     "text": [
      "ball\n",
      "ball\n",
      "ball\n",
      "ball\n",
      "ball\n",
      "ball\n",
      "ball\n",
      "ball\n",
      "ball\n",
      "ball\n",
      "ball\n",
      "ball\n",
      "ball\n",
      "ball\n",
      "ball\n",
      "ball\n",
      "ball\n",
      "ball\n",
      "ball\n",
      "ball\n",
      "ball\n",
      "ball\n",
      "ball\n",
      "ball\n",
      "ball\n",
      "ball\n",
      "ball\n",
      "ball\n",
      "ball\n",
      "ball\n",
      "ball\n",
      "ball\n",
      "ball\n",
      "ball\n",
      "ball\n",
      "ball\n",
      "ball\n",
      "ball\n",
      "ball\n",
      "ball\n",
      "ball\n",
      "ball\n",
      "ball\n",
      "ball\n",
      "ball\n",
      "ball\n",
      "ball\n",
      "ball\n",
      "ball\n",
      "ball\n",
      "ball\n",
      "ball\n",
      "ball\n",
      "ball\n",
      "ball\n"
     ]
    },
    {
     "data": {
      "text/plain": [
       "0           NaN\n",
       "movie_id    NaN\n",
       "user_id     NaN\n",
       "rating      NaN\n",
       "title       NaN\n",
       "genres      NaN\n",
       "Name: 221, dtype: object"
      ]
     },
     "metadata": {},
     "output_type": "display_data"
    },
    {
     "name": "stdout",
     "output_type": "stream",
     "text": [
      "ball\n",
      "ball\n",
      "ball\n",
      "ball\n",
      "ball\n",
      "ball\n",
      "ball\n",
      "ball\n",
      "ball\n",
      "ball\n",
      "ball\n",
      "ball\n",
      "ball\n",
      "ball\n",
      "ball\n",
      "ball\n",
      "ball\n",
      "ball\n",
      "ball\n",
      "ball\n",
      "ball\n",
      "ball\n",
      "ball\n",
      "ball\n",
      "ball\n",
      "ball\n",
      "ball\n",
      "ball\n",
      "ball\n",
      "ball\n",
      "ball\n",
      "ball\n",
      "ball\n",
      "ball\n",
      "ball\n",
      "ball\n",
      "ball\n",
      "ball\n",
      "ball\n",
      "ball\n",
      "ball\n",
      "ball\n",
      "ball\n",
      "ball\n",
      "ball\n",
      "ball\n",
      "ball\n",
      "ball\n",
      "ball\n",
      "ball\n",
      "ball\n",
      "ball\n",
      "ball\n",
      "ball\n",
      "ball\n",
      "ball\n",
      "ball\n",
      "ball\n",
      "ball\n",
      "ball\n",
      "ball\n",
      "ball\n",
      "ball\n",
      "ball\n",
      "ball\n",
      "ball\n",
      "ball\n",
      "ball\n",
      "ball\n",
      "ball\n",
      "ball\n",
      "ball\n",
      "ball\n",
      "ball\n",
      "ball\n",
      "ball\n",
      "ball\n",
      "ball\n",
      "ball\n",
      "ball\n",
      "ball\n",
      "ball\n",
      "ball\n",
      "ball\n",
      "ball\n",
      "ball\n",
      "ball\n",
      "ball\n",
      "ball\n",
      "ball\n",
      "ball\n",
      "ball\n",
      "ball\n",
      "ball\n",
      "ball\n",
      "ball\n",
      "ball\n",
      "ball\n",
      "ball\n",
      "ball\n",
      "ball\n"
     ]
    },
    {
     "data": {
      "text/plain": [
       "0           NaN\n",
       "movie_id    NaN\n",
       "user_id     NaN\n",
       "rating      NaN\n",
       "title       NaN\n",
       "genres      NaN\n",
       "Name: 323, dtype: object"
      ]
     },
     "metadata": {},
     "output_type": "display_data"
    },
    {
     "name": "stdout",
     "output_type": "stream",
     "text": [
      "ball\n",
      "ball\n",
      "ball\n",
      "ball\n",
      "ball\n"
     ]
    },
    {
     "data": {
      "text/plain": [
       "0           NaN\n",
       "movie_id    NaN\n",
       "user_id     NaN\n",
       "rating      NaN\n",
       "title       NaN\n",
       "genres      NaN\n",
       "Name: 329, dtype: object"
      ]
     },
     "metadata": {},
     "output_type": "display_data"
    },
    {
     "name": "stdout",
     "output_type": "stream",
     "text": [
      "ball\n",
      "ball\n",
      "ball\n",
      "ball\n",
      "ball\n",
      "ball\n",
      "ball\n",
      "ball\n",
      "ball\n",
      "ball\n",
      "ball\n",
      "ball\n",
      "ball\n",
      "ball\n",
      "ball\n",
      "ball\n",
      "ball\n",
      "ball\n",
      "ball\n",
      "ball\n"
     ]
    },
    {
     "data": {
      "text/plain": [
       "0           NaN\n",
       "movie_id    NaN\n",
       "user_id     NaN\n",
       "rating      NaN\n",
       "title       NaN\n",
       "genres      NaN\n",
       "Name: 350, dtype: object"
      ]
     },
     "metadata": {},
     "output_type": "display_data"
    },
    {
     "name": "stdout",
     "output_type": "stream",
     "text": [
      "ball\n",
      "ball\n",
      "ball\n",
      "ball\n",
      "ball\n"
     ]
    },
    {
     "data": {
      "text/plain": [
       "0           NaN\n",
       "movie_id    NaN\n",
       "user_id     NaN\n",
       "rating      NaN\n",
       "title       NaN\n",
       "genres      NaN\n",
       "Name: 356, dtype: object"
      ]
     },
     "metadata": {},
     "output_type": "display_data"
    },
    {
     "name": "stdout",
     "output_type": "stream",
     "text": [
      "ball\n",
      "ball\n",
      "ball\n",
      "ball\n",
      "ball\n",
      "ball\n",
      "ball\n",
      "ball\n",
      "ball\n",
      "ball\n"
     ]
    },
    {
     "data": {
      "text/plain": [
       "0           NaN\n",
       "movie_id    NaN\n",
       "user_id     NaN\n",
       "rating      NaN\n",
       "title       NaN\n",
       "genres      NaN\n",
       "Name: 367, dtype: object"
      ]
     },
     "metadata": {},
     "output_type": "display_data"
    },
    {
     "data": {
      "text/plain": [
       "0           NaN\n",
       "movie_id    NaN\n",
       "user_id     NaN\n",
       "rating      NaN\n",
       "title       NaN\n",
       "genres      NaN\n",
       "Name: 368, dtype: object"
      ]
     },
     "metadata": {},
     "output_type": "display_data"
    },
    {
     "name": "stdout",
     "output_type": "stream",
     "text": [
      "ball\n"
     ]
    },
    {
     "data": {
      "text/plain": [
       "0           NaN\n",
       "movie_id    NaN\n",
       "user_id     NaN\n",
       "rating      NaN\n",
       "title       NaN\n",
       "genres      NaN\n",
       "Name: 370, dtype: object"
      ]
     },
     "metadata": {},
     "output_type": "display_data"
    },
    {
     "name": "stdout",
     "output_type": "stream",
     "text": [
      "ball\n",
      "ball\n",
      "ball\n",
      "ball\n",
      "ball\n",
      "ball\n"
     ]
    },
    {
     "data": {
      "text/plain": [
       "0           NaN\n",
       "movie_id    NaN\n",
       "user_id     NaN\n",
       "rating      NaN\n",
       "title       NaN\n",
       "genres      NaN\n",
       "Name: 377, dtype: object"
      ]
     },
     "metadata": {},
     "output_type": "display_data"
    },
    {
     "name": "stdout",
     "output_type": "stream",
     "text": [
      "ball\n",
      "ball\n"
     ]
    },
    {
     "data": {
      "text/plain": [
       "0           NaN\n",
       "movie_id    NaN\n",
       "user_id     NaN\n",
       "rating      NaN\n",
       "title       NaN\n",
       "genres      NaN\n",
       "Name: 380, dtype: object"
      ]
     },
     "metadata": {},
     "output_type": "display_data"
    },
    {
     "name": "stdout",
     "output_type": "stream",
     "text": [
      "ball\n",
      "ball\n",
      "ball\n",
      "ball\n",
      "ball\n",
      "ball\n",
      "ball\n",
      "ball\n",
      "ball\n",
      "ball\n",
      "ball\n",
      "ball\n",
      "ball\n",
      "ball\n",
      "ball\n",
      "ball\n",
      "ball\n",
      "ball\n",
      "ball\n",
      "ball\n",
      "ball\n",
      "ball\n",
      "ball\n",
      "ball\n",
      "ball\n",
      "ball\n",
      "ball\n",
      "ball\n",
      "ball\n",
      "ball\n",
      "ball\n",
      "ball\n",
      "ball\n",
      "ball\n",
      "ball\n",
      "ball\n",
      "ball\n",
      "ball\n",
      "ball\n"
     ]
    },
    {
     "data": {
      "text/plain": [
       "0           NaN\n",
       "movie_id    NaN\n",
       "user_id     NaN\n",
       "rating      NaN\n",
       "title       NaN\n",
       "genres      NaN\n",
       "Name: 420, dtype: object"
      ]
     },
     "metadata": {},
     "output_type": "display_data"
    },
    {
     "name": "stdout",
     "output_type": "stream",
     "text": [
      "ball\n",
      "ball\n",
      "ball\n",
      "ball\n",
      "ball\n",
      "ball\n",
      "ball\n",
      "ball\n",
      "ball\n",
      "ball\n"
     ]
    },
    {
     "data": {
      "text/plain": [
       "0           NaN\n",
       "movie_id    NaN\n",
       "user_id     NaN\n",
       "rating      NaN\n",
       "title       NaN\n",
       "genres      NaN\n",
       "Name: 431, dtype: object"
      ]
     },
     "metadata": {},
     "output_type": "display_data"
    },
    {
     "name": "stdout",
     "output_type": "stream",
     "text": [
      "ball\n",
      "ball\n",
      "ball\n",
      "ball\n",
      "ball\n",
      "ball\n",
      "ball\n",
      "ball\n"
     ]
    },
    {
     "data": {
      "text/plain": [
       "0           NaN\n",
       "movie_id    NaN\n",
       "user_id     NaN\n",
       "rating      NaN\n",
       "title       NaN\n",
       "genres      NaN\n",
       "Name: 440, dtype: object"
      ]
     },
     "metadata": {},
     "output_type": "display_data"
    },
    {
     "name": "stdout",
     "output_type": "stream",
     "text": [
      "ball\n",
      "ball\n",
      "ball\n",
      "ball\n",
      "ball\n",
      "ball\n",
      "ball\n",
      "ball\n",
      "ball\n",
      "ball\n",
      "ball\n",
      "ball\n",
      "ball\n"
     ]
    },
    {
     "data": {
      "text/plain": [
       "0           NaN\n",
       "movie_id    NaN\n",
       "user_id     NaN\n",
       "rating      NaN\n",
       "title       NaN\n",
       "genres      NaN\n",
       "Name: 454, dtype: object"
      ]
     },
     "metadata": {},
     "output_type": "display_data"
    },
    {
     "name": "stdout",
     "output_type": "stream",
     "text": [
      "ball\n",
      "ball\n",
      "ball\n",
      "ball\n",
      "ball\n",
      "ball\n",
      "ball\n",
      "ball\n",
      "ball\n",
      "ball\n",
      "ball\n",
      "ball\n",
      "ball\n",
      "ball\n",
      "ball\n",
      "ball\n",
      "ball\n",
      "ball\n",
      "ball\n",
      "ball\n",
      "ball\n",
      "ball\n",
      "ball\n",
      "ball\n",
      "ball\n"
     ]
    },
    {
     "data": {
      "text/plain": [
       "0           NaN\n",
       "movie_id    NaN\n",
       "user_id     NaN\n",
       "rating      NaN\n",
       "title       NaN\n",
       "genres      NaN\n",
       "Name: 480, dtype: object"
      ]
     },
     "metadata": {},
     "output_type": "display_data"
    },
    {
     "name": "stdout",
     "output_type": "stream",
     "text": [
      "ball\n",
      "ball\n",
      "ball\n",
      "ball\n",
      "ball\n",
      "ball\n",
      "ball\n",
      "ball\n"
     ]
    },
    {
     "data": {
      "text/plain": [
       "0           NaN\n",
       "movie_id    NaN\n",
       "user_id     NaN\n",
       "rating      NaN\n",
       "title       NaN\n",
       "genres      NaN\n",
       "Name: 489, dtype: object"
      ]
     },
     "metadata": {},
     "output_type": "display_data"
    },
    {
     "name": "stdout",
     "output_type": "stream",
     "text": [
      "ball\n",
      "ball\n",
      "ball\n",
      "ball\n",
      "ball\n",
      "ball\n",
      "ball\n",
      "ball\n",
      "ball\n",
      "ball\n",
      "ball\n",
      "ball\n",
      "ball\n",
      "ball\n",
      "ball\n",
      "ball\n",
      "ball\n",
      "ball\n",
      "ball\n",
      "ball\n",
      "ball\n",
      "ball\n",
      "ball\n",
      "ball\n",
      "ball\n",
      "ball\n",
      "ball\n",
      "ball\n",
      "ball\n"
     ]
    },
    {
     "data": {
      "text/plain": [
       "0           NaN\n",
       "movie_id    NaN\n",
       "user_id     NaN\n",
       "rating      NaN\n",
       "title       NaN\n",
       "genres      NaN\n",
       "Name: 519, dtype: object"
      ]
     },
     "metadata": {},
     "output_type": "display_data"
    },
    {
     "data": {
      "text/plain": [
       "0           NaN\n",
       "movie_id    NaN\n",
       "user_id     NaN\n",
       "rating      NaN\n",
       "title       NaN\n",
       "genres      NaN\n",
       "Name: 520, dtype: object"
      ]
     },
     "metadata": {},
     "output_type": "display_data"
    },
    {
     "name": "stdout",
     "output_type": "stream",
     "text": [
      "ball\n",
      "ball\n",
      "ball\n",
      "ball\n",
      "ball\n",
      "ball\n",
      "ball\n",
      "ball\n",
      "ball\n",
      "ball\n"
     ]
    },
    {
     "data": {
      "text/plain": [
       "0           NaN\n",
       "movie_id    NaN\n",
       "user_id     NaN\n",
       "rating      NaN\n",
       "title       NaN\n",
       "genres      NaN\n",
       "Name: 531, dtype: object"
      ]
     },
     "metadata": {},
     "output_type": "display_data"
    },
    {
     "name": "stdout",
     "output_type": "stream",
     "text": [
      "ball\n",
      "ball\n",
      "ball\n",
      "ball\n",
      "ball\n",
      "ball\n",
      "ball\n",
      "ball\n",
      "ball\n",
      "ball\n",
      "ball\n",
      "ball\n",
      "ball\n",
      "ball\n",
      "ball\n",
      "ball\n"
     ]
    },
    {
     "data": {
      "text/plain": [
       "0           NaN\n",
       "movie_id    NaN\n",
       "user_id     NaN\n",
       "rating      NaN\n",
       "title       NaN\n",
       "genres      NaN\n",
       "Name: 548, dtype: object"
      ]
     },
     "metadata": {},
     "output_type": "display_data"
    },
    {
     "name": "stdout",
     "output_type": "stream",
     "text": [
      "ball\n",
      "ball\n",
      "ball\n",
      "ball\n",
      "ball\n",
      "ball\n",
      "ball\n",
      "ball\n"
     ]
    },
    {
     "data": {
      "text/plain": [
       "0           NaN\n",
       "movie_id    NaN\n",
       "user_id     NaN\n",
       "rating      NaN\n",
       "title       NaN\n",
       "genres      NaN\n",
       "Name: 557, dtype: object"
      ]
     },
     "metadata": {},
     "output_type": "display_data"
    },
    {
     "name": "stdout",
     "output_type": "stream",
     "text": [
      "ball\n",
      "ball\n",
      "ball\n",
      "ball\n",
      "ball\n",
      "ball\n",
      "ball\n",
      "ball\n",
      "ball\n",
      "ball\n",
      "ball\n",
      "ball\n",
      "ball\n",
      "ball\n",
      "ball\n",
      "ball\n",
      "ball\n",
      "ball\n",
      "ball\n",
      "ball\n"
     ]
    },
    {
     "data": {
      "text/plain": [
       "0           NaN\n",
       "movie_id    NaN\n",
       "user_id     NaN\n",
       "rating      NaN\n",
       "title       NaN\n",
       "genres      NaN\n",
       "Name: 578, dtype: object"
      ]
     },
     "metadata": {},
     "output_type": "display_data"
    },
    {
     "name": "stdout",
     "output_type": "stream",
     "text": [
      "ball\n",
      "ball\n",
      "ball\n",
      "ball\n",
      "ball\n",
      "ball\n",
      "ball\n"
     ]
    },
    {
     "data": {
      "text/plain": [
       "0           NaN\n",
       "movie_id    NaN\n",
       "user_id     NaN\n",
       "rating      NaN\n",
       "title       NaN\n",
       "genres      NaN\n",
       "Name: 586, dtype: object"
      ]
     },
     "metadata": {},
     "output_type": "display_data"
    },
    {
     "name": "stdout",
     "output_type": "stream",
     "text": [
      "ball\n",
      "ball\n"
     ]
    },
    {
     "data": {
      "text/plain": [
       "0           NaN\n",
       "movie_id    NaN\n",
       "user_id     NaN\n",
       "rating      NaN\n",
       "title       NaN\n",
       "genres      NaN\n",
       "Name: 589, dtype: object"
      ]
     },
     "metadata": {},
     "output_type": "display_data"
    },
    {
     "name": "stdout",
     "output_type": "stream",
     "text": [
      "ball\n",
      "ball\n",
      "ball\n",
      "ball\n"
     ]
    },
    {
     "data": {
      "text/plain": [
       "0           NaN\n",
       "movie_id    NaN\n",
       "user_id     NaN\n",
       "rating      NaN\n",
       "title       NaN\n",
       "genres      NaN\n",
       "Name: 594, dtype: object"
      ]
     },
     "metadata": {},
     "output_type": "display_data"
    },
    {
     "name": "stdout",
     "output_type": "stream",
     "text": [
      "ball\n"
     ]
    },
    {
     "data": {
      "text/plain": [
       "0           NaN\n",
       "movie_id    NaN\n",
       "user_id     NaN\n",
       "rating      NaN\n",
       "title       NaN\n",
       "genres      NaN\n",
       "Name: 596, dtype: object"
      ]
     },
     "metadata": {},
     "output_type": "display_data"
    },
    {
     "name": "stdout",
     "output_type": "stream",
     "text": [
      "ball\n",
      "ball\n",
      "ball\n",
      "ball\n",
      "ball\n",
      "ball\n",
      "ball\n",
      "ball\n",
      "ball\n",
      "ball\n",
      "ball\n",
      "ball\n",
      "ball\n",
      "ball\n",
      "ball\n",
      "ball\n",
      "ball\n",
      "ball\n",
      "ball\n",
      "ball\n",
      "ball\n",
      "ball\n",
      "ball\n",
      "ball\n",
      "ball\n"
     ]
    },
    {
     "data": {
      "text/plain": [
       "0           NaN\n",
       "movie_id    NaN\n",
       "user_id     NaN\n",
       "rating      NaN\n",
       "title       NaN\n",
       "genres      NaN\n",
       "Name: 622, dtype: object"
      ]
     },
     "metadata": {},
     "output_type": "display_data"
    },
    {
     "name": "stdout",
     "output_type": "stream",
     "text": [
      "ball\n",
      "ball\n",
      "ball\n",
      "ball\n",
      "ball\n",
      "ball\n",
      "ball\n",
      "ball\n",
      "ball\n",
      "ball\n",
      "ball\n",
      "ball\n",
      "ball\n",
      "ball\n",
      "ball\n",
      "ball\n",
      "ball\n",
      "ball\n",
      "ball\n",
      "ball\n",
      "ball\n",
      "ball\n",
      "ball\n"
     ]
    },
    {
     "data": {
      "text/plain": [
       "0           NaN\n",
       "movie_id    NaN\n",
       "user_id     NaN\n",
       "rating      NaN\n",
       "title       NaN\n",
       "genres      NaN\n",
       "Name: 646, dtype: object"
      ]
     },
     "metadata": {},
     "output_type": "display_data"
    },
    {
     "name": "stdout",
     "output_type": "stream",
     "text": [
      "ball\n",
      "ball\n",
      "ball\n",
      "ball\n",
      "ball\n",
      "ball\n",
      "ball\n",
      "ball\n",
      "ball\n",
      "ball\n",
      "ball\n",
      "ball\n",
      "ball\n",
      "ball\n",
      "ball\n",
      "ball\n",
      "ball\n",
      "ball\n",
      "ball\n",
      "ball\n",
      "ball\n",
      "ball\n"
     ]
    },
    {
     "data": {
      "text/plain": [
       "0           NaN\n",
       "movie_id    NaN\n",
       "user_id     NaN\n",
       "rating      NaN\n",
       "title       NaN\n",
       "genres      NaN\n",
       "Name: 669, dtype: object"
      ]
     },
     "metadata": {},
     "output_type": "display_data"
    },
    {
     "name": "stdout",
     "output_type": "stream",
     "text": [
      "ball\n",
      "ball\n",
      "ball\n",
      "ball\n",
      "ball\n",
      "ball\n",
      "ball\n"
     ]
    },
    {
     "data": {
      "text/plain": [
       "0           NaN\n",
       "movie_id    NaN\n",
       "user_id     NaN\n",
       "rating      NaN\n",
       "title       NaN\n",
       "genres      NaN\n",
       "Name: 677, dtype: object"
      ]
     },
     "metadata": {},
     "output_type": "display_data"
    },
    {
     "name": "stdout",
     "output_type": "stream",
     "text": [
      "ball\n",
      "ball\n",
      "ball\n",
      "ball\n",
      "ball\n",
      "ball\n",
      "ball\n",
      "ball\n"
     ]
    },
    {
     "data": {
      "text/plain": [
       "0           NaN\n",
       "movie_id    NaN\n",
       "user_id     NaN\n",
       "rating      NaN\n",
       "title       NaN\n",
       "genres      NaN\n",
       "Name: 686, dtype: object"
      ]
     },
     "metadata": {},
     "output_type": "display_data"
    },
    {
     "name": "stdout",
     "output_type": "stream",
     "text": [
      "ball\n",
      "ball\n"
     ]
    },
    {
     "data": {
      "text/plain": [
       "0           NaN\n",
       "movie_id    NaN\n",
       "user_id     NaN\n",
       "rating      NaN\n",
       "title       NaN\n",
       "genres      NaN\n",
       "Name: 689, dtype: object"
      ]
     },
     "metadata": {},
     "output_type": "display_data"
    },
    {
     "name": "stdout",
     "output_type": "stream",
     "text": [
      "ball\n",
      "ball\n",
      "ball\n",
      "ball\n",
      "ball\n",
      "ball\n",
      "ball\n",
      "ball\n",
      "ball\n",
      "ball\n",
      "ball\n",
      "ball\n",
      "ball\n",
      "ball\n",
      "ball\n",
      "ball\n",
      "ball\n",
      "ball\n",
      "ball\n",
      "ball\n",
      "ball\n",
      "ball\n",
      "ball\n",
      "ball\n",
      "ball\n",
      "ball\n",
      "ball\n",
      "ball\n",
      "ball\n",
      "ball\n",
      "ball\n",
      "ball\n",
      "ball\n",
      "ball\n",
      "ball\n",
      "ball\n",
      "ball\n",
      "ball\n",
      "ball\n",
      "ball\n",
      "ball\n",
      "ball\n",
      "ball\n"
     ]
    },
    {
     "data": {
      "text/plain": [
       "0           NaN\n",
       "movie_id    NaN\n",
       "user_id     NaN\n",
       "rating      NaN\n",
       "title       NaN\n",
       "genres      NaN\n",
       "Name: 733, dtype: object"
      ]
     },
     "metadata": {},
     "output_type": "display_data"
    },
    {
     "name": "stdout",
     "output_type": "stream",
     "text": [
      "ball\n",
      "ball\n",
      "ball\n",
      "ball\n",
      "ball\n",
      "ball\n"
     ]
    },
    {
     "data": {
      "text/plain": [
       "0           NaN\n",
       "movie_id    NaN\n",
       "user_id     NaN\n",
       "rating      NaN\n",
       "title       NaN\n",
       "genres      NaN\n",
       "Name: 740, dtype: object"
      ]
     },
     "metadata": {},
     "output_type": "display_data"
    },
    {
     "name": "stdout",
     "output_type": "stream",
     "text": [
      "ball\n",
      "ball\n",
      "ball\n",
      "ball\n",
      "ball\n",
      "ball\n",
      "ball\n",
      "ball\n",
      "ball\n",
      "ball\n",
      "ball\n",
      "ball\n",
      "ball\n",
      "ball\n",
      "ball\n",
      "ball\n",
      "ball\n",
      "ball\n",
      "ball\n",
      "ball\n",
      "ball\n",
      "ball\n",
      "ball\n",
      "ball\n",
      "ball\n",
      "ball\n",
      "ball\n",
      "ball\n",
      "ball\n",
      "ball\n",
      "ball\n",
      "ball\n",
      "ball\n",
      "ball\n",
      "ball\n",
      "ball\n",
      "ball\n",
      "ball\n",
      "ball\n",
      "ball\n",
      "ball\n",
      "ball\n",
      "ball\n",
      "ball\n",
      "ball\n",
      "ball\n",
      "ball\n",
      "ball\n",
      "ball\n",
      "ball\n",
      "ball\n",
      "ball\n",
      "ball\n",
      "ball\n",
      "ball\n",
      "ball\n",
      "ball\n",
      "ball\n",
      "ball\n",
      "ball\n",
      "ball\n",
      "ball\n",
      "ball\n",
      "ball\n",
      "ball\n",
      "ball\n",
      "ball\n",
      "ball\n",
      "ball\n",
      "ball\n"
     ]
    },
    {
     "data": {
      "text/plain": [
       "0           NaN\n",
       "movie_id    NaN\n",
       "user_id     NaN\n",
       "rating      NaN\n",
       "title       NaN\n",
       "genres      NaN\n",
       "Name: 811, dtype: object"
      ]
     },
     "metadata": {},
     "output_type": "display_data"
    },
    {
     "name": "stdout",
     "output_type": "stream",
     "text": [
      "ball\n",
      "ball\n",
      "ball\n",
      "ball\n",
      "ball\n"
     ]
    },
    {
     "data": {
      "text/plain": [
       "0           NaN\n",
       "movie_id    NaN\n",
       "user_id     NaN\n",
       "rating      NaN\n",
       "title       NaN\n",
       "genres      NaN\n",
       "Name: 817, dtype: object"
      ]
     },
     "metadata": {},
     "output_type": "display_data"
    },
    {
     "name": "stdout",
     "output_type": "stream",
     "text": [
      "ball\n",
      "ball\n",
      "ball\n",
      "ball\n",
      "ball\n",
      "ball\n",
      "ball\n",
      "ball\n",
      "ball\n",
      "ball\n",
      "ball\n",
      "ball\n",
      "ball\n",
      "ball\n",
      "ball\n",
      "ball\n",
      "ball\n",
      "ball\n",
      "ball\n",
      "ball\n",
      "ball\n",
      "ball\n",
      "ball\n",
      "ball\n",
      "ball\n",
      "ball\n",
      "ball\n",
      "ball\n",
      "ball\n",
      "ball\n",
      "ball\n",
      "ball\n",
      "ball\n",
      "ball\n",
      "ball\n",
      "ball\n",
      "ball\n",
      "ball\n",
      "ball\n",
      "ball\n",
      "ball\n",
      "ball\n",
      "ball\n",
      "ball\n",
      "ball\n"
     ]
    },
    {
     "data": {
      "text/plain": [
       "0           NaN\n",
       "movie_id    NaN\n",
       "user_id     NaN\n",
       "rating      NaN\n",
       "title       NaN\n",
       "genres      NaN\n",
       "Name: 863, dtype: object"
      ]
     },
     "metadata": {},
     "output_type": "display_data"
    },
    {
     "name": "stdout",
     "output_type": "stream",
     "text": [
      "ball\n",
      "ball\n",
      "ball\n",
      "ball\n",
      "ball\n",
      "ball\n",
      "ball\n",
      "ball\n",
      "ball\n",
      "ball\n",
      "ball\n",
      "ball\n",
      "ball\n",
      "ball\n",
      "ball\n",
      "ball\n",
      "ball\n",
      "ball\n",
      "ball\n"
     ]
    },
    {
     "data": {
      "text/plain": [
       "0           NaN\n",
       "movie_id    NaN\n",
       "user_id     NaN\n",
       "rating      NaN\n",
       "title       NaN\n",
       "genres      NaN\n",
       "Name: 883, dtype: object"
      ]
     },
     "metadata": {},
     "output_type": "display_data"
    },
    {
     "name": "stdout",
     "output_type": "stream",
     "text": [
      "ball\n",
      "ball\n",
      "ball\n",
      "ball\n",
      "ball\n",
      "ball\n",
      "ball\n",
      "ball\n",
      "ball\n",
      "ball\n",
      "ball\n",
      "ball\n",
      "ball\n",
      "ball\n",
      "ball\n",
      "ball\n",
      "ball\n",
      "ball\n",
      "ball\n",
      "ball\n",
      "ball\n",
      "ball\n",
      "ball\n",
      "ball\n",
      "ball\n",
      "ball\n",
      "ball\n",
      "ball\n",
      "ball\n",
      "ball\n",
      "ball\n",
      "ball\n",
      "ball\n",
      "ball\n",
      "ball\n",
      "ball\n",
      "ball\n",
      "ball\n",
      "ball\n",
      "ball\n",
      "ball\n",
      "ball\n",
      "ball\n",
      "ball\n",
      "ball\n",
      "ball\n",
      "ball\n",
      "ball\n",
      "ball\n",
      "ball\n"
     ]
    },
    {
     "data": {
      "text/plain": [
       "0       19\n",
       "1      NaN\n",
       "2      NaN\n",
       "3      NaN\n",
       "4      NaN\n",
       "      ... \n",
       "929    NaN\n",
       "930    NaN\n",
       "931    NaN\n",
       "932    NaN\n",
       "933    NaN\n",
       "Name: 1, Length: 934, dtype: object"
      ]
     },
     "metadata": {},
     "output_type": "display_data"
    },
    {
     "data": {
      "text/plain": [
       "0       19\n",
       "1      NaN\n",
       "2      NaN\n",
       "3      NaN\n",
       "4      NaN\n",
       "      ... \n",
       "929    NaN\n",
       "930    NaN\n",
       "931    NaN\n",
       "932    NaN\n",
       "933    NaN\n",
       "Name: 1, Length: 934, dtype: object"
      ]
     },
     "metadata": {},
     "output_type": "display_data"
    },
    {
     "ename": "KeyError",
     "evalue": "0",
     "output_type": "error",
     "traceback": [
      "\u001b[1;31m---------------------------------------------------------------------------\u001b[0m",
      "\u001b[1;31mKeyError\u001b[0m                                  Traceback (most recent call last)",
      "Input \u001b[1;32mIn [67]\u001b[0m, in \u001b[0;36m<cell line: 20>\u001b[1;34m()\u001b[0m\n\u001b[0;32m     25\u001b[0m curr_user \u001b[38;5;241m=\u001b[39m curr_user\u001b[38;5;241m.\u001b[39mT\n\u001b[0;32m     27\u001b[0m display(curr_user)\n\u001b[1;32m---> 28\u001b[0m curr_seen_movies \u001b[38;5;241m=\u001b[39m \u001b[43mpd\u001b[49m\u001b[38;5;241;43m.\u001b[39;49m\u001b[43mmerge\u001b[49m\u001b[43m(\u001b[49m\u001b[43mcurr_user\u001b[49m\u001b[43m,\u001b[49m\u001b[43m \u001b[49m\u001b[43mratings_genres_df\u001b[49m\u001b[43m,\u001b[49m\u001b[43m \u001b[49m\u001b[43mhow\u001b[49m\u001b[38;5;241;43m=\u001b[39;49m\u001b[38;5;124;43m'\u001b[39;49m\u001b[38;5;124;43mleft\u001b[39;49m\u001b[38;5;124;43m'\u001b[39;49m\u001b[43m,\u001b[49m\u001b[43m \u001b[49m\u001b[43mleft_on\u001b[49m\u001b[38;5;241;43m=\u001b[39;49m\u001b[38;5;241;43m0\u001b[39;49m\u001b[43m,\u001b[49m\u001b[43m \u001b[49m\u001b[43mright_on\u001b[49m\u001b[38;5;241;43m=\u001b[39;49m\u001b[38;5;124;43m'\u001b[39;49m\u001b[38;5;124;43muser_id\u001b[39;49m\u001b[38;5;124;43m'\u001b[39;49m\u001b[43m)\u001b[49m\n\u001b[0;32m     29\u001b[0m curr_unseen_movies \u001b[38;5;241m=\u001b[39m \u001b[38;5;28mlist\u001b[39m(pd\u001b[38;5;241m.\u001b[39mconcat([movies_df\u001b[38;5;241m.\u001b[39mmovie_id, curr_seen_movies\u001b[38;5;241m.\u001b[39mmovie_id])\u001b[38;5;241m.\u001b[39mdrop_duplicates(keep\u001b[38;5;241m=\u001b[39m\u001b[38;5;28;01mFalse\u001b[39;00m))\n\u001b[0;32m     31\u001b[0m \u001b[38;5;28;01mfor\u001b[39;00m col \u001b[38;5;129;01min\u001b[39;00m \u001b[38;5;28mrange\u001b[39m(\u001b[38;5;241m0\u001b[39m,group_1\u001b[38;5;241m.\u001b[39mshape[\u001b[38;5;241m1\u001b[39m]) :\n",
      "File \u001b[1;32m~\\anaconda3\\envs\\Group Assignment\\lib\\site-packages\\pandas\\core\\reshape\\merge.py:107\u001b[0m, in \u001b[0;36mmerge\u001b[1;34m(left, right, how, on, left_on, right_on, left_index, right_index, sort, suffixes, copy, indicator, validate)\u001b[0m\n\u001b[0;32m     90\u001b[0m \u001b[38;5;129m@Substitution\u001b[39m(\u001b[38;5;124m\"\u001b[39m\u001b[38;5;130;01m\\n\u001b[39;00m\u001b[38;5;124mleft : DataFrame or named Series\u001b[39m\u001b[38;5;124m\"\u001b[39m)\n\u001b[0;32m     91\u001b[0m \u001b[38;5;129m@Appender\u001b[39m(_merge_doc, indents\u001b[38;5;241m=\u001b[39m\u001b[38;5;241m0\u001b[39m)\n\u001b[0;32m     92\u001b[0m \u001b[38;5;28;01mdef\u001b[39;00m \u001b[38;5;21mmerge\u001b[39m(\n\u001b[1;32m   (...)\u001b[0m\n\u001b[0;32m    105\u001b[0m     validate: \u001b[38;5;28mstr\u001b[39m \u001b[38;5;241m|\u001b[39m \u001b[38;5;28;01mNone\u001b[39;00m \u001b[38;5;241m=\u001b[39m \u001b[38;5;28;01mNone\u001b[39;00m,\n\u001b[0;32m    106\u001b[0m ) \u001b[38;5;241m-\u001b[39m\u001b[38;5;241m>\u001b[39m DataFrame:\n\u001b[1;32m--> 107\u001b[0m     op \u001b[38;5;241m=\u001b[39m \u001b[43m_MergeOperation\u001b[49m\u001b[43m(\u001b[49m\n\u001b[0;32m    108\u001b[0m \u001b[43m        \u001b[49m\u001b[43mleft\u001b[49m\u001b[43m,\u001b[49m\n\u001b[0;32m    109\u001b[0m \u001b[43m        \u001b[49m\u001b[43mright\u001b[49m\u001b[43m,\u001b[49m\n\u001b[0;32m    110\u001b[0m \u001b[43m        \u001b[49m\u001b[43mhow\u001b[49m\u001b[38;5;241;43m=\u001b[39;49m\u001b[43mhow\u001b[49m\u001b[43m,\u001b[49m\n\u001b[0;32m    111\u001b[0m \u001b[43m        \u001b[49m\u001b[43mon\u001b[49m\u001b[38;5;241;43m=\u001b[39;49m\u001b[43mon\u001b[49m\u001b[43m,\u001b[49m\n\u001b[0;32m    112\u001b[0m \u001b[43m        \u001b[49m\u001b[43mleft_on\u001b[49m\u001b[38;5;241;43m=\u001b[39;49m\u001b[43mleft_on\u001b[49m\u001b[43m,\u001b[49m\n\u001b[0;32m    113\u001b[0m \u001b[43m        \u001b[49m\u001b[43mright_on\u001b[49m\u001b[38;5;241;43m=\u001b[39;49m\u001b[43mright_on\u001b[49m\u001b[43m,\u001b[49m\n\u001b[0;32m    114\u001b[0m \u001b[43m        \u001b[49m\u001b[43mleft_index\u001b[49m\u001b[38;5;241;43m=\u001b[39;49m\u001b[43mleft_index\u001b[49m\u001b[43m,\u001b[49m\n\u001b[0;32m    115\u001b[0m \u001b[43m        \u001b[49m\u001b[43mright_index\u001b[49m\u001b[38;5;241;43m=\u001b[39;49m\u001b[43mright_index\u001b[49m\u001b[43m,\u001b[49m\n\u001b[0;32m    116\u001b[0m \u001b[43m        \u001b[49m\u001b[43msort\u001b[49m\u001b[38;5;241;43m=\u001b[39;49m\u001b[43msort\u001b[49m\u001b[43m,\u001b[49m\n\u001b[0;32m    117\u001b[0m \u001b[43m        \u001b[49m\u001b[43msuffixes\u001b[49m\u001b[38;5;241;43m=\u001b[39;49m\u001b[43msuffixes\u001b[49m\u001b[43m,\u001b[49m\n\u001b[0;32m    118\u001b[0m \u001b[43m        \u001b[49m\u001b[43mcopy\u001b[49m\u001b[38;5;241;43m=\u001b[39;49m\u001b[43mcopy\u001b[49m\u001b[43m,\u001b[49m\n\u001b[0;32m    119\u001b[0m \u001b[43m        \u001b[49m\u001b[43mindicator\u001b[49m\u001b[38;5;241;43m=\u001b[39;49m\u001b[43mindicator\u001b[49m\u001b[43m,\u001b[49m\n\u001b[0;32m    120\u001b[0m \u001b[43m        \u001b[49m\u001b[43mvalidate\u001b[49m\u001b[38;5;241;43m=\u001b[39;49m\u001b[43mvalidate\u001b[49m\u001b[43m,\u001b[49m\n\u001b[0;32m    121\u001b[0m \u001b[43m    \u001b[49m\u001b[43m)\u001b[49m\n\u001b[0;32m    122\u001b[0m     \u001b[38;5;28;01mreturn\u001b[39;00m op\u001b[38;5;241m.\u001b[39mget_result()\n",
      "File \u001b[1;32m~\\anaconda3\\envs\\Group Assignment\\lib\\site-packages\\pandas\\core\\reshape\\merge.py:700\u001b[0m, in \u001b[0;36m_MergeOperation.__init__\u001b[1;34m(self, left, right, how, on, left_on, right_on, axis, left_index, right_index, sort, suffixes, copy, indicator, validate)\u001b[0m\n\u001b[0;32m    693\u001b[0m \u001b[38;5;28mself\u001b[39m\u001b[38;5;241m.\u001b[39m_cross \u001b[38;5;241m=\u001b[39m cross_col\n\u001b[0;32m    695\u001b[0m \u001b[38;5;66;03m# note this function has side effects\u001b[39;00m\n\u001b[0;32m    696\u001b[0m (\n\u001b[0;32m    697\u001b[0m     \u001b[38;5;28mself\u001b[39m\u001b[38;5;241m.\u001b[39mleft_join_keys,\n\u001b[0;32m    698\u001b[0m     \u001b[38;5;28mself\u001b[39m\u001b[38;5;241m.\u001b[39mright_join_keys,\n\u001b[0;32m    699\u001b[0m     \u001b[38;5;28mself\u001b[39m\u001b[38;5;241m.\u001b[39mjoin_names,\n\u001b[1;32m--> 700\u001b[0m ) \u001b[38;5;241m=\u001b[39m \u001b[38;5;28;43mself\u001b[39;49m\u001b[38;5;241;43m.\u001b[39;49m\u001b[43m_get_merge_keys\u001b[49m\u001b[43m(\u001b[49m\u001b[43m)\u001b[49m\n\u001b[0;32m    702\u001b[0m \u001b[38;5;66;03m# validate the merge keys dtypes. We may need to coerce\u001b[39;00m\n\u001b[0;32m    703\u001b[0m \u001b[38;5;66;03m# to avoid incompatible dtypes\u001b[39;00m\n\u001b[0;32m    704\u001b[0m \u001b[38;5;28mself\u001b[39m\u001b[38;5;241m.\u001b[39m_maybe_coerce_merge_keys()\n",
      "File \u001b[1;32m~\\anaconda3\\envs\\Group Assignment\\lib\\site-packages\\pandas\\core\\reshape\\merge.py:1110\u001b[0m, in \u001b[0;36m_MergeOperation._get_merge_keys\u001b[1;34m(self)\u001b[0m\n\u001b[0;32m   1108\u001b[0m     right_keys\u001b[38;5;241m.\u001b[39mappend(rk)\n\u001b[0;32m   1109\u001b[0m \u001b[38;5;28;01mif\u001b[39;00m lk \u001b[38;5;129;01mis\u001b[39;00m \u001b[38;5;129;01mnot\u001b[39;00m \u001b[38;5;28;01mNone\u001b[39;00m:\n\u001b[1;32m-> 1110\u001b[0m     left_keys\u001b[38;5;241m.\u001b[39mappend(\u001b[43mleft\u001b[49m\u001b[38;5;241;43m.\u001b[39;49m\u001b[43m_get_label_or_level_values\u001b[49m\u001b[43m(\u001b[49m\u001b[43mlk\u001b[49m\u001b[43m)\u001b[49m)\n\u001b[0;32m   1111\u001b[0m     join_names\u001b[38;5;241m.\u001b[39mappend(lk)\n\u001b[0;32m   1112\u001b[0m \u001b[38;5;28;01melse\u001b[39;00m:\n\u001b[0;32m   1113\u001b[0m     \u001b[38;5;66;03m# work-around for merge_asof(left_index=True)\u001b[39;00m\n",
      "File \u001b[1;32m~\\anaconda3\\envs\\Group Assignment\\lib\\site-packages\\pandas\\core\\generic.py:1840\u001b[0m, in \u001b[0;36mNDFrame._get_label_or_level_values\u001b[1;34m(self, key, axis)\u001b[0m\n\u001b[0;32m   1838\u001b[0m     values \u001b[38;5;241m=\u001b[39m \u001b[38;5;28mself\u001b[39m\u001b[38;5;241m.\u001b[39maxes[axis]\u001b[38;5;241m.\u001b[39mget_level_values(key)\u001b[38;5;241m.\u001b[39m_values\n\u001b[0;32m   1839\u001b[0m \u001b[38;5;28;01melse\u001b[39;00m:\n\u001b[1;32m-> 1840\u001b[0m     \u001b[38;5;28;01mraise\u001b[39;00m \u001b[38;5;167;01mKeyError\u001b[39;00m(key)\n\u001b[0;32m   1842\u001b[0m \u001b[38;5;66;03m# Check for duplicates\u001b[39;00m\n\u001b[0;32m   1843\u001b[0m \u001b[38;5;28;01mif\u001b[39;00m values\u001b[38;5;241m.\u001b[39mndim \u001b[38;5;241m>\u001b[39m \u001b[38;5;241m1\u001b[39m:\n",
      "\u001b[1;31mKeyError\u001b[0m: 0"
     ]
    }
   ],
   "source": [
    "for i in range(0,group_1.shape[0]):\n",
    "    print(\"New user\")\n",
    "\n",
    "    u_id = 0\n",
    "    u_id = group_1.at[i, 'user_id']\n",
    "\n",
    "    curr_user = 0\n",
    "    curr_user = group_1.loc[i]\n",
    "    #display(curr_user)\n",
    "\n",
    "    #curr_seen_movies = pd.join(curr_user, ratings_genres_df, how='inner', left_on=['user_id'], right_on=['user_id'])\n",
    "    #display(ratings_genres_df)\n",
    "\n",
    "    #curr_seen_movies = ratings_genres_df.merge(curr_user, how = 'right', on = 'user_id')\n",
    "    curr_seen_movies = ratings_genres_df.loc[ratings_genres_df['user_id'] == u_id]\n",
    "\n",
    "    for col in range(1,group_1.shape[1]):\n",
    "\n",
    "        mov_id = 0\n",
    "        mov_id = group_1.columns[col]\n",
    "        #if not(mov_id in curr_seen_movies['movie_id']):\n",
    "        pred = prediction(mov_id, u_id, movies_genres_df, data_df)\n",
    "        group_1.at[i, group_1.columns[col]] = pred\n",
    "\n",
    "        #else:\n",
    "        #    mov_index = 0\n",
    "        #    mov_index_series = curr_seen_movies.loc['movie_id']\n",
    "        #    display(mov_index_series)\n",
    "        #    for j in range(0,mov_index_series.size):\n",
    "        #        if mov_index_series.at[j,'movie_id'] == mov_id:\n",
    "        #            mov_index = j\n",
    "        #            break\n",
    "\n",
    "        #   group_1.at[i, group_1.columns[col]] = curr_seen_movies.at[movie_index,'rating']\n",
    "\n",
    "display(group_1)\n"
   ]
  },
  {
   "cell_type": "code",
   "execution_count": null,
   "metadata": {
    "collapsed": false,
    "pycharm": {
     "name": "#%%\n"
    }
   },
   "outputs": [],
   "source": [
    "##aggregation strategy for a group(fairness):\n",
    "\n",
    "agg_group = group_1.join(expert_users.set_index('user'), on = 'user')\n",
    "agg_group = agg_group.sort_values(by = ['num_ratings'], ascending=False)\n",
    "\n",
    "rec_list = []\n",
    "for i in agg_group.index.size:\n",
    "    temp_mov_id = agg_group.at[index[i],columns[i]]\n",
    "    rec_list.append(movies_df.at[(temp_mov_id-1),'title'])\n",
    "\n",
    "print(rec_list)"
   ]
  },
  {
   "cell_type": "code",
   "execution_count": null,
   "metadata": {
    "collapsed": false,
    "pycharm": {
     "name": "#%%\n"
    }
   },
   "outputs": [],
   "source": []
  }
 ],
 "metadata": {
  "kernelspec": {
   "display_name": "Python 3",
   "language": "python",
   "name": "python3"
  },
  "language_info": {
   "codemirror_mode": {
    "name": "ipython",
    "version": 2
   },
   "file_extension": ".py",
   "mimetype": "text/x-python",
   "name": "python",
   "nbconvert_exporter": "python",
   "pygments_lexer": "ipython2",
   "version": "2.7.6"
  }
 },
 "nbformat": 4,
 "nbformat_minor": 0
}
