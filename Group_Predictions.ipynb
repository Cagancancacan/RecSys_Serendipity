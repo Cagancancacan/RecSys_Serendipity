{
 "cells": [
  {
   "cell_type": "code",
   "execution_count": 1,
   "metadata": {
    "collapsed": false,
    "pycharm": {
     "name": "#%% LOADING DATA AND CREATING DATAFRAMES\n"
    }
   },
   "outputs": [
    {
     "data": {
      "text/plain": "       movie_id                               title  \\\n0             1                    Toy Story (1995)   \n1             2                      Jumanji (1995)   \n2             3             Grumpier Old Men (1995)   \n3             4            Waiting to Exhale (1995)   \n4             5  Father of the Bride Part II (1995)   \n...         ...                                 ...   \n27273    131254        Kein Bund für's Leben (2007)   \n27274    131256       Feuer, Eis & Dosenbier (2002)   \n27275    131258                  The Pirates (2014)   \n27276    131260                 Rentun Ruusu (2001)   \n27277    131262                    Innocence (2014)   \n\n                                            genres  \n0      Adventure|Animation|Children|Comedy|Fantasy  \n1                       Adventure|Children|Fantasy  \n2                                   Comedy|Romance  \n3                             Comedy|Drama|Romance  \n4                                           Comedy  \n...                                            ...  \n27273                                       Comedy  \n27274                                       Comedy  \n27275                                    Adventure  \n27276                           (no genres listed)  \n27277                     Adventure|Fantasy|Horror  \n\n[27278 rows x 3 columns]",
      "text/html": "<div>\n<style scoped>\n    .dataframe tbody tr th:only-of-type {\n        vertical-align: middle;\n    }\n\n    .dataframe tbody tr th {\n        vertical-align: top;\n    }\n\n    .dataframe thead th {\n        text-align: right;\n    }\n</style>\n<table border=\"1\" class=\"dataframe\">\n  <thead>\n    <tr style=\"text-align: right;\">\n      <th></th>\n      <th>movie_id</th>\n      <th>title</th>\n      <th>genres</th>\n    </tr>\n  </thead>\n  <tbody>\n    <tr>\n      <th>0</th>\n      <td>1</td>\n      <td>Toy Story (1995)</td>\n      <td>Adventure|Animation|Children|Comedy|Fantasy</td>\n    </tr>\n    <tr>\n      <th>1</th>\n      <td>2</td>\n      <td>Jumanji (1995)</td>\n      <td>Adventure|Children|Fantasy</td>\n    </tr>\n    <tr>\n      <th>2</th>\n      <td>3</td>\n      <td>Grumpier Old Men (1995)</td>\n      <td>Comedy|Romance</td>\n    </tr>\n    <tr>\n      <th>3</th>\n      <td>4</td>\n      <td>Waiting to Exhale (1995)</td>\n      <td>Comedy|Drama|Romance</td>\n    </tr>\n    <tr>\n      <th>4</th>\n      <td>5</td>\n      <td>Father of the Bride Part II (1995)</td>\n      <td>Comedy</td>\n    </tr>\n    <tr>\n      <th>...</th>\n      <td>...</td>\n      <td>...</td>\n      <td>...</td>\n    </tr>\n    <tr>\n      <th>27273</th>\n      <td>131254</td>\n      <td>Kein Bund für's Leben (2007)</td>\n      <td>Comedy</td>\n    </tr>\n    <tr>\n      <th>27274</th>\n      <td>131256</td>\n      <td>Feuer, Eis &amp; Dosenbier (2002)</td>\n      <td>Comedy</td>\n    </tr>\n    <tr>\n      <th>27275</th>\n      <td>131258</td>\n      <td>The Pirates (2014)</td>\n      <td>Adventure</td>\n    </tr>\n    <tr>\n      <th>27276</th>\n      <td>131260</td>\n      <td>Rentun Ruusu (2001)</td>\n      <td>(no genres listed)</td>\n    </tr>\n    <tr>\n      <th>27277</th>\n      <td>131262</td>\n      <td>Innocence (2014)</td>\n      <td>Adventure|Fantasy|Horror</td>\n    </tr>\n  </tbody>\n</table>\n<p>27278 rows × 3 columns</p>\n</div>"
     },
     "metadata": {},
     "output_type": "display_data"
    },
    {
     "data": {
      "text/plain": "          user_id  movie_id  rating\n0               1         2     3.5\n1               1        29     3.5\n2               1        32     3.5\n3               1        47     3.5\n4               1        50     3.5\n...           ...       ...     ...\n20000258   138493     68954     4.5\n20000259   138493     69526     4.5\n20000260   138493     69644     3.0\n20000261   138493     70286     5.0\n20000262   138493     71619     2.5\n\n[20000263 rows x 3 columns]",
      "text/html": "<div>\n<style scoped>\n    .dataframe tbody tr th:only-of-type {\n        vertical-align: middle;\n    }\n\n    .dataframe tbody tr th {\n        vertical-align: top;\n    }\n\n    .dataframe thead th {\n        text-align: right;\n    }\n</style>\n<table border=\"1\" class=\"dataframe\">\n  <thead>\n    <tr style=\"text-align: right;\">\n      <th></th>\n      <th>user_id</th>\n      <th>movie_id</th>\n      <th>rating</th>\n    </tr>\n  </thead>\n  <tbody>\n    <tr>\n      <th>0</th>\n      <td>1</td>\n      <td>2</td>\n      <td>3.5</td>\n    </tr>\n    <tr>\n      <th>1</th>\n      <td>1</td>\n      <td>29</td>\n      <td>3.5</td>\n    </tr>\n    <tr>\n      <th>2</th>\n      <td>1</td>\n      <td>32</td>\n      <td>3.5</td>\n    </tr>\n    <tr>\n      <th>3</th>\n      <td>1</td>\n      <td>47</td>\n      <td>3.5</td>\n    </tr>\n    <tr>\n      <th>4</th>\n      <td>1</td>\n      <td>50</td>\n      <td>3.5</td>\n    </tr>\n    <tr>\n      <th>...</th>\n      <td>...</td>\n      <td>...</td>\n      <td>...</td>\n    </tr>\n    <tr>\n      <th>20000258</th>\n      <td>138493</td>\n      <td>68954</td>\n      <td>4.5</td>\n    </tr>\n    <tr>\n      <th>20000259</th>\n      <td>138493</td>\n      <td>69526</td>\n      <td>4.5</td>\n    </tr>\n    <tr>\n      <th>20000260</th>\n      <td>138493</td>\n      <td>69644</td>\n      <td>3.0</td>\n    </tr>\n    <tr>\n      <th>20000261</th>\n      <td>138493</td>\n      <td>70286</td>\n      <td>5.0</td>\n    </tr>\n    <tr>\n      <th>20000262</th>\n      <td>138493</td>\n      <td>71619</td>\n      <td>2.5</td>\n    </tr>\n  </tbody>\n</table>\n<p>20000263 rows × 3 columns</p>\n</div>"
     },
     "metadata": {},
     "output_type": "display_data"
    },
    {
     "data": {
      "text/plain": "          movie_id  tag_id           tag  relevance\n0                1       1           007    0.02500\n1                1       2  007 (series)    0.02500\n2                1       3  18th century    0.05775\n3                1       4         1920s    0.09675\n4                1       5         1930s    0.14675\n...            ...     ...           ...        ...\n11709763    131170    1124           NaN    0.58775\n11709764    131170    1125           NaN    0.01075\n11709765    131170    1126           NaN    0.01575\n11709766    131170    1127           NaN    0.11450\n11709767    131170    1128           NaN    0.02175\n\n[11709768 rows x 4 columns]",
      "text/html": "<div>\n<style scoped>\n    .dataframe tbody tr th:only-of-type {\n        vertical-align: middle;\n    }\n\n    .dataframe tbody tr th {\n        vertical-align: top;\n    }\n\n    .dataframe thead th {\n        text-align: right;\n    }\n</style>\n<table border=\"1\" class=\"dataframe\">\n  <thead>\n    <tr style=\"text-align: right;\">\n      <th></th>\n      <th>movie_id</th>\n      <th>tag_id</th>\n      <th>tag</th>\n      <th>relevance</th>\n    </tr>\n  </thead>\n  <tbody>\n    <tr>\n      <th>0</th>\n      <td>1</td>\n      <td>1</td>\n      <td>007</td>\n      <td>0.02500</td>\n    </tr>\n    <tr>\n      <th>1</th>\n      <td>1</td>\n      <td>2</td>\n      <td>007 (series)</td>\n      <td>0.02500</td>\n    </tr>\n    <tr>\n      <th>2</th>\n      <td>1</td>\n      <td>3</td>\n      <td>18th century</td>\n      <td>0.05775</td>\n    </tr>\n    <tr>\n      <th>3</th>\n      <td>1</td>\n      <td>4</td>\n      <td>1920s</td>\n      <td>0.09675</td>\n    </tr>\n    <tr>\n      <th>4</th>\n      <td>1</td>\n      <td>5</td>\n      <td>1930s</td>\n      <td>0.14675</td>\n    </tr>\n    <tr>\n      <th>...</th>\n      <td>...</td>\n      <td>...</td>\n      <td>...</td>\n      <td>...</td>\n    </tr>\n    <tr>\n      <th>11709763</th>\n      <td>131170</td>\n      <td>1124</td>\n      <td>NaN</td>\n      <td>0.58775</td>\n    </tr>\n    <tr>\n      <th>11709764</th>\n      <td>131170</td>\n      <td>1125</td>\n      <td>NaN</td>\n      <td>0.01075</td>\n    </tr>\n    <tr>\n      <th>11709765</th>\n      <td>131170</td>\n      <td>1126</td>\n      <td>NaN</td>\n      <td>0.01575</td>\n    </tr>\n    <tr>\n      <th>11709766</th>\n      <td>131170</td>\n      <td>1127</td>\n      <td>NaN</td>\n      <td>0.11450</td>\n    </tr>\n    <tr>\n      <th>11709767</th>\n      <td>131170</td>\n      <td>1128</td>\n      <td>NaN</td>\n      <td>0.02175</td>\n    </tr>\n  </tbody>\n</table>\n<p>11709768 rows × 4 columns</p>\n</div>"
     },
     "metadata": {},
     "output_type": "display_data"
    }
   ],
   "source": [
    "import pandas as pd\n",
    "import numpy as np\n",
    "from IPython.display import display\n",
    "\n",
    "#import original data folder\n",
    "data_folder = \"C:/Users/roman/OneDrive/Bureau/UM/BA/Y3/P1/RS/Group Assignment/archive\"\n",
    "\n",
    "#preparing movies\n",
    "movies = pd.read_csv(data_folder + \"/movie.csv\")\n",
    "movies_df = movies.rename(columns={'movieId': 'movie_id', 'title': 'title', 'genres': 'genres'})\n",
    "movies_df = movies_df[['movie_id', 'title', 'genres']]\n",
    "display(movies_df)\n",
    "\n",
    "#preparing ratings\n",
    "ratings = pd.read_csv(data_folder + \"/rating.csv\")\n",
    "ratings_df = ratings.rename(columns={'userId': 'user_id', 'movieId': 'movie_id', 'rating': 'rating', 'timestamp': 'timestamp'})\n",
    "ratings_df = ratings_df[['user_id', 'movie_id', 'rating']]\n",
    "display(ratings_df)\n",
    "\n",
    "#preparing movies_tags\n",
    "genome_tags = pd.read_csv(data_folder + \"/genome_tags.csv\")\n",
    "genome_tags_df = genome_tags.rename(columns={'tagId': 'tag_id', 'tag': 'tag'})\n",
    "movies_tags = pd.read_csv(data_folder + \"/genome_scores.csv\")\n",
    "movies_tags_df = movies_tags.rename(columns={'movieId': 'movie_id', 'tagId': 'tag_id', 'relevance': 'relevance'})\n",
    "\n",
    "movies_tags_df.insert(2, \"tag\", genome_tags_df[\"tag\"])\n",
    "display(movies_tags_df)\n"
   ]
  },
  {
   "cell_type": "code",
   "execution_count": 2,
   "metadata": {
    "collapsed": false,
    "pycharm": {
     "name": "#%% PREPARING DATAFRAMES FOR RATED GENRES AMOUNT CONDITION\n"
    }
   },
   "outputs": [
    {
     "data": {
      "text/plain": "                                               genres\nuser_id                                              \n1                             Horror|Mystery|Thriller\n1                              Comedy|Fantasy|Romance\n1                                     Horror|Thriller\n1                          Adventure|Children|Fantasy\n1                                        Drama|Sci-Fi\n...                                               ...\n138493   Adventure|Animation|Children|Fantasy|Musical\n138493                              Drama|Romance|War\n138493                               Action|Adventure\n138493                    Action|Comedy|Crime|Fantasy\n138493                           Comedy|Drama|Fantasy\n\n[19999685 rows x 1 columns]",
      "text/html": "<div>\n<style scoped>\n    .dataframe tbody tr th:only-of-type {\n        vertical-align: middle;\n    }\n\n    .dataframe tbody tr th {\n        vertical-align: top;\n    }\n\n    .dataframe thead th {\n        text-align: right;\n    }\n</style>\n<table border=\"1\" class=\"dataframe\">\n  <thead>\n    <tr style=\"text-align: right;\">\n      <th></th>\n      <th>genres</th>\n    </tr>\n    <tr>\n      <th>user_id</th>\n      <th></th>\n    </tr>\n  </thead>\n  <tbody>\n    <tr>\n      <th>1</th>\n      <td>Horror|Mystery|Thriller</td>\n    </tr>\n    <tr>\n      <th>1</th>\n      <td>Comedy|Fantasy|Romance</td>\n    </tr>\n    <tr>\n      <th>1</th>\n      <td>Horror|Thriller</td>\n    </tr>\n    <tr>\n      <th>1</th>\n      <td>Adventure|Children|Fantasy</td>\n    </tr>\n    <tr>\n      <th>1</th>\n      <td>Drama|Sci-Fi</td>\n    </tr>\n    <tr>\n      <th>...</th>\n      <td>...</td>\n    </tr>\n    <tr>\n      <th>138493</th>\n      <td>Adventure|Animation|Children|Fantasy|Musical</td>\n    </tr>\n    <tr>\n      <th>138493</th>\n      <td>Drama|Romance|War</td>\n    </tr>\n    <tr>\n      <th>138493</th>\n      <td>Action|Adventure</td>\n    </tr>\n    <tr>\n      <th>138493</th>\n      <td>Action|Comedy|Crime|Fantasy</td>\n    </tr>\n    <tr>\n      <th>138493</th>\n      <td>Comedy|Drama|Fantasy</td>\n    </tr>\n  </tbody>\n</table>\n<p>19999685 rows × 1 columns</p>\n</div>"
     },
     "metadata": {},
     "output_type": "display_data"
    },
    {
     "data": {
      "text/plain": "Empty DataFrame\nColumns: []\nIndex: [1, 2, 3, 4, 5, 6, 7, 8, 9, 10, 11, 12, 13, 14, 15, 16, 17, 18, 19, 20, 21, 22, 23, 24, 25, 26, 27, 28, 29, 30, 31, 32, 33, 34, 35, 36, 37, 38, 39, 40, 41, 42, 43, 44, 45, 46, 47, 48, 49, 50, 51, 52, 53, 54, 55, 56, 57, 58, 59, 60, 61, 62, 63, 64, 65, 66, 67, 68, 69, 70, 71, 72, 73, 74, 75, 76, 77, 78, 79, 80, 81, 82, 83, 84, 85, 86, 87, 88, 89, 90, 91, 92, 93, 94, 95, 96, 97, 98, 99, 100, ...]\n\n[138493 rows x 0 columns]",
      "text/html": "<div>\n<style scoped>\n    .dataframe tbody tr th:only-of-type {\n        vertical-align: middle;\n    }\n\n    .dataframe tbody tr th {\n        vertical-align: top;\n    }\n\n    .dataframe thead th {\n        text-align: right;\n    }\n</style>\n<table border=\"1\" class=\"dataframe\">\n  <thead>\n    <tr style=\"text-align: right;\">\n      <th></th>\n    </tr>\n    <tr>\n      <th>user_id</th>\n    </tr>\n  </thead>\n  <tbody>\n    <tr>\n      <th>1</th>\n    </tr>\n    <tr>\n      <th>2</th>\n    </tr>\n    <tr>\n      <th>3</th>\n    </tr>\n    <tr>\n      <th>4</th>\n    </tr>\n    <tr>\n      <th>5</th>\n    </tr>\n    <tr>\n      <th>...</th>\n    </tr>\n    <tr>\n      <th>138489</th>\n    </tr>\n    <tr>\n      <th>138490</th>\n    </tr>\n    <tr>\n      <th>138491</th>\n    </tr>\n    <tr>\n      <th>138492</th>\n    </tr>\n    <tr>\n      <th>138493</th>\n    </tr>\n  </tbody>\n</table>\n<p>138493 rows × 0 columns</p>\n</div>"
     },
     "metadata": {},
     "output_type": "display_data"
    }
   ],
   "source": [
    "movies_df = movies_df.drop_duplicates(subset='title', keep='first')\n",
    "\n",
    "#join ratings to genres\n",
    "ratings_genres_df = pd.merge(movies_df, ratings_df,  how='inner', left_on=['movie_id'], right_on = ['movie_id'])\n",
    "ratings_genres_df = ratings_genres_df[['movie_id', 'user_id', 'rating', 'title', 'genres']]\n",
    "\n",
    "#keep only users and genres\n",
    "users_genres = ratings_genres_df.loc[:, ['user_id', 'genres']]\n",
    "\n",
    "#new users only dataframe\n",
    "users_df = users_genres.drop_duplicates(subset=['user_id'], keep='first')\n",
    "users_df = users_df['user_id']\n",
    "users_df = pd.DataFrame(users_df)\n",
    "users_df = users_df.set_index('user_id')\n",
    "users_df = users_df.sort_index(ascending=True)\n",
    "\n",
    "users_genres = users_genres.set_index('user_id')\n",
    "users_genres = users_genres.sort_values(by=\"user_id\", ascending=True)\n",
    "\n",
    "display(users_genres)\n",
    "display(users_df)\n"
   ]
  },
  {
   "cell_type": "code",
   "execution_count": 3,
   "metadata": {
    "collapsed": false,
    "pycharm": {
     "name": "#%% COUNT RATED GENRES AMOUNT FOR EACH USER\n"
    }
   },
   "outputs": [],
   "source": [
    "def count_rated_genres(user_id, df):\n",
    "\n",
    "    users_genre = df.loc[user_id,:]\n",
    "    rated_genres = set()\n",
    "\n",
    "    for genre in users_genre.genres:\n",
    "        rated_genres.update(genre.split('|'))\n",
    "\n",
    "    return len(rated_genres)\n",
    "\n",
    "users_rated_genres = []\n",
    "for user in users_df.index:\n",
    "     users_rated_genres.append(count_rated_genres(user, users_genres))\n"
   ]
  },
  {
   "cell_type": "code",
   "execution_count": 4,
   "metadata": {
    "collapsed": false,
    "pycharm": {
     "name": "#%% REDUCING USERS WITH RATED GENRES AMOUNT ABOVE THRESHOLD (mean)\n"
    }
   },
   "outputs": [
    {
     "data": {
      "text/plain": "        user_id  rated_genres\n0             1            17\n1             2            18\n2             3            18\n3             4            15\n4             5            17\n...         ...           ...\n138488   138489            17\n138489   138490            18\n138490   138491            14\n138491   138492            17\n138492   138493            19\n\n[138493 rows x 2 columns]",
      "text/html": "<div>\n<style scoped>\n    .dataframe tbody tr th:only-of-type {\n        vertical-align: middle;\n    }\n\n    .dataframe tbody tr th {\n        vertical-align: top;\n    }\n\n    .dataframe thead th {\n        text-align: right;\n    }\n</style>\n<table border=\"1\" class=\"dataframe\">\n  <thead>\n    <tr style=\"text-align: right;\">\n      <th></th>\n      <th>user_id</th>\n      <th>rated_genres</th>\n    </tr>\n  </thead>\n  <tbody>\n    <tr>\n      <th>0</th>\n      <td>1</td>\n      <td>17</td>\n    </tr>\n    <tr>\n      <th>1</th>\n      <td>2</td>\n      <td>18</td>\n    </tr>\n    <tr>\n      <th>2</th>\n      <td>3</td>\n      <td>18</td>\n    </tr>\n    <tr>\n      <th>3</th>\n      <td>4</td>\n      <td>15</td>\n    </tr>\n    <tr>\n      <th>4</th>\n      <td>5</td>\n      <td>17</td>\n    </tr>\n    <tr>\n      <th>...</th>\n      <td>...</td>\n      <td>...</td>\n    </tr>\n    <tr>\n      <th>138488</th>\n      <td>138489</td>\n      <td>17</td>\n    </tr>\n    <tr>\n      <th>138489</th>\n      <td>138490</td>\n      <td>18</td>\n    </tr>\n    <tr>\n      <th>138490</th>\n      <td>138491</td>\n      <td>14</td>\n    </tr>\n    <tr>\n      <th>138491</th>\n      <td>138492</td>\n      <td>17</td>\n    </tr>\n    <tr>\n      <th>138492</th>\n      <td>138493</td>\n      <td>19</td>\n    </tr>\n  </tbody>\n</table>\n<p>138493 rows × 2 columns</p>\n</div>"
     },
     "metadata": {},
     "output_type": "display_data"
    },
    {
     "name": "stdout",
     "output_type": "stream",
     "text": [
      "16.379679839414266\n"
     ]
    },
    {
     "data": {
      "text/plain": "        user_id  rated_genres\n0             1            17\n1             2            18\n2             3            18\n4             5            17\n6             7            18\n...         ...           ...\n138486   138487            17\n138488   138489            17\n138489   138490            18\n138491   138492            17\n138492   138493            19\n\n[75952 rows x 2 columns]",
      "text/html": "<div>\n<style scoped>\n    .dataframe tbody tr th:only-of-type {\n        vertical-align: middle;\n    }\n\n    .dataframe tbody tr th {\n        vertical-align: top;\n    }\n\n    .dataframe thead th {\n        text-align: right;\n    }\n</style>\n<table border=\"1\" class=\"dataframe\">\n  <thead>\n    <tr style=\"text-align: right;\">\n      <th></th>\n      <th>user_id</th>\n      <th>rated_genres</th>\n    </tr>\n  </thead>\n  <tbody>\n    <tr>\n      <th>0</th>\n      <td>1</td>\n      <td>17</td>\n    </tr>\n    <tr>\n      <th>1</th>\n      <td>2</td>\n      <td>18</td>\n    </tr>\n    <tr>\n      <th>2</th>\n      <td>3</td>\n      <td>18</td>\n    </tr>\n    <tr>\n      <th>4</th>\n      <td>5</td>\n      <td>17</td>\n    </tr>\n    <tr>\n      <th>6</th>\n      <td>7</td>\n      <td>18</td>\n    </tr>\n    <tr>\n      <th>...</th>\n      <td>...</td>\n      <td>...</td>\n    </tr>\n    <tr>\n      <th>138486</th>\n      <td>138487</td>\n      <td>17</td>\n    </tr>\n    <tr>\n      <th>138488</th>\n      <td>138489</td>\n      <td>17</td>\n    </tr>\n    <tr>\n      <th>138489</th>\n      <td>138490</td>\n      <td>18</td>\n    </tr>\n    <tr>\n      <th>138491</th>\n      <td>138492</td>\n      <td>17</td>\n    </tr>\n    <tr>\n      <th>138492</th>\n      <td>138493</td>\n      <td>19</td>\n    </tr>\n  </tbody>\n</table>\n<p>75952 rows × 2 columns</p>\n</div>"
     },
     "metadata": {},
     "output_type": "display_data"
    }
   ],
   "source": [
    "users_rated_genres_df = pd.DataFrame({\n",
    "    'user_id' : users_df.index.tolist(),\n",
    "    'rated_genres' : users_rated_genres\n",
    "})\n",
    "\n",
    "display(users_rated_genres_df)\n",
    "\n",
    "\n",
    "mean_rated_genres = np.mean(users_rated_genres)\n",
    "print(mean_rated_genres)\n",
    "users_rated_genres_df = users_rated_genres_df[users_rated_genres_df['rated_genres'] > mean_rated_genres]\n",
    "\n",
    "display(users_rated_genres_df)\n"
   ]
  },
  {
   "cell_type": "code",
   "execution_count": 5,
   "metadata": {
    "collapsed": false,
    "pycharm": {
     "name": "#%% REDUCING USERS WITH RATINGS AMOUNT ABOVE THESHOLD (mean)\n"
    }
   },
   "outputs": [
    {
     "data": {
      "text/plain": "       user_id  num_ratings  rated_genres\n0            1          175            17\n1            3          187            18\n2            7          276            18\n3           11          504            19\n4           14          243            17\n...        ...          ...           ...\n35895   138483          276            19\n35896   138484          148            18\n35897   138486          193            18\n35898   138490          151            18\n35899   138493          373            19\n\n[35900 rows x 3 columns]",
      "text/html": "<div>\n<style scoped>\n    .dataframe tbody tr th:only-of-type {\n        vertical-align: middle;\n    }\n\n    .dataframe tbody tr th {\n        vertical-align: top;\n    }\n\n    .dataframe thead th {\n        text-align: right;\n    }\n</style>\n<table border=\"1\" class=\"dataframe\">\n  <thead>\n    <tr style=\"text-align: right;\">\n      <th></th>\n      <th>user_id</th>\n      <th>num_ratings</th>\n      <th>rated_genres</th>\n    </tr>\n  </thead>\n  <tbody>\n    <tr>\n      <th>0</th>\n      <td>1</td>\n      <td>175</td>\n      <td>17</td>\n    </tr>\n    <tr>\n      <th>1</th>\n      <td>3</td>\n      <td>187</td>\n      <td>18</td>\n    </tr>\n    <tr>\n      <th>2</th>\n      <td>7</td>\n      <td>276</td>\n      <td>18</td>\n    </tr>\n    <tr>\n      <th>3</th>\n      <td>11</td>\n      <td>504</td>\n      <td>19</td>\n    </tr>\n    <tr>\n      <th>4</th>\n      <td>14</td>\n      <td>243</td>\n      <td>17</td>\n    </tr>\n    <tr>\n      <th>...</th>\n      <td>...</td>\n      <td>...</td>\n      <td>...</td>\n    </tr>\n    <tr>\n      <th>35895</th>\n      <td>138483</td>\n      <td>276</td>\n      <td>19</td>\n    </tr>\n    <tr>\n      <th>35896</th>\n      <td>138484</td>\n      <td>148</td>\n      <td>18</td>\n    </tr>\n    <tr>\n      <th>35897</th>\n      <td>138486</td>\n      <td>193</td>\n      <td>18</td>\n    </tr>\n    <tr>\n      <th>35898</th>\n      <td>138490</td>\n      <td>151</td>\n      <td>18</td>\n    </tr>\n    <tr>\n      <th>35899</th>\n      <td>138493</td>\n      <td>373</td>\n      <td>19</td>\n    </tr>\n  </tbody>\n</table>\n<p>35900 rows × 3 columns</p>\n</div>"
     },
     "metadata": {},
     "output_type": "display_data"
    }
   ],
   "source": [
    "count_ratings = ratings_df.groupby(['user_id']).count()\n",
    "selected = count_ratings['rating'] > count_ratings['rating'].mean()\n",
    "expert_users = count_ratings.loc[selected]\n",
    "expert_users = pd.DataFrame(expert_users)\n",
    "expert_users = expert_users.reset_index()\n",
    "expert_users = expert_users.merge(users_rated_genres_df, how='inner', left_on='user_id', right_on='user_id')\n",
    "expert_users = expert_users.drop(['movie_id'], axis=1)\n",
    "expert_users.rename(columns={'rating' : 'num_ratings'}, inplace=True)\n",
    "\n",
    "display(expert_users)\n"
   ]
  },
  {
   "cell_type": "code",
   "execution_count": null,
   "outputs": [],
   "source": [
    "#users amount\n",
    "original_users_amount = 0\n",
    "for i in range(0, ratings_df.shape[0]):\n",
    "    if i != 0:\n",
    "        if ratings_df.user_id[i] != ratings_df.user_id[i-1]:\n",
    "            original_users_amount += 1\n",
    "    else:\n",
    "        original_users_amount += 1\n",
    "print(original_users_amount)\n",
    "reduced_users_amount = expert_users.shape[0]\n",
    "print(reduced_users_amount)\n",
    "\n",
    "#ratings amount\n",
    "original_ratings_amount = ratings_df.shape[0]\n",
    "print(original_ratings_amount)\n",
    "reduced_ratings_amount = 0\n",
    "for i in range(0, expert_users.shape[0]):\n",
    "    reduced_ratings_amount += expert_users.num_ratings[i]\n",
    "print(reduced_ratings_amount)\n"
   ],
   "metadata": {
    "collapsed": false,
    "pycharm": {
     "name": "#%% REDUCED DATASET STATISTICS (users amount & ratings amount)\n",
     "is_executing": true
    }
   }
  },
  {
   "cell_type": "code",
   "execution_count": null,
   "outputs": [],
   "source": [
    "#given user and movie --> predict rate\n",
    "#kNN with average grade for each genre given by user\n",
    "\n",
    "from sklearn.neighbors import KNeighborsRegressor\n",
    "\n",
    "kNN = KNeighborsRegressor(n_neighbors=5)\n",
    "\n",
    "#Load Data\n",
    "data_folder = \"C:/Users/roman/OneDrive/Bureau/UM/BA/Y3/P1/RS/Group Assignment/archive\"\n",
    "average_ratings_per_user_for_each_genre_df = pd.read_csv(data_folder + \"/data.csv\")\n",
    "data_df = average_ratings_per_user_for_each_genre_df.fillna(0)\n",
    "data_df = data_df.drop(8041)\n",
    "display(data_df)\n",
    "\n",
    "X = data_df.to_numpy()\n",
    "Y = ratings_df.to_numpy()\n",
    "\n",
    "kNN.fit(X, Y)\n",
    "\n",
    "print(kNN.predict())\n"
   ],
   "metadata": {
    "collapsed": false,
    "pycharm": {
     "name": "#%%\n",
     "is_executing": true
    }
   }
  }
 ],
 "metadata": {
  "kernelspec": {
   "display_name": "Python 3.9.7 ('base')",
   "language": "python",
   "name": "python3"
  },
  "language_info": {
   "codemirror_mode": {
    "name": "ipython",
    "version": 3
   },
   "file_extension": ".py",
   "mimetype": "text/x-python",
   "name": "python",
   "nbconvert_exporter": "python",
   "pygments_lexer": "ipython3",
   "version": "3.9.7"
  },
  "vscode": {
   "interpreter": {
    "hash": "a03785ac4c50267612fbe58bda14fd025fac1c5f9a7d8e8a15e8aa0a6dc56ba3"
   }
  }
 },
 "nbformat": 4,
 "nbformat_minor": 0
}