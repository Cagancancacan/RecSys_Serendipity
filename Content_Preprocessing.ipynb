{
 "cells": [
  {
   "cell_type": "code",
   "execution_count": null,
   "outputs": [],
   "source": [
    "from IPython.display import display\n",
    "import pandas as pd\n",
    "\n",
    "data_folder = \"./ml-20m\"\n",
    "\n",
    "ratings_df = pd.read_csv(data_folder + \"/ratings.csv\")\n",
    "movies_df = pd.read_csv(data_folder + \"/movies.csv\")\n",
    "\n",
    "ratings_df = ratings_df.rename(columns={'userId': 'user', 'movieId': 'item'})\n",
    "movies_df = movies_df.rename(columns={'movieId': 'item', 'title': 'title_original'})"
   ],
   "metadata": {
    "collapsed": false,
    "pycharm": {
     "name": "#%%\n"
    }
   }
  },
  {
   "cell_type": "code",
   "execution_count": null,
   "outputs": [],
   "source": [
    "def compute_title_year(row):\n",
    "    # read the title of the specified row, and cast it to the str type,\n",
    "    # then use the strip() method to eliminate the spaces from the beginning and the end of the string\n",
    "    title_original = str(row['title_original']).strip()\n",
    "\n",
    "    # select the substring from the fifth-to-last (included) character to the last (excluded)\n",
    "    year = title_original[-5:-1]\n",
    "\n",
    "    # use the isdigit method to determine if the substring selected is a number\n",
    "    if year.isdigit():\n",
    "        # remove the year from the title\n",
    "        # select the substring from the beninning to the sixth-to-last (excluded)\n",
    "        # then use the strip() method to remove spaces at the beginning and at the end of the string\n",
    "        # finally, use the lower() method to obtain the title in lower case\n",
    "        title = title_original[:-6].strip().lower()\n",
    "\n",
    "        # return the year and the title\n",
    "        return int(year), title\n",
    "    else:\n",
    "        # nothing to do, return 0 as year and the title\n",
    "        return 0, title_original.lower()\n",
    "\n",
    "\n",
    "movies_df[['year', 'title']] = movies_df.apply(compute_title_year, axis=1, result_type='expand')\n",
    "movies_df = movies_df[['item', 'title', 'year', 'genres']]\n",
    "display(movies_df)"
   ],
   "metadata": {
    "collapsed": false,
    "pycharm": {
     "name": "#%%\n"
    }
   }
  },
  {
   "cell_type": "code",
   "execution_count": null,
   "outputs": [],
   "source": [
    "movies_df = movies_df.drop_duplicates(subset='title', keep='first')\n",
    "\n",
    "# Join the ratings to the genres\n",
    "ratings_genres_df = pd.merge(movies_df, ratings_df,  how='inner', left_on=['item'], right_on = ['item'])\n",
    "ratings_genres_df = ratings_genres_df[['item', 'user', 'rating', 'title', 'genres']]\n",
    "\n",
    "# keep only the user and genres\n",
    "user_genres = ratings_genres_df.loc[:, ['user', 'genres']]\n",
    "\n",
    "# Create a user only dataframe\n",
    "user_df = user_genres.drop_duplicates(subset=['user'], keep='first')\n",
    "user_df = user_df['user']\n",
    "user_df = pd.DataFrame(user_df)\n",
    "user_df = user_df.set_index('user')\n",
    "user_df = user_df.sort_index(ascending=True)\n",
    "\n",
    "user_genres = user_genres.set_index('user')\n",
    "user_genres = user_genres.sort_values(by=\"user\", ascending=True)\n",
    "\n",
    "display(user_genres)\n",
    "display(user_df)\n",
    "display(ratings_df)"
   ],
   "metadata": {
    "collapsed": false,
    "pycharm": {
     "name": "#%%\n"
    }
   }
  },
  {
   "cell_type": "code",
   "execution_count": 4,
   "outputs": [],
   "source": [
    "import numpy as np\n",
    "\n",
    "def count_rated_genres(user_id, df):\n",
    "\n",
    "    user_genre = df.loc[user_id,:]\n",
    "    rated_genres = set()\n",
    "\n",
    "    for genre in user_genre.genres:\n",
    "        rated_genres.update(genre.split('|'))\n",
    "\n",
    "    return len(rated_genres)\n",
    "\n",
    "user_genres_rated = []\n",
    "for user in user_df.index:\n",
    "     user_genres_rated.append(count_rated_genres(user, user_genres))\n"
   ],
   "metadata": {
    "collapsed": false,
    "pycharm": {
     "name": "#%%\n"
    }
   }
  },
  {
   "cell_type": "code",
   "execution_count": 5,
   "outputs": [
    {
     "data": {
      "text/plain": "          user  genres_rated\n0            1            17\n1            2            18\n2            3            18\n3            4            15\n4            5            17\n...        ...           ...\n138488  138489            17\n138489  138490            18\n138490  138491            14\n138491  138492            17\n138492  138493            19\n\n[138493 rows x 2 columns]",
      "text/html": "<div>\n<style scoped>\n    .dataframe tbody tr th:only-of-type {\n        vertical-align: middle;\n    }\n\n    .dataframe tbody tr th {\n        vertical-align: top;\n    }\n\n    .dataframe thead th {\n        text-align: right;\n    }\n</style>\n<table border=\"1\" class=\"dataframe\">\n  <thead>\n    <tr style=\"text-align: right;\">\n      <th></th>\n      <th>user</th>\n      <th>genres_rated</th>\n    </tr>\n  </thead>\n  <tbody>\n    <tr>\n      <th>0</th>\n      <td>1</td>\n      <td>17</td>\n    </tr>\n    <tr>\n      <th>1</th>\n      <td>2</td>\n      <td>18</td>\n    </tr>\n    <tr>\n      <th>2</th>\n      <td>3</td>\n      <td>18</td>\n    </tr>\n    <tr>\n      <th>3</th>\n      <td>4</td>\n      <td>15</td>\n    </tr>\n    <tr>\n      <th>4</th>\n      <td>5</td>\n      <td>17</td>\n    </tr>\n    <tr>\n      <th>...</th>\n      <td>...</td>\n      <td>...</td>\n    </tr>\n    <tr>\n      <th>138488</th>\n      <td>138489</td>\n      <td>17</td>\n    </tr>\n    <tr>\n      <th>138489</th>\n      <td>138490</td>\n      <td>18</td>\n    </tr>\n    <tr>\n      <th>138490</th>\n      <td>138491</td>\n      <td>14</td>\n    </tr>\n    <tr>\n      <th>138491</th>\n      <td>138492</td>\n      <td>17</td>\n    </tr>\n    <tr>\n      <th>138492</th>\n      <td>138493</td>\n      <td>19</td>\n    </tr>\n  </tbody>\n</table>\n<p>138493 rows × 2 columns</p>\n</div>"
     },
     "metadata": {},
     "output_type": "display_data"
    },
    {
     "name": "stdout",
     "output_type": "stream",
     "text": [
      "16.360133725170225\n"
     ]
    },
    {
     "data": {
      "text/plain": "          user  genres_rated\n0            1            17\n1            2            18\n2            3            18\n4            5            17\n6            7            18\n...        ...           ...\n138486  138487            17\n138488  138489            17\n138489  138490            18\n138491  138492            17\n138492  138493            19\n\n[75487 rows x 2 columns]",
      "text/html": "<div>\n<style scoped>\n    .dataframe tbody tr th:only-of-type {\n        vertical-align: middle;\n    }\n\n    .dataframe tbody tr th {\n        vertical-align: top;\n    }\n\n    .dataframe thead th {\n        text-align: right;\n    }\n</style>\n<table border=\"1\" class=\"dataframe\">\n  <thead>\n    <tr style=\"text-align: right;\">\n      <th></th>\n      <th>user</th>\n      <th>genres_rated</th>\n    </tr>\n  </thead>\n  <tbody>\n    <tr>\n      <th>0</th>\n      <td>1</td>\n      <td>17</td>\n    </tr>\n    <tr>\n      <th>1</th>\n      <td>2</td>\n      <td>18</td>\n    </tr>\n    <tr>\n      <th>2</th>\n      <td>3</td>\n      <td>18</td>\n    </tr>\n    <tr>\n      <th>4</th>\n      <td>5</td>\n      <td>17</td>\n    </tr>\n    <tr>\n      <th>6</th>\n      <td>7</td>\n      <td>18</td>\n    </tr>\n    <tr>\n      <th>...</th>\n      <td>...</td>\n      <td>...</td>\n    </tr>\n    <tr>\n      <th>138486</th>\n      <td>138487</td>\n      <td>17</td>\n    </tr>\n    <tr>\n      <th>138488</th>\n      <td>138489</td>\n      <td>17</td>\n    </tr>\n    <tr>\n      <th>138489</th>\n      <td>138490</td>\n      <td>18</td>\n    </tr>\n    <tr>\n      <th>138491</th>\n      <td>138492</td>\n      <td>17</td>\n    </tr>\n    <tr>\n      <th>138492</th>\n      <td>138493</td>\n      <td>19</td>\n    </tr>\n  </tbody>\n</table>\n<p>75487 rows × 2 columns</p>\n</div>"
     },
     "metadata": {},
     "output_type": "display_data"
    }
   ],
   "source": [
    "user_genres_rated_df = pd.DataFrame({\n",
    "    'user' : user_df.index.tolist(),\n",
    "    'genres_rated' : user_genres_rated\n",
    "})\n",
    "\n",
    "display(user_genres_rated_df)\n",
    "\n",
    "mean_genres_rated = np.mean(user_genres_rated)\n",
    "print(mean_genres_rated)\n",
    "user_genres_rated_df = user_genres_rated_df[user_genres_rated_df['genres_rated'] > mean_genres_rated]\n",
    "\n",
    "display(user_genres_rated_df)"
   ],
   "metadata": {
    "collapsed": false,
    "pycharm": {
     "name": "#%%\n"
    }
   }
  },
  {
   "cell_type": "code",
   "execution_count": 6,
   "outputs": [
    {
     "data": {
      "text/plain": "         user  num_ratings  genres_rated\n0           1          175            17\n1           3          187            18\n2           7          276            18\n3          11          504            19\n4          14          243            17\n...       ...          ...           ...\n35870  138483          276            19\n35871  138484          148            18\n35872  138486          193            18\n35873  138490          151            18\n35874  138493          373            19\n\n[35875 rows x 3 columns]",
      "text/html": "<div>\n<style scoped>\n    .dataframe tbody tr th:only-of-type {\n        vertical-align: middle;\n    }\n\n    .dataframe tbody tr th {\n        vertical-align: top;\n    }\n\n    .dataframe thead th {\n        text-align: right;\n    }\n</style>\n<table border=\"1\" class=\"dataframe\">\n  <thead>\n    <tr style=\"text-align: right;\">\n      <th></th>\n      <th>user</th>\n      <th>num_ratings</th>\n      <th>genres_rated</th>\n    </tr>\n  </thead>\n  <tbody>\n    <tr>\n      <th>0</th>\n      <td>1</td>\n      <td>175</td>\n      <td>17</td>\n    </tr>\n    <tr>\n      <th>1</th>\n      <td>3</td>\n      <td>187</td>\n      <td>18</td>\n    </tr>\n    <tr>\n      <th>2</th>\n      <td>7</td>\n      <td>276</td>\n      <td>18</td>\n    </tr>\n    <tr>\n      <th>3</th>\n      <td>11</td>\n      <td>504</td>\n      <td>19</td>\n    </tr>\n    <tr>\n      <th>4</th>\n      <td>14</td>\n      <td>243</td>\n      <td>17</td>\n    </tr>\n    <tr>\n      <th>...</th>\n      <td>...</td>\n      <td>...</td>\n      <td>...</td>\n    </tr>\n    <tr>\n      <th>35870</th>\n      <td>138483</td>\n      <td>276</td>\n      <td>19</td>\n    </tr>\n    <tr>\n      <th>35871</th>\n      <td>138484</td>\n      <td>148</td>\n      <td>18</td>\n    </tr>\n    <tr>\n      <th>35872</th>\n      <td>138486</td>\n      <td>193</td>\n      <td>18</td>\n    </tr>\n    <tr>\n      <th>35873</th>\n      <td>138490</td>\n      <td>151</td>\n      <td>18</td>\n    </tr>\n    <tr>\n      <th>35874</th>\n      <td>138493</td>\n      <td>373</td>\n      <td>19</td>\n    </tr>\n  </tbody>\n</table>\n<p>35875 rows × 3 columns</p>\n</div>"
     },
     "metadata": {},
     "output_type": "display_data"
    }
   ],
   "source": [
    "count_ratings = ratings_df.groupby(['user']).count()\n",
    "selected = count_ratings['rating'] > count_ratings['rating'].mean()\n",
    "\n",
    "expert_users = count_ratings.loc[selected]\n",
    "expert_users = pd.DataFrame(expert_users)\n",
    "expert_users = expert_users.reset_index()\n",
    "expert_users = expert_users.merge(user_genres_rated_df, how='inner', left_on='user', right_on='user')\n",
    "expert_users = expert_users.drop(['timestamp', 'item'], axis=1)\n",
    "expert_users.rename(columns={'rating' : 'num_ratings'}, inplace=True)\n",
    "\n",
    "display(expert_users)"
   ],
   "metadata": {
    "collapsed": false,
    "pycharm": {
     "name": "#%%\n"
    }
   }
  },
  {
   "cell_type": "markdown",
   "source": [],
   "metadata": {
    "collapsed": false
   }
  },
  {
   "cell_type": "code",
   "execution_count": 8,
   "outputs": [],
   "source": [
    "\n",
    "genre_set = set()\n",
    "for genres in ratings_genres_df.genres:\n",
    "    genre_set.update(genres.split('|'))\n"
   ],
   "metadata": {
    "collapsed": false,
    "pycharm": {
     "name": "#%%\n"
    }
   }
  },
  {
   "cell_type": "code",
   "execution_count": 9,
   "outputs": [
    {
     "data": {
      "text/plain": "                                             genres  Animation  Fantasy  \\\nitem                                                                      \n1       Adventure|Animation|Children|Comedy|Fantasy      False    False   \n2                        Adventure|Children|Fantasy      False    False   \n3                                    Comedy|Romance      False    False   \n4                              Comedy|Drama|Romance      False    False   \n5                                            Comedy      False    False   \n...                                             ...        ...      ...   \n131252                                Comedy|Horror      False    False   \n131254                                       Comedy      False    False   \n131256                                       Comedy      False    False   \n131258                                    Adventure      False    False   \n131260                           (no genres listed)      False    False   \n\n          War  Romance  Action  Sci-Fi  Musical  Thriller  Mystery  ...  \\\nitem                                                                ...   \n1       False    False   False   False    False     False    False  ...   \n2       False    False   False   False    False     False    False  ...   \n3       False    False   False   False    False     False    False  ...   \n4       False    False   False   False    False     False    False  ...   \n5       False    False   False   False    False     False    False  ...   \n...       ...      ...     ...     ...      ...       ...      ...  ...   \n131252  False    False   False   False    False     False    False  ...   \n131254  False    False   False   False    False     False    False  ...   \n131256  False    False   False   False    False     False    False  ...   \n131258  False    False   False   False    False     False    False  ...   \n131260  False    False   False   False    False     False    False  ...   \n\n        (no genres listed)  Crime  Film-Noir  Drama  Adventure  Horror  \\\nitem                                                                     \n1                    False  False      False  False      False   False   \n2                    False  False      False  False      False   False   \n3                    False  False      False  False      False   False   \n4                    False  False      False  False      False   False   \n5                    False  False      False  False      False   False   \n...                    ...    ...        ...    ...        ...     ...   \n131252               False  False      False  False      False   False   \n131254               False  False      False  False      False   False   \n131256               False  False      False  False      False   False   \n131258               False  False      False  False      False   False   \n131260               False  False      False  False      False   False   \n\n        Western  Documentary   IMAX  Children  \nitem                                           \n1         False        False  False     False  \n2         False        False  False     False  \n3         False        False  False     False  \n4         False        False  False     False  \n5         False        False  False     False  \n...         ...          ...    ...       ...  \n131252    False        False  False     False  \n131254    False        False  False     False  \n131256    False        False  False     False  \n131258    False        False  False     False  \n131260    False        False  False     False  \n\n[25705 rows x 21 columns]",
      "text/html": "<div>\n<style scoped>\n    .dataframe tbody tr th:only-of-type {\n        vertical-align: middle;\n    }\n\n    .dataframe tbody tr th {\n        vertical-align: top;\n    }\n\n    .dataframe thead th {\n        text-align: right;\n    }\n</style>\n<table border=\"1\" class=\"dataframe\">\n  <thead>\n    <tr style=\"text-align: right;\">\n      <th></th>\n      <th>genres</th>\n      <th>Animation</th>\n      <th>Fantasy</th>\n      <th>War</th>\n      <th>Romance</th>\n      <th>Action</th>\n      <th>Sci-Fi</th>\n      <th>Musical</th>\n      <th>Thriller</th>\n      <th>Mystery</th>\n      <th>...</th>\n      <th>(no genres listed)</th>\n      <th>Crime</th>\n      <th>Film-Noir</th>\n      <th>Drama</th>\n      <th>Adventure</th>\n      <th>Horror</th>\n      <th>Western</th>\n      <th>Documentary</th>\n      <th>IMAX</th>\n      <th>Children</th>\n    </tr>\n    <tr>\n      <th>item</th>\n      <th></th>\n      <th></th>\n      <th></th>\n      <th></th>\n      <th></th>\n      <th></th>\n      <th></th>\n      <th></th>\n      <th></th>\n      <th></th>\n      <th></th>\n      <th></th>\n      <th></th>\n      <th></th>\n      <th></th>\n      <th></th>\n      <th></th>\n      <th></th>\n      <th></th>\n      <th></th>\n      <th></th>\n    </tr>\n  </thead>\n  <tbody>\n    <tr>\n      <th>1</th>\n      <td>Adventure|Animation|Children|Comedy|Fantasy</td>\n      <td>False</td>\n      <td>False</td>\n      <td>False</td>\n      <td>False</td>\n      <td>False</td>\n      <td>False</td>\n      <td>False</td>\n      <td>False</td>\n      <td>False</td>\n      <td>...</td>\n      <td>False</td>\n      <td>False</td>\n      <td>False</td>\n      <td>False</td>\n      <td>False</td>\n      <td>False</td>\n      <td>False</td>\n      <td>False</td>\n      <td>False</td>\n      <td>False</td>\n    </tr>\n    <tr>\n      <th>2</th>\n      <td>Adventure|Children|Fantasy</td>\n      <td>False</td>\n      <td>False</td>\n      <td>False</td>\n      <td>False</td>\n      <td>False</td>\n      <td>False</td>\n      <td>False</td>\n      <td>False</td>\n      <td>False</td>\n      <td>...</td>\n      <td>False</td>\n      <td>False</td>\n      <td>False</td>\n      <td>False</td>\n      <td>False</td>\n      <td>False</td>\n      <td>False</td>\n      <td>False</td>\n      <td>False</td>\n      <td>False</td>\n    </tr>\n    <tr>\n      <th>3</th>\n      <td>Comedy|Romance</td>\n      <td>False</td>\n      <td>False</td>\n      <td>False</td>\n      <td>False</td>\n      <td>False</td>\n      <td>False</td>\n      <td>False</td>\n      <td>False</td>\n      <td>False</td>\n      <td>...</td>\n      <td>False</td>\n      <td>False</td>\n      <td>False</td>\n      <td>False</td>\n      <td>False</td>\n      <td>False</td>\n      <td>False</td>\n      <td>False</td>\n      <td>False</td>\n      <td>False</td>\n    </tr>\n    <tr>\n      <th>4</th>\n      <td>Comedy|Drama|Romance</td>\n      <td>False</td>\n      <td>False</td>\n      <td>False</td>\n      <td>False</td>\n      <td>False</td>\n      <td>False</td>\n      <td>False</td>\n      <td>False</td>\n      <td>False</td>\n      <td>...</td>\n      <td>False</td>\n      <td>False</td>\n      <td>False</td>\n      <td>False</td>\n      <td>False</td>\n      <td>False</td>\n      <td>False</td>\n      <td>False</td>\n      <td>False</td>\n      <td>False</td>\n    </tr>\n    <tr>\n      <th>5</th>\n      <td>Comedy</td>\n      <td>False</td>\n      <td>False</td>\n      <td>False</td>\n      <td>False</td>\n      <td>False</td>\n      <td>False</td>\n      <td>False</td>\n      <td>False</td>\n      <td>False</td>\n      <td>...</td>\n      <td>False</td>\n      <td>False</td>\n      <td>False</td>\n      <td>False</td>\n      <td>False</td>\n      <td>False</td>\n      <td>False</td>\n      <td>False</td>\n      <td>False</td>\n      <td>False</td>\n    </tr>\n    <tr>\n      <th>...</th>\n      <td>...</td>\n      <td>...</td>\n      <td>...</td>\n      <td>...</td>\n      <td>...</td>\n      <td>...</td>\n      <td>...</td>\n      <td>...</td>\n      <td>...</td>\n      <td>...</td>\n      <td>...</td>\n      <td>...</td>\n      <td>...</td>\n      <td>...</td>\n      <td>...</td>\n      <td>...</td>\n      <td>...</td>\n      <td>...</td>\n      <td>...</td>\n      <td>...</td>\n      <td>...</td>\n    </tr>\n    <tr>\n      <th>131252</th>\n      <td>Comedy|Horror</td>\n      <td>False</td>\n      <td>False</td>\n      <td>False</td>\n      <td>False</td>\n      <td>False</td>\n      <td>False</td>\n      <td>False</td>\n      <td>False</td>\n      <td>False</td>\n      <td>...</td>\n      <td>False</td>\n      <td>False</td>\n      <td>False</td>\n      <td>False</td>\n      <td>False</td>\n      <td>False</td>\n      <td>False</td>\n      <td>False</td>\n      <td>False</td>\n      <td>False</td>\n    </tr>\n    <tr>\n      <th>131254</th>\n      <td>Comedy</td>\n      <td>False</td>\n      <td>False</td>\n      <td>False</td>\n      <td>False</td>\n      <td>False</td>\n      <td>False</td>\n      <td>False</td>\n      <td>False</td>\n      <td>False</td>\n      <td>...</td>\n      <td>False</td>\n      <td>False</td>\n      <td>False</td>\n      <td>False</td>\n      <td>False</td>\n      <td>False</td>\n      <td>False</td>\n      <td>False</td>\n      <td>False</td>\n      <td>False</td>\n    </tr>\n    <tr>\n      <th>131256</th>\n      <td>Comedy</td>\n      <td>False</td>\n      <td>False</td>\n      <td>False</td>\n      <td>False</td>\n      <td>False</td>\n      <td>False</td>\n      <td>False</td>\n      <td>False</td>\n      <td>False</td>\n      <td>...</td>\n      <td>False</td>\n      <td>False</td>\n      <td>False</td>\n      <td>False</td>\n      <td>False</td>\n      <td>False</td>\n      <td>False</td>\n      <td>False</td>\n      <td>False</td>\n      <td>False</td>\n    </tr>\n    <tr>\n      <th>131258</th>\n      <td>Adventure</td>\n      <td>False</td>\n      <td>False</td>\n      <td>False</td>\n      <td>False</td>\n      <td>False</td>\n      <td>False</td>\n      <td>False</td>\n      <td>False</td>\n      <td>False</td>\n      <td>...</td>\n      <td>False</td>\n      <td>False</td>\n      <td>False</td>\n      <td>False</td>\n      <td>False</td>\n      <td>False</td>\n      <td>False</td>\n      <td>False</td>\n      <td>False</td>\n      <td>False</td>\n    </tr>\n    <tr>\n      <th>131260</th>\n      <td>(no genres listed)</td>\n      <td>False</td>\n      <td>False</td>\n      <td>False</td>\n      <td>False</td>\n      <td>False</td>\n      <td>False</td>\n      <td>False</td>\n      <td>False</td>\n      <td>False</td>\n      <td>...</td>\n      <td>False</td>\n      <td>False</td>\n      <td>False</td>\n      <td>False</td>\n      <td>False</td>\n      <td>False</td>\n      <td>False</td>\n      <td>False</td>\n      <td>False</td>\n      <td>False</td>\n    </tr>\n  </tbody>\n</table>\n<p>25705 rows × 21 columns</p>\n</div>"
     },
     "metadata": {},
     "output_type": "display_data"
    }
   ],
   "source": [
    "genre_df = ratings_genres_df[['item', 'genres']]\n",
    "genre_df = pd.DataFrame(genre_df)\n",
    "\n",
    "i = 2\n",
    "for genre in genre_set:\n",
    "    genre_df.insert(i, genre, False)\n",
    "    i += 1\n",
    "\n",
    "genre_df = genre_df.drop_duplicates(subset='item', keep='first')\n",
    "genre_df = genre_df.set_index('item')\n",
    "\n",
    "display(genre_df)"
   ],
   "metadata": {
    "collapsed": false,
    "pycharm": {
     "name": "#%%\n"
    }
   }
  },
  {
   "cell_type": "code",
   "execution_count": 10,
   "outputs": [
    {
     "data": {
      "text/plain": "         item  Animation  Fantasy    War  Romance  Action  Sci-Fi  Musical  \\\n0           1       True     True  False    False   False   False    False   \n1           2      False     True  False    False   False   False    False   \n2           3      False    False  False     True   False   False    False   \n3           4      False    False  False     True   False   False    False   \n4           5      False    False  False    False   False   False    False   \n...       ...        ...      ...    ...      ...     ...     ...      ...   \n25700  131252      False    False  False    False   False   False    False   \n25701  131254      False    False  False    False   False   False    False   \n25702  131256      False    False  False    False   False   False    False   \n25703  131258      False    False  False    False   False   False    False   \n25704  131260      False    False  False    False   False   False    False   \n\n       Thriller  Mystery  ...  (no genres listed)  Crime  Film-Noir  Drama  \\\n0         False    False  ...               False  False      False  False   \n1         False    False  ...               False  False      False  False   \n2         False    False  ...               False  False      False  False   \n3         False    False  ...               False  False      False   True   \n4         False    False  ...               False  False      False  False   \n...         ...      ...  ...                 ...    ...        ...    ...   \n25700     False    False  ...               False  False      False  False   \n25701     False    False  ...               False  False      False  False   \n25702     False    False  ...               False  False      False  False   \n25703     False    False  ...               False  False      False  False   \n25704     False    False  ...                True  False      False  False   \n\n       Adventure  Horror  Western  Documentary   IMAX  Children  \n0           True   False    False        False  False      True  \n1           True   False    False        False  False      True  \n2          False   False    False        False  False     False  \n3          False   False    False        False  False     False  \n4          False   False    False        False  False     False  \n...          ...     ...      ...          ...    ...       ...  \n25700      False    True    False        False  False     False  \n25701      False   False    False        False  False     False  \n25702      False   False    False        False  False     False  \n25703       True   False    False        False  False     False  \n25704      False   False    False        False  False     False  \n\n[25705 rows x 21 columns]",
      "text/html": "<div>\n<style scoped>\n    .dataframe tbody tr th:only-of-type {\n        vertical-align: middle;\n    }\n\n    .dataframe tbody tr th {\n        vertical-align: top;\n    }\n\n    .dataframe thead th {\n        text-align: right;\n    }\n</style>\n<table border=\"1\" class=\"dataframe\">\n  <thead>\n    <tr style=\"text-align: right;\">\n      <th></th>\n      <th>item</th>\n      <th>Animation</th>\n      <th>Fantasy</th>\n      <th>War</th>\n      <th>Romance</th>\n      <th>Action</th>\n      <th>Sci-Fi</th>\n      <th>Musical</th>\n      <th>Thriller</th>\n      <th>Mystery</th>\n      <th>...</th>\n      <th>(no genres listed)</th>\n      <th>Crime</th>\n      <th>Film-Noir</th>\n      <th>Drama</th>\n      <th>Adventure</th>\n      <th>Horror</th>\n      <th>Western</th>\n      <th>Documentary</th>\n      <th>IMAX</th>\n      <th>Children</th>\n    </tr>\n  </thead>\n  <tbody>\n    <tr>\n      <th>0</th>\n      <td>1</td>\n      <td>True</td>\n      <td>True</td>\n      <td>False</td>\n      <td>False</td>\n      <td>False</td>\n      <td>False</td>\n      <td>False</td>\n      <td>False</td>\n      <td>False</td>\n      <td>...</td>\n      <td>False</td>\n      <td>False</td>\n      <td>False</td>\n      <td>False</td>\n      <td>True</td>\n      <td>False</td>\n      <td>False</td>\n      <td>False</td>\n      <td>False</td>\n      <td>True</td>\n    </tr>\n    <tr>\n      <th>1</th>\n      <td>2</td>\n      <td>False</td>\n      <td>True</td>\n      <td>False</td>\n      <td>False</td>\n      <td>False</td>\n      <td>False</td>\n      <td>False</td>\n      <td>False</td>\n      <td>False</td>\n      <td>...</td>\n      <td>False</td>\n      <td>False</td>\n      <td>False</td>\n      <td>False</td>\n      <td>True</td>\n      <td>False</td>\n      <td>False</td>\n      <td>False</td>\n      <td>False</td>\n      <td>True</td>\n    </tr>\n    <tr>\n      <th>2</th>\n      <td>3</td>\n      <td>False</td>\n      <td>False</td>\n      <td>False</td>\n      <td>True</td>\n      <td>False</td>\n      <td>False</td>\n      <td>False</td>\n      <td>False</td>\n      <td>False</td>\n      <td>...</td>\n      <td>False</td>\n      <td>False</td>\n      <td>False</td>\n      <td>False</td>\n      <td>False</td>\n      <td>False</td>\n      <td>False</td>\n      <td>False</td>\n      <td>False</td>\n      <td>False</td>\n    </tr>\n    <tr>\n      <th>3</th>\n      <td>4</td>\n      <td>False</td>\n      <td>False</td>\n      <td>False</td>\n      <td>True</td>\n      <td>False</td>\n      <td>False</td>\n      <td>False</td>\n      <td>False</td>\n      <td>False</td>\n      <td>...</td>\n      <td>False</td>\n      <td>False</td>\n      <td>False</td>\n      <td>True</td>\n      <td>False</td>\n      <td>False</td>\n      <td>False</td>\n      <td>False</td>\n      <td>False</td>\n      <td>False</td>\n    </tr>\n    <tr>\n      <th>4</th>\n      <td>5</td>\n      <td>False</td>\n      <td>False</td>\n      <td>False</td>\n      <td>False</td>\n      <td>False</td>\n      <td>False</td>\n      <td>False</td>\n      <td>False</td>\n      <td>False</td>\n      <td>...</td>\n      <td>False</td>\n      <td>False</td>\n      <td>False</td>\n      <td>False</td>\n      <td>False</td>\n      <td>False</td>\n      <td>False</td>\n      <td>False</td>\n      <td>False</td>\n      <td>False</td>\n    </tr>\n    <tr>\n      <th>...</th>\n      <td>...</td>\n      <td>...</td>\n      <td>...</td>\n      <td>...</td>\n      <td>...</td>\n      <td>...</td>\n      <td>...</td>\n      <td>...</td>\n      <td>...</td>\n      <td>...</td>\n      <td>...</td>\n      <td>...</td>\n      <td>...</td>\n      <td>...</td>\n      <td>...</td>\n      <td>...</td>\n      <td>...</td>\n      <td>...</td>\n      <td>...</td>\n      <td>...</td>\n      <td>...</td>\n    </tr>\n    <tr>\n      <th>25700</th>\n      <td>131252</td>\n      <td>False</td>\n      <td>False</td>\n      <td>False</td>\n      <td>False</td>\n      <td>False</td>\n      <td>False</td>\n      <td>False</td>\n      <td>False</td>\n      <td>False</td>\n      <td>...</td>\n      <td>False</td>\n      <td>False</td>\n      <td>False</td>\n      <td>False</td>\n      <td>False</td>\n      <td>True</td>\n      <td>False</td>\n      <td>False</td>\n      <td>False</td>\n      <td>False</td>\n    </tr>\n    <tr>\n      <th>25701</th>\n      <td>131254</td>\n      <td>False</td>\n      <td>False</td>\n      <td>False</td>\n      <td>False</td>\n      <td>False</td>\n      <td>False</td>\n      <td>False</td>\n      <td>False</td>\n      <td>False</td>\n      <td>...</td>\n      <td>False</td>\n      <td>False</td>\n      <td>False</td>\n      <td>False</td>\n      <td>False</td>\n      <td>False</td>\n      <td>False</td>\n      <td>False</td>\n      <td>False</td>\n      <td>False</td>\n    </tr>\n    <tr>\n      <th>25702</th>\n      <td>131256</td>\n      <td>False</td>\n      <td>False</td>\n      <td>False</td>\n      <td>False</td>\n      <td>False</td>\n      <td>False</td>\n      <td>False</td>\n      <td>False</td>\n      <td>False</td>\n      <td>...</td>\n      <td>False</td>\n      <td>False</td>\n      <td>False</td>\n      <td>False</td>\n      <td>False</td>\n      <td>False</td>\n      <td>False</td>\n      <td>False</td>\n      <td>False</td>\n      <td>False</td>\n    </tr>\n    <tr>\n      <th>25703</th>\n      <td>131258</td>\n      <td>False</td>\n      <td>False</td>\n      <td>False</td>\n      <td>False</td>\n      <td>False</td>\n      <td>False</td>\n      <td>False</td>\n      <td>False</td>\n      <td>False</td>\n      <td>...</td>\n      <td>False</td>\n      <td>False</td>\n      <td>False</td>\n      <td>False</td>\n      <td>True</td>\n      <td>False</td>\n      <td>False</td>\n      <td>False</td>\n      <td>False</td>\n      <td>False</td>\n    </tr>\n    <tr>\n      <th>25704</th>\n      <td>131260</td>\n      <td>False</td>\n      <td>False</td>\n      <td>False</td>\n      <td>False</td>\n      <td>False</td>\n      <td>False</td>\n      <td>False</td>\n      <td>False</td>\n      <td>False</td>\n      <td>...</td>\n      <td>True</td>\n      <td>False</td>\n      <td>False</td>\n      <td>False</td>\n      <td>False</td>\n      <td>False</td>\n      <td>False</td>\n      <td>False</td>\n      <td>False</td>\n      <td>False</td>\n    </tr>\n  </tbody>\n</table>\n<p>25705 rows × 21 columns</p>\n</div>"
     },
     "metadata": {},
     "output_type": "display_data"
    }
   ],
   "source": [
    "\n",
    "for item in genre_df.index:\n",
    "    genres = genre_df.loc[item, 'genres']\n",
    "    genre_list = genres.split('|')\n",
    "    for genre in genre_list:\n",
    "        genre_df.at[item, genre] = True\n",
    "\n",
    "genre_df = genre_df.drop(['genres'], axis=1)\n",
    "genre_df = genre_df.reset_index()\n",
    "\n",
    "display(genre_df)"
   ],
   "metadata": {
    "collapsed": false,
    "pycharm": {
     "name": "#%%\n"
    }
   }
  },
  {
   "cell_type": "code",
   "execution_count": 11,
   "outputs": [
    {
     "data": {
      "text/plain": "               tag\nitem              \n1       friendship\n1        animation\n1         animated\n1        adventure\n1        animation\n...            ...\n131258       Korea\n131258     bandits\n131258       whale\n131258     pirates\n131258      mutiny\n\n[465564 rows x 1 columns]",
      "text/html": "<div>\n<style scoped>\n    .dataframe tbody tr th:only-of-type {\n        vertical-align: middle;\n    }\n\n    .dataframe tbody tr th {\n        vertical-align: top;\n    }\n\n    .dataframe thead th {\n        text-align: right;\n    }\n</style>\n<table border=\"1\" class=\"dataframe\">\n  <thead>\n    <tr style=\"text-align: right;\">\n      <th></th>\n      <th>tag</th>\n    </tr>\n    <tr>\n      <th>item</th>\n      <th></th>\n    </tr>\n  </thead>\n  <tbody>\n    <tr>\n      <th>1</th>\n      <td>friendship</td>\n    </tr>\n    <tr>\n      <th>1</th>\n      <td>animation</td>\n    </tr>\n    <tr>\n      <th>1</th>\n      <td>animated</td>\n    </tr>\n    <tr>\n      <th>1</th>\n      <td>adventure</td>\n    </tr>\n    <tr>\n      <th>1</th>\n      <td>animation</td>\n    </tr>\n    <tr>\n      <th>...</th>\n      <td>...</td>\n    </tr>\n    <tr>\n      <th>131258</th>\n      <td>Korea</td>\n    </tr>\n    <tr>\n      <th>131258</th>\n      <td>bandits</td>\n    </tr>\n    <tr>\n      <th>131258</th>\n      <td>whale</td>\n    </tr>\n    <tr>\n      <th>131258</th>\n      <td>pirates</td>\n    </tr>\n    <tr>\n      <th>131258</th>\n      <td>mutiny</td>\n    </tr>\n  </tbody>\n</table>\n<p>465564 rows × 1 columns</p>\n</div>"
     },
     "metadata": {},
     "output_type": "display_data"
    }
   ],
   "source": [
    "tags_df = pd.DataFrame(pd.read_csv(data_folder + \"/tags.csv\"))\n",
    "tags_df = tags_df.rename(columns={'movieId': 'item'})\n",
    "tags_df = tags_df.drop(['timestamp', 'userId'], axis=1)\n",
    "tags_df = tags_df.sort_values(by=\"item\", ascending=True)\n",
    "tags_df = tags_df.set_index('item')\n",
    "# tags_df.index = np.arrange(len(tags_df.index))\n",
    "display(tags_df)"
   ],
   "metadata": {
    "collapsed": false,
    "pycharm": {
     "name": "#%%\n"
    }
   }
  },
  {
   "cell_type": "markdown",
   "source": [
    "Method to find power set of favourite movies"
   ],
   "metadata": {
    "collapsed": false
   }
  },
  {
   "cell_type": "markdown",
   "source": [],
   "metadata": {
    "collapsed": false,
    "pycharm": {
     "name": "#%% md\n"
    }
   }
  },
  {
   "cell_type": "code",
   "execution_count": 22,
   "outputs": [
    {
     "data": {
      "text/plain": "               tag\nitem              \n1       friendship\n1        animation\n1         animated\n1        adventure\n1        animation\n...            ...\n131258       korea\n131258     bandits\n131258       whale\n131258     pirates\n131258      mutiny\n\n[465564 rows x 1 columns]",
      "text/html": "<div>\n<style scoped>\n    .dataframe tbody tr th:only-of-type {\n        vertical-align: middle;\n    }\n\n    .dataframe tbody tr th {\n        vertical-align: top;\n    }\n\n    .dataframe thead th {\n        text-align: right;\n    }\n</style>\n<table border=\"1\" class=\"dataframe\">\n  <thead>\n    <tr style=\"text-align: right;\">\n      <th></th>\n      <th>tag</th>\n    </tr>\n    <tr>\n      <th>item</th>\n      <th></th>\n    </tr>\n  </thead>\n  <tbody>\n    <tr>\n      <th>1</th>\n      <td>friendship</td>\n    </tr>\n    <tr>\n      <th>1</th>\n      <td>animation</td>\n    </tr>\n    <tr>\n      <th>1</th>\n      <td>animated</td>\n    </tr>\n    <tr>\n      <th>1</th>\n      <td>adventure</td>\n    </tr>\n    <tr>\n      <th>1</th>\n      <td>animation</td>\n    </tr>\n    <tr>\n      <th>...</th>\n      <td>...</td>\n    </tr>\n    <tr>\n      <th>131258</th>\n      <td>korea</td>\n    </tr>\n    <tr>\n      <th>131258</th>\n      <td>bandits</td>\n    </tr>\n    <tr>\n      <th>131258</th>\n      <td>whale</td>\n    </tr>\n    <tr>\n      <th>131258</th>\n      <td>pirates</td>\n    </tr>\n    <tr>\n      <th>131258</th>\n      <td>mutiny</td>\n    </tr>\n  </tbody>\n</table>\n<p>465564 rows × 1 columns</p>\n</div>"
     },
     "metadata": {},
     "output_type": "display_data"
    }
   ],
   "source": [
    "def clean_tags(row):\n",
    "    return str(row['tag']).strip().lower()\n",
    "\n",
    "tags_df['tag'] = tags_df.apply(clean_tags, axis=1, result_type='expand')\n",
    "display(tags_df)"
   ],
   "metadata": {
    "collapsed": false,
    "pycharm": {
     "name": "#%%\n"
    }
   }
  },
  {
   "cell_type": "code",
   "execution_count": 41,
   "outputs": [
    {
     "data": {
      "text/plain": "{1: 3.9,\n 2: 3.2,\n 3: 3.2,\n 4: 2.9,\n 5: 3.1,\n 6: 3.8,\n 7: 3.4,\n 8: 3.1,\n 9: 3.0,\n 10: 3.4,\n 11: 3.7,\n 12: 2.6,\n 13: 3.3,\n 14: 3.4,\n 15: 2.7,\n 16: 3.8,\n 17: 4.0,\n 18: 3.4,\n 19: 2.6,\n 20: 2.9,\n 21: 3.6,\n 22: 3.3,\n 23: 3.1,\n 24: 3.2,\n 25: 3.7,\n 26: 3.6,\n 27: 3.4,\n 28: 4.1,\n 29: 4.0,\n 30: 3.6,\n 31: 3.3,\n 32: 3.9,\n 33: 3.0,\n 34: 3.6,\n 35: 3.5,\n 36: 3.9,\n 37: 3.0,\n 38: 2.9,\n 39: 3.4,\n 40: 3.6,\n 41: 3.9,\n 42: 3.1,\n 43: 3.5,\n 44: 2.7,\n 45: 3.4,\n 46: 3.3,\n 47: 4.1,\n 48: 2.9,\n 49: 3.6,\n 50: 4.3,\n 51: 2.6,\n 52: 3.5,\n 53: 3.7,\n 54: 2.9,\n 55: 3.2,\n 56: 1.9,\n 57: 3.3,\n 58: 4.0,\n 59: 3.6,\n 60: 3.1,\n 61: 3.3,\n 62: 3.7,\n 63: 3.1,\n 64: 2.8,\n 65: 2.4,\n 66: 2.1,\n 67: 3.4,\n 68: 3.4,\n 69: 3.6,\n 70: 3.3,\n 71: 2.4,\n 72: 3.5,\n 73: 3.8,\n 74: 3.3,\n 75: 2.5,\n 76: 3.0,\n 77: 3.4,\n 78: 3.2,\n 79: 3.1,\n 80: 3.7,\n 81: 3.3,\n 82: 4.0,\n 83: 3.7,\n 84: 3.4,\n 85: 3.5,\n 86: 3.5,\n 87: 2.4,\n 88: 3.1,\n 89: 3.1,\n 90: 3.4,\n 92: 2.9,\n 93: 2.5,\n 94: 3.5,\n 95: 3.1,\n 96: 3.7,\n 97: 4.0,\n 98: 2.5,\n 99: 3.1,\n 100: 3.2,\n 101: 3.8,\n 102: 2.4,\n 103: 3.3,\n 104: 3.4,\n 105: 3.3,\n 106: 3.4,\n 107: 3.2,\n 108: 3.1,\n 109: 2.1,\n 110: 4.0,\n 111: 4.1,\n 112: 3.4,\n 113: 3.1,\n 114: 3.6,\n 115: 3.4,\n 116: 3.9,\n 117: 3.6,\n 118: 3.0,\n 119: 2.8,\n 120: 2.9,\n 121: 3.8,\n 122: 2.9,\n 123: 4.0,\n 124: 3.5,\n 125: 3.8,\n 126: 2.3,\n 127: 3.3,\n 128: 3.5,\n 129: 3.2,\n 130: 3.1,\n 131: 3.3,\n 132: 2.8,\n 133: 2.6,\n 134: 3.7,\n 135: 3.0,\n 136: 3.5,\n 137: 3.3,\n 138: 3.3,\n 139: 3.1,\n 140: 3.3,\n 141: 3.5,\n 142: 3.1,\n 143: 2.1,\n 144: 3.5,\n 145: 3.3,\n 146: 2.9,\n 147: 3.6,\n 148: 2.9,\n 149: 3.7,\n 150: 3.9,\n 151: 3.5,\n 152: 3.1,\n 153: 2.9,\n 154: 3.8,\n 155: 3.4,\n 156: 3.5,\n 157: 2.8,\n 158: 2.9,\n 159: 3.4,\n 160: 2.6,\n 161: 3.7,\n 162: 4.0,\n 163: 3.4,\n 164: 3.5,\n 165: 3.5,\n 166: 2.8,\n 167: 3.2,\n 168: 3.1,\n 169: 2.3,\n 170: 3.2,\n 171: 3.6,\n 172: 2.7,\n 173: 2.5,\n 174: 2.5,\n 175: 3.5,\n 176: 3.9,\n 177: 2.9,\n 178: 3.4,\n 179: 2.8,\n 180: 3.6,\n 181: 1.9,\n 182: 3.1,\n 183: 3.4,\n 184: 3.1,\n 185: 3.1,\n 186: 2.9,\n 187: 3.5,\n 188: 3.3,\n 189: 3.0,\n 190: 3.6,\n 191: 2.7,\n 192: 3.0,\n 193: 2.2,\n 194: 3.8,\n 195: 3.1,\n 196: 2.9,\n 197: 3.1,\n 198: 3.4,\n 199: 3.8,\n 200: 2.8,\n 201: 3.0,\n 202: 3.0,\n 203: 3.1,\n 204: 2.9,\n 205: 3.5,\n 206: 3.5,\n 207: 3.4,\n 208: 2.9,\n 209: 2.8,\n 210: 2.9,\n 211: 3.6,\n 212: 2.6,\n 213: 4.0,\n 214: 4.0,\n 215: 3.8,\n 216: 3.3,\n 217: 2.7,\n 218: 3.3,\n 219: 3.6,\n 220: 2.4,\n 222: 3.5,\n 223: 3.9,\n 224: 3.4,\n 225: 3.3,\n 226: 2.8,\n 227: 3.1,\n 228: 2.7,\n 229: 3.6,\n 230: 3.6,\n 231: 3.0,\n 232: 4.0,\n 233: 3.5,\n 234: 2.7,\n 235: 3.7,\n 236: 3.3,\n 237: 3.2,\n 238: 3.2,\n 239: 3.1,\n 240: 2.9,\n 241: 3.0,\n 242: 3.4,\n 243: 2.5,\n 244: 2.4,\n 245: 3.0,\n 246: 4.0,\n 247: 3.8,\n 248: 3.0,\n 249: 3.7,\n 250: 3.0,\n 251: 3.1,\n 252: 3.2,\n 253: 3.5,\n 254: 2.9,\n 255: 2.3,\n 256: 2.7,\n 257: 3.4,\n 258: 2.6,\n 259: 3.1,\n 260: 4.2,\n 261: 3.6,\n 262: 3.8,\n 263: 3.7,\n 264: 3.3,\n 265: 3.9,\n 266: 3.5,\n 267: 2.9,\n 268: 3.3,\n 269: 3.5,\n 270: 3.2,\n 271: 3.3,\n 272: 3.8,\n 273: 3.1,\n 274: 2.9,\n 275: 2.7,\n 276: 3.0,\n 277: 3.4,\n 278: 3.0,\n 279: 3.7,\n 280: 3.7,\n 281: 3.7,\n 282: 3.4,\n 283: 3.1,\n 284: 2.9,\n 285: 2.3,\n 286: 2.0,\n 287: 3.2,\n 288: 3.2,\n 289: 3.3,\n 290: 4.0,\n 291: 2.3,\n 292: 3.4,\n 293: 4.1,\n 294: 3.2,\n 295: 2.8,\n 296: 4.2,\n 297: 3.1,\n 298: 3.5,\n 299: 3.7,\n 300: 3.7,\n 301: 3.5,\n 302: 3.8,\n 303: 3.0,\n 304: 3.2,\n 305: 2.7,\n 306: 4.1,\n 307: 4.0,\n 308: 3.9,\n 309: 3.6,\n 310: 2.8,\n 311: 2.7,\n 312: 2.6,\n 313: 3.0,\n 314: 3.8,\n 315: 2.9,\n 316: 3.4,\n 317: 3.1,\n 318: 4.4,\n 319: 3.8,\n 320: 3.2,\n 321: 3.8,\n 322: 3.7,\n 324: 3.7,\n 325: 2.6,\n 326: 4.1,\n 327: 2.8,\n 328: 3.2,\n 329: 3.3,\n 330: 2.8,\n 331: 3.3,\n 332: 2.8,\n 333: 3.3,\n 334: 3.8,\n 335: 3.3,\n 336: 2.9,\n 337: 3.8,\n 338: 3.0,\n 339: 3.5,\n 340: 3.4,\n 341: 3.6,\n 342: 3.5,\n 343: 2.6,\n 344: 3.0,\n 345: 3.6,\n 346: 3.4,\n 347: 3.4,\n 348: 3.7,\n 349: 3.7,\n 350: 3.5,\n 351: 3.3,\n 352: 3.3,\n 353: 3.5,\n 354: 3.2,\n 355: 2.4,\n 356: 4.0,\n 357: 3.7,\n 358: 3.2,\n 359: 3.3,\n 360: 2.7,\n 361: 3.3,\n 362: 3.4,\n 363: 4.0,\n 364: 3.8,\n 365: 3.2,\n 366: 3.0,\n 367: 3.2,\n 368: 3.4,\n 369: 3.3,\n 370: 3.0,\n 371: 3.3,\n 372: 3.3,\n 373: 3.8,\n 374: 2.4,\n 375: 3.3,\n 376: 3.3,\n 377: 3.5,\n 378: 3.1,\n 379: 2.7,\n 380: 3.5,\n 381: 3.4,\n 382: 3.0,\n 383: 3.2,\n 384: 3.0,\n 385: 3.6,\n 386: 2.8,\n 387: 2.7,\n 388: 3.6,\n 389: 3.5,\n 390: 3.4,\n 391: 3.2,\n 392: 3.3,\n 393: 1.9,\n 394: 3.3,\n 395: 3.1,\n 396: 2.5,\n 397: 2.2,\n 398: 3.4,\n 399: 2.2,\n 400: 2.5,\n 401: 3.2,\n 402: 2.9,\n 403: 1.8,\n 404: 3.3,\n 405: 2.5,\n 406: 3.1,\n 407: 3.1,\n 408: 3.2,\n 409: 3.0,\n 410: 3.0,\n 411: 2.8,\n 412: 3.6,\n 413: 2.8,\n 414: 2.6,\n 415: 2.8,\n 416: 2.7,\n 417: 3.5,\n 418: 2.7,\n 419: 2.5,\n 420: 2.7,\n 421: 3.3,\n 422: 3.2,\n 423: 3.0,\n 424: 2.7,\n 425: 3.5,\n 426: 3.1,\n 427: 2.5,\n 428: 3.8,\n 429: 2.4,\n 430: 2.3,\n 431: 3.7,\n 432: 2.7,\n 433: 2.9,\n 434: 3.1,\n 435: 2.6,\n 436: 2.6,\n 437: 2.6,\n 438: 2.7,\n 439: 2.6,\n 440: 3.6,\n 441: 3.7,\n 442: 3.0,\n 443: 3.3,\n 444: 2.4,\n 445: 2.9,\n 446: 3.9,\n 447: 2.5,\n 448: 3.6,\n 449: 3.5,\n 450: 3.4,\n 451: 3.1,\n 452: 3.6,\n 453: 3.1,\n 454: 3.5,\n 455: 2.6,\n 456: 3.8,\n 457: 4.0,\n 458: 3.2,\n 459: 2.8,\n 460: 2.4,\n 461: 3.3,\n 462: 2.6,\n 463: 2.8,\n 464: 2.9,\n 465: 3.3,\n 466: 2.9,\n 467: 3.4,\n 468: 3.3,\n 469: 3.3,\n 470: 2.1,\n 471: 3.7,\n 472: 2.9,\n 473: 2.3,\n 474: 3.7,\n 475: 3.9,\n 476: 3.0,\n 477: 3.5,\n 478: 2.4,\n 479: 2.9,\n 480: 3.7,\n 481: 3.3,\n 482: 3.4,\n 483: 3.8,\n 484: 2.8,\n 485: 2.8,\n 486: 2.7,\n 487: 2.6,\n 488: 3.4,\n 489: 2.8,\n 490: 3.4,\n 491: 3.4,\n 492: 3.7,\n 493: 3.6,\n 494: 3.4,\n 495: 3.5,\n 496: 3.3,\n 497: 3.9,\n 498: 2.8,\n 499: 2.8,\n 500: 3.4,\n 501: 3.8,\n 502: 2.3,\n 503: 3.1,\n 504: 3.0,\n 505: 2.5,\n 506: 3.5,\n 507: 3.5,\n 508: 3.8,\n 509: 3.7,\n 510: 2.7,\n 511: 3.1,\n 512: 2.9,\n 513: 2.9,\n 514: 3.5,\n 515: 3.9,\n 516: 3.1,\n 517: 3.1,\n 518: 2.7,\n 519: 2.2,\n 520: 3.0,\n 521: 3.3,\n 522: 3.6,\n 523: 3.7,\n 524: 3.5,\n 525: 3.4,\n 526: 3.2,\n 527: 4.3,\n 528: 2.8,\n 529: 3.9,\n 530: 3.1,\n 531: 3.5,\n 532: 3.1,\n 533: 2.9,\n 534: 3.9,\n 535: 3.8,\n 536: 3.3,\n 537: 3.2,\n 538: 3.7,\n 539: 3.5,\n 540: 2.7,\n 541: 4.1,\n 542: 2.9,\n 543: 3.2,\n 544: 2.9,\n 545: 2.6,\n 546: 2.1,\n 547: 2.8,\n 548: 2.9,\n 549: 3.9,\n 550: 3.1,\n 551: 3.7,\n 552: 3.2,\n 553: 3.7,\n 554: 3.1,\n 555: 3.8,\n 556: 4.0,\n 558: 2.8,\n 559: 2.9,\n 560: 3.1,\n 561: 3.5,\n 562: 3.8,\n 563: 3.4,\n 564: 2.3,\n 565: 3.2,\n 566: 2.8,\n 567: 3.3,\n 568: 3.6,\n 569: 2.9,\n 570: 3.5,\n 571: 3.6,\n 572: 2.7,\n 573: 3.4,\n 574: 3.3,\n 575: 3.0,\n 576: 2.5,\n 577: 2.8,\n 579: 3.0,\n 580: 3.1,\n 581: 4.0,\n 582: 3.4,\n 583: 3.5,\n 584: 3.0,\n 585: 2.7,\n 586: 3.1,\n 587: 3.4,\n 588: 3.7,\n 589: 3.9,\n 590: 3.7,\n 591: 2.0,\n 592: 3.4,\n 593: 4.2,\n 594: 3.6,\n 595: 3.7,\n 596: 3.5,\n 597: 3.4,\n 598: 3.6,\n 599: 4.0,\n 600: 3.0,\n 601: 3.4,\n 602: 4.0,\n 603: 3.0,\n 604: 1.9,\n 605: 3.3,\n 606: 2.6,\n 607: 2.6,\n 608: 4.1,\n 609: 3.0,\n 610: 3.4,\n 611: 2.5,\n 612: 2.7,\n 613: 3.6,\n 614: 3.1,\n 615: 3.9,\n 616: 3.4,\n 617: 3.6,\n 618: 2.8,\n 619: 2.6,\n 620: 3.4,\n 621: 3.6,\n 623: 3.1,\n 624: 2.7,\n 625: 3.3,\n 626: 2.9,\n 627: 3.5,\n 628: 3.8,\n 629: 3.1,\n 630: 3.3,\n 631: 2.7,\n 632: 3.9,\n 633: 3.4,\n 634: 2.3,\n 635: 3.6,\n 636: 2.9,\n 637: 2.8,\n 638: 3.3,\n 639: 2.9,\n 640: 3.0,\n 641: 2.5,\n 642: 2.0,\n 643: 2.2,\n 644: 2.1,\n 645: 3.6,\n 647: 3.5,\n 648: 3.4,\n 649: 3.7,\n 650: 3.5,\n 651: 2.5,\n 652: 3.0,\n 653: 3.2,\n 654: 2.8,\n 655: 2.2,\n 656: 2.9,\n 657: 2.5,\n 658: 3.0,\n 659: 3.7,\n 660: 3.0,\n 661: 3.3,\n 662: 3.2,\n 663: 3.4,\n 664: 3.1,\n 665: 4.0,\n 666: 3.5,\n 667: 2.5,\n 668: 4.1,\n 670: 4.1,\n 671: 3.7,\n 672: 2.5,\n 673: 2.7,\n 674: 3.0,\n 675: 2.1,\n 676: 2.6,\n 678: 4.1,\n 679: 3.4,\n 680: 3.6,\n 681: 3.6,\n 682: 3.2,\n 683: 2.7,\n 684: 2.5,\n 685: 3.5,\n 687: 3.0,\n 688: 2.6,\n 690: 3.3,\n 691: 3.1,\n 692: 2.3,\n 693: 3.0,\n 694: 3.0,\n 695: 3.2,\n 696: 3.2,\n 697: 2.8,\n 698: 2.8,\n 699: 2.2,\n 700: 3.3,\n 701: 3.2,\n 702: 3.8,\n 703: 2.9,\n 704: 2.8,\n 705: 3.5,\n 706: 3.1,\n 707: 3.1,\n 708: 3.4,\n 709: 3.3,\n 710: 2.7,\n 711: 2.7,\n 712: 3.5,\n 713: 3.5,\n 714: 3.9,\n 715: 3.6,\n 716: 3.0,\n 717: 3.2,\n 718: 3.4,\n 719: 3.0,\n 720: 4.1,\n 721: 3.0,\n 722: 3.6,\n 723: 3.1,\n 724: 3.1,\n 725: 2.8,\n 726: 3.1,\n 727: 3.2,\n 728: 3.8,\n 729: 3.4,\n 730: 3.1,\n 731: 2.9,\n 732: 2.8,\n 733: 3.7,\n 734: 2.6,\n 735: 3.5,\n 736: 3.2,\n 737: 2.1,\n 738: 3.1,\n 739: 2.0,\n 741: 3.9,\n 742: 2.7,\n 743: 2.7,\n 744: 3.0,\n 745: 4.2,\n 746: 3.8,\n 747: 2.3,\n 748: 3.2,\n 749: 2.7,\n 750: 4.2,\n 751: 3.5,\n 752: 2.8,\n 753: 3.3,\n 754: 2.9,\n 755: 3.4,\n 756: 3.2,\n 757: 3.7,\n 758: 3.0,\n 759: 3.9,\n 760: 3.7,\n 761: 2.8,\n 762: 2.4,\n 763: 3.0,\n 764: 3.4,\n 765: 3.0,\n 766: 3.5,\n 767: 3.5,\n 768: 3.0,\n 769: 3.6,\n 770: 2.6,\n 771: 3.4,\n 772: 2.9,\n 773: 3.3,\n 774: 2.7,\n 775: 2.9,\n 776: 2.9,\n 777: 2.8,\n 778: 4.0,\n 779: 2.8,\n 780: 3.4,\n 781: 3.4,\n 782: 2.9,\n 783: 3.3,\n 784: 2.7,\n 785: 3.3,\n 786: 3.1,\n 787: 3.8,\n 788: 2.9,\n 789: 3.0,\n 790: 3.5,\n 791: 3.6,\n 792: 3.0,\n 793: 3.2,\n 794: 3.4,\n 795: 3.2,\n 796: 2.9,\n 797: 3.4,\n 798: 2.8,\n 799: 3.4,\n 800: 4.1,\n 801: 3.0,\n 802: 3.5,\n 803: 3.6,\n 804: 3.1,\n 805: 3.7,\n 806: 3.2,\n 807: 3.3,\n 808: 3.2,\n 809: 2.9,\n 810: 1.8,\n 812: 2.4,\n 813: 2.8,\n 814: 3.1,\n 815: 2.0,\n 816: 3.2,\n 818: 2.6,\n 819: 3.4,\n 820: 2.8,\n 821: 3.0,\n 822: 3.2,\n 823: 3.3,\n 824: 3.8,\n 825: 2.7,\n 826: 2.2,\n 827: 3.1,\n 828: 3.2,\n 829: 2.7,\n 830: 3.1,\n 831: 3.5,\n 832: 3.5,\n 833: 2.7,\n 834: 2.6,\n 835: 3.2,\n 836: 2.9,\n 837: 3.4,\n 838: 3.8,\n 839: 2.7,\n 840: 2.7,\n 841: 3.7,\n 842: 2.8,\n 843: 3.3,\n 844: 3.7,\n 845: 3.4,\n 846: 3.5,\n 847: 2.8,\n 848: 3.7,\n 849: 2.7,\n 850: 3.5,\n 851: 3.5,\n 852: 3.2,\n 853: 3.3,\n 854: 3.7,\n 855: 2.8,\n 856: 3.4,\n 857: 3.3,\n 858: 4.4,\n 859: 2.3,\n 860: 3.5,\n 861: 3.5,\n 862: 3.6,\n 864: 3.3,\n 865: 3.3,\n 866: 3.7,\n 867: 2.3,\n 868: 3.1,\n 869: 3.1,\n 870: 2.2,\n 871: 3.2,\n 872: 3.5,\n 873: 3.0,\n 874: 3.1,\n 875: 3.4,\n 876: 2.7,\n 877: 3.2,\n 878: 2.8,\n 879: 2.8,\n 880: 2.5,\n 881: 2.8,\n 882: 3.0,\n 884: 3.3,\n 885: 2.7,\n 886: 3.1,\n 887: 2.9,\n 888: 2.3,\n 889: 3.4,\n 890: 3.0,\n 891: 2.6,\n 892: 3.7,\n 893: 3.7,\n 894: 2.6,\n 895: 3.0,\n 896: 3.7,\n 897: 3.7,\n 898: 4.2,\n 899: 4.1,\n 900: 3.8,\n 901: 3.6,\n 902: 3.9,\n 903: 4.1,\n 904: 4.3,\n 905: 4.2,\n 906: 4.0,\n 907: 3.9,\n 908: 4.2,\n 909: 4.0,\n 910: 4.1,\n 911: 4.1,\n 912: 4.3,\n 913: 4.2,\n 914: 3.9,\n 916: 4.1,\n 917: 3.6,\n 918: 3.7,\n 919: 4.0,\n 920: 3.8,\n 921: 3.8,\n 922: 4.3,\n 923: 4.1,\n 924: 4.0,\n 925: 3.5,\n 926: 4.2,\n 927: 4.0,\n 928: 4.1,\n 929: 3.9,\n 930: 4.2,\n 931: 3.9,\n 932: 3.8,\n 933: 4.0,\n 934: 3.5,\n 935: 3.8,\n 936: 4.0,\n 937: 3.7,\n 938: 3.6,\n 939: 3.3,\n 940: 3.9,\n 941: 3.6,\n 942: 4.1,\n 943: 3.8,\n 944: 3.8,\n 945: 4.1,\n 946: 4.0,\n 947: 4.1,\n 948: 3.7,\n 949: 3.9,\n 950: 4.2,\n 951: 4.2,\n 952: 3.5,\n 953: 4.1,\n 954: 4.0,\n 955: 4.1,\n 956: 3.5,\n 958: 3.2,\n 959: 3.7,\n 960: 3.5,\n 961: 3.4,\n 962: 3.4,\n 963: 3.6,\n 964: 3.4,\n 965: 4.0,\n 966: 3.5,\n 967: 2.8,\n 968: 3.6,\n 969: 4.1,\n 970: 3.5,\n 971: 3.9,\n 972: 3.1,\n 973: 3.9,\n 974: 3.4,\n 975: 2.9,\n 976: 3.5,\n 977: 2.0,\n 979: 3.2,\n 980: 3.1,\n 981: 2.6,\n 982: 3.7,\n 983: 2.6,\n 984: 2.7,\n 985: 3.4,\n 986: 3.5,\n 987: 3.2,\n 988: 3.4,\n 989: 3.4,\n 990: 2.7,\n 991: 3.6,\n 992: 2.7,\n 993: 3.5,\n 994: 4.0,\n 996: 3.0,\n 997: 3.6,\n 998: 3.2,\n 999: 3.3,\n 1000: 3.1,\n 1001: 2.7,\n 1002: 3.5,\n 1003: 3.1,\n 1004: 2.7,\n 1005: 2.5,\n 1006: 3.2,\n 1007: 2.9,\n 1008: 3.3,\n 1009: 3.1,\n 1010: 3.1,\n 1011: 2.7,\n 1012: 3.6,\n 1013: 3.4,\n 1014: 3.4,\n 1015: 3.3,\n 1016: 3.1,\n 1017: 3.5,\n 1018: 3.1,\n 1019: 3.5,\n 1020: 3.2,\n ...}"
     },
     "metadata": {},
     "output_type": "display_data"
    }
   ],
   "source": [
    "average_rating = {}\n",
    "for item in list(movies_df.item):\n",
    "    item_rating = ratings_df.loc[ratings_df['item'] == item]\n",
    "    average_rating[item] = round(np.mean(item_rating.rating), 1)\n",
    "\n",
    "\n",
    "display(average_rating)"
   ],
   "metadata": {
    "collapsed": false,
    "pycharm": {
     "name": "#%%\n"
    }
   }
  },
  {
   "cell_type": "code",
   "execution_count": null,
   "outputs": [],
   "source": [
    "average_ratings_df = pd.DataFrame.from_dict(average_rating, orient ='index')\n",
    "average_ratings_df.index.names = ['item']\n",
    "average_ratings_df.columns = ['average_rating']\n",
    "\n",
    "display(average_ratings_df)"
   ],
   "metadata": {
    "collapsed": false,
    "pycharm": {
     "name": "#%%\n"
    }
   }
  },
  {
   "cell_type": "code",
   "execution_count": 59,
   "outputs": [],
   "source": [
    "preprocessed_dataset_folder = \"./processed_data\"\n",
    "\n",
    "tags_df = tags_df.reset_index()\n",
    "\n",
    "ratings_df.to_csv(preprocessed_dataset_folder + \"/ratings.csv\", index=False)\n",
    "movies_df.to_csv(preprocessed_dataset_folder + \"/movies.csv\", index=False)\n",
    "\n",
    "expert_users.to_csv(preprocessed_dataset_folder + \"/expert_users.csv\", index=False)\n",
    "ratings_genres_df.to_csv(preprocessed_dataset_folder + \"/ratings_genres.csv\", index=False)\n",
    "\n",
    "genre_df.to_csv(preprocessed_dataset_folder + \"/genre.csv\", index=False)\n",
    "tags_df.to_csv(preprocessed_dataset_folder + \"/tags.csv\", index=False)\n",
    "\n",
    "average_ratings_df.to_csv(preprocessed_dataset_folder + \"/average_ratings.csv\", index=True)"
   ],
   "metadata": {
    "collapsed": false,
    "pycharm": {
     "name": "#%%\n"
    }
   }
  }
 ],
 "metadata": {
  "kernelspec": {
   "display_name": "Python 3",
   "language": "python",
   "name": "python3"
  },
  "language_info": {
   "codemirror_mode": {
    "name": "ipython",
    "version": 2
   },
   "file_extension": ".py",
   "mimetype": "text/x-python",
   "name": "python",
   "nbconvert_exporter": "python",
   "pygments_lexer": "ipython2",
   "version": "2.7.6"
  }
 },
 "nbformat": 4,
 "nbformat_minor": 0
}